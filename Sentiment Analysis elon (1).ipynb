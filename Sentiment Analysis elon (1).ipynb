{
 "cells": [
  {
   "cell_type": "code",
   "execution_count": 1,
   "metadata": {},
   "outputs": [],
   "source": [
    "\n"
   ]
  },
  {
   "cell_type": "code",
   "execution_count": 2,
   "metadata": {},
   "outputs": [
    {
     "name": "stderr",
     "output_type": "stream",
     "text": [
      "[nltk_data] Downloading package stopwords to\n",
      "[nltk_data]     C:\\Users\\anand\\AppData\\Roaming\\nltk_data...\n",
      "[nltk_data]   Package stopwords is already up-to-date!\n"
     ]
    }
   ],
   "source": [
    "from IPython.display import display, HTML\n",
    "import sqlite3\n",
    "import os\n",
    "from sqlite3 import Error\n",
    "from vaderSentiment.vaderSentiment import SentimentIntensityAnalyzer\n",
    "import json\n",
    "import datetime\n",
    "import pandas as pd\n",
    "import string\n",
    "import re\n",
    "import nltk\n",
    "nltk.download('stopwords')\n",
    "from nltk.corpus import stopwords\n",
    "from nltk.stem import PorterStemmer\n",
    "from nltk.tokenize import TweetTokenizer\n",
    "import matplotlib.pyplot as plt\n",
    "import plotly.graph_objects as go\n",
    "\n",
    "\n",
    "\n",
    "#function to create a sqllite db file and returns connection\n",
    "def create_connection(db_file, delete_db=False):\n",
    "   if delete_db and os.path.exists(db_file):\n",
    "        os.remove(db_file)\n",
    "    \n",
    "   conn = None\n",
    "   try:\n",
    "       conn = sqlite3.connect(db_file)\n",
    "       conn.execute(\"PRAGMA foreign_keys = 1\")\n",
    "   except Error as e:\n",
    "       print(e)\n",
    "    \n",
    "   return conn\n",
    "\n",
    "#function to Create table \n",
    "def create_table(conn, create_table_sql):\n",
    "    try:\n",
    "        c = conn.cursor()\n",
    "        c.execute(create_table_sql)\n",
    "    except Error as e:\n",
    "        print(e)\n",
    "\n",
    "def execute_sql_statement(sql_statement, conn):\n",
    "    cur = conn.cursor()\n",
    "    cur.execute(sql_statement)\n",
    "    rows = cur.fetchall()\n",
    "    return rows\n",
    "\n",
    "#function to drop the table\n",
    "def drop_table(conn, drop_table_sql):\n",
    "    try:\n",
    "        c = conn.cursor()\n",
    "        c.execute(drop_table_sql)\n",
    "    except Error as e:\n",
    "        pass\n",
    "\n"
   ]
  },
  {
   "cell_type": "code",
   "execution_count": 3,
   "metadata": {},
   "outputs": [],
   "source": [
    "###################################################################################\n",
    "#processtweetdata reads the tweet data from the dataset and extracts\n",
    "#User,Tweet and the Tweet date and time\n",
    "#Inserts formatted data into table\n",
    "###################################################################################\n",
    "\n",
    "month_dict={'January':1,\n",
    "            'February':2,\n",
    "            'March':3,\n",
    "            'April':4,\n",
    "            'May':5,\n",
    "            'June':6,\n",
    "            'July':7,\n",
    "            'August':8,\n",
    "            'September':9,\n",
    "            'October':10,\n",
    "            'November':11,\n",
    "            'December':12}\n",
    "\n",
    "#function to read tweets from the file and returns as list\n",
    "def read_tweetdata(filename):\n",
    "    tweetlist=list()\n",
    "    with open(filename, 'r') as json_file:\n",
    "        json_list = list(json_file)\n",
    "        \n",
    "    for each_line in json_list:\n",
    "        eachtweet = json.loads(each_line)\n",
    "        eachrec=(eachtweet['UserName'],eachtweet['CreatedAt'],eachtweet['Text'])\n",
    "        tweetlist.append(eachrec)\n",
    "        \n",
    "    return tweetlist\n",
    "\n",
    "\n",
    "#function to insert tweets into table\n",
    "def insert_tweetdata(conn, values):\n",
    "    try:\n",
    "        sql = ''' INSERT INTO Tweet_Data(ID,User_ID,Tweet_Text,Creation_dt) VALUES(?,?,?,?) '''\n",
    "        cur = conn.cursor()\n",
    "        cur.execute(sql, values)\n",
    "        return cur.lastrowid  \n",
    "    except Error as e:\n",
    "        print(e)\n",
    "  \n",
    "#function to query all tweets\n",
    "def query_tweetdata(conn):\n",
    "    sql = ''' SELECT * FROM Tweet_Data;'''\n",
    "    cur = conn.cursor()\n",
    "    cur.execute(sql)\n",
    "    alltweets = cur.fetchall()\n",
    "\n",
    "    return alltweets\n",
    "\n",
    "#Function to query data using pandas\n",
    "def query_tweetdatapd(conn):\n",
    "    sql_statement='''SELECT ID,USER_ID,substr(Tweet_Text,1,100) Tweet,Creation_dt FROM Tweet_Data order by Creation_dt limit 5;'''\n",
    "    df = pd.read_sql_query(sql_statement, conn)\n",
    "    display(df)\n",
    "\n",
    "#function to format the tweet date\n",
    "def get_tweetdate(unformatted):\n",
    "    timedatasplit=unformatted.split(\" \")\n",
    "    month=month_dict[timedatasplit[0]]\n",
    "    day=int(timedatasplit[1].strip(','))\n",
    "    year=int(timedatasplit[2])\n",
    "    if timedatasplit[4][5:]==\"PM\" and int(timedatasplit[4][:2])!=12:\n",
    "        HH=int(timedatasplit[4][:2])+12\n",
    "    else:\n",
    "        HH=int(timedatasplit[4][:2])\n",
    "                \n",
    "    MM=int(timedatasplit[4][3:5])\n",
    "    tdate=datetime.datetime(year,month,day,HH,MM)\n",
    "    return tdate\n",
    "            \n",
    "#function to read data from file,pre process and load to database\n",
    "def processtweetdata(conn,dataset):\n",
    "    try:\n",
    "        tweets_list=read_tweetdata(dataset)\n",
    "        \n",
    "        drop_table_sql='''DROP TABLE Tweet_Data;'''\n",
    "        drop_table(conn,drop_table_sql)\n",
    "        \n",
    "        tweet_table=\"CREATE TABLE Tweet_data (ID INTEGER PRIMARY KEY,User_ID TEXT,Tweet_Text TEXT,Creation_dt DATE)\"\n",
    "        create_table(conn,tweet_table)\n",
    "        \n",
    "        count=0\n",
    "        with conn:\n",
    "            for eachrec in tweets_list:\n",
    "                tweetdata=(count+1,eachrec[0],eachrec[2],get_tweetdate(eachrec[1]))\n",
    "                insert_tweetdata(conn,tweetdata)\n",
    "                count+=1\n",
    "        \n",
    "    except Error as e:\n",
    "        print(e)"
   ]
  },
  {
   "cell_type": "code",
   "execution_count": 4,
   "metadata": {},
   "outputs": [],
   "source": [
    "\n",
    "def insert_Tesla(conn, values):    \n",
    "    sql = \" INSERT INTO Tesla_Stock VALUES(?,?,?,?,?,?,?); \"\n",
    "    cur = conn.cursor()\n",
    "    cur.execute(sql,values)\n",
    "    return cur.lastrowid\n",
    "\n",
    "#Function to query data using pandas\n",
    "def query_telsastkdatapd(conn):\n",
    "    sql_statement='''SELECT Date,Open,Higher,Low,Close,Adj,Volume FROM Tesla_Stock order by Date limit 5;'''\n",
    "    df = pd.read_sql_query(sql_statement, conn)\n",
    "    display(df)\n",
    "\n",
    "\n",
    "def processteslastkdata(conn,dataset):\n",
    "    try:\n",
    "        Date =[]\n",
    "        Op=[]\n",
    "        Hig=[]\n",
    "        Lo=[]\n",
    "        Cl=[]\n",
    "        AdCl=[]\n",
    "        Vol=[]\n",
    "        \n",
    "        drop_table_sql='''DROP TABLE Tesla_Stock;'''\n",
    "        drop_table(conn,drop_table_sql)\n",
    "\n",
    "        create_Tesla_Stock_sql = \"\"\"CREATE TABLE Tesla_Stock (\n",
    "                                     Date TEXT  PRIMARY KEY NOT NULL,\n",
    "                                     Open INTEGER  NOT NULL,\n",
    "                                     Higher INTEGER   NOT NULL,\n",
    "                                     Low INTEGER  NOT NULL,\n",
    "                                     Close INTEGER  NOT NULL,\n",
    "                                     Adj INTEGER  NOT NULL,\n",
    "                                     Volume INTEGER    NOT NULL\n",
    "                                     ); \"\"\"\n",
    "\n",
    "        create_table(conn, create_Tesla_Stock_sql)\n",
    "\n",
    "        df = pd.read_csv(dataset)\n",
    "        for value in df['Date']:\n",
    "            Date.append(value)\n",
    "\n",
    "        for value in df['Open']:\n",
    "            value = round(value, 2)\n",
    "            Op.append(value)\n",
    "                        \n",
    "        for value in df['High']:\n",
    "            #print(type(value)) \n",
    "            #print(value)\n",
    "            value = round(value, 2)\n",
    "           # print(value)\n",
    "            Hig.append(value)\n",
    "        for value in df['Low']:\n",
    "            value = round(value, 2)\n",
    "            Lo.append(value)\n",
    "            \n",
    "        for value in df['Close']:\n",
    "            value = round(value, 2)\n",
    "            Cl.append(value)\n",
    "\n",
    "        for value in df['Adj Close']:\n",
    "            value = round(value, 2)\n",
    "            AdCl.append(value)\n",
    "            \n",
    "        for value in df['Volume']:\n",
    "            value = round(value, 2)\n",
    "            Vol.append(value)\n",
    "\n",
    "        minjoin = zip(Date,Op,Hig,Lo,Cl,AdCl,Vol)\n",
    "        with conn:\n",
    "            for kol in minjoin:\n",
    "                insert_Tesla(conn, (kol[0],kol[1],kol[2],kol[3],kol[4],kol[5],kol[6]))        \n",
    "\n",
    "    except Error as e:\n",
    "        print(e)\n"
   ]
  },
  {
   "cell_type": "code",
   "execution_count": 5,
   "metadata": {},
   "outputs": [],
   "source": [
    "\n",
    "stopwords_english =  stopwords.words('english')\n",
    "stemmer = PorterStemmer()\n",
    "\n",
    "emoticons_happy = set([\n",
    "    ':-)', ':)', ';)', ':o)', ':]', ':3', ':c)', ':>', '=]', '8)', '=)', ':}',\n",
    "    ':^)', ':-D', ':D', '8-D', '8D', 'x-D', 'xD', 'X-D', 'XD', '=-D', '=D',\n",
    "    '=-3', '=3', ':-))', \":'-)\", \":')\", ':*', ':^*', '>:P', ':-P', ':P', 'X-P',\n",
    "    'x-p', 'xp', 'XP', ':-p', ':p', '=p', ':-b', ':b', '>:)', '>;)', '>:-)',\n",
    "    '<3'\n",
    "    ])\n",
    " \n",
    "# Sad Emoticons\n",
    "emoticons_sad = set([\n",
    "    ':L', ':-/', '>:/', ':S', '>:[', ':@', ':-(', ':[', ':-||', '=L', ':<',\n",
    "    ':-[', ':-<', '=\\\\', '=/', '>:(', ':(', '>.<', \":'-(\", \":'(\", ':\\\\', ':-c',\n",
    "    ':c', ':{', '>:\\\\', ';('\n",
    "    ])\n",
    " \n",
    "# all emoticons (happy + sad)\n",
    "emoticons = emoticons_happy.union(emoticons_sad)\n",
    "\n",
    "def clean_tweets(tweet):\n",
    "    \n",
    "    # remove stock market tickers\n",
    "    tweet = re.sub(r'\\$\\w*', '', tweet)\n",
    " \n",
    "    # remove old style retweet text\n",
    "    tweet = re.sub(r'^RT[\\s]+', '', tweet)\n",
    " \n",
    "    # remove hyperlinks\n",
    "    tweet = re.sub(r'https?:\\/\\/.*[\\r\\n]*', '', tweet)\n",
    "    \n",
    "    # remove hashtags\n",
    "    # only removing the hash # sign from the word\n",
    "    tweet = re.sub(r'#', '', tweet)\n",
    " \n",
    "    # tokenize tweets\n",
    "    tokenizer = TweetTokenizer(preserve_case=False, strip_handles=True, reduce_len=True)\n",
    "    tweet_tokens = tokenizer.tokenize(tweet)\n",
    " \n",
    "    tweets_clean = []    \n",
    "    for word in tweet_tokens:\n",
    "        if (word not in stopwords_english and # remove stopwords\n",
    "              word not in emoticons and # remove emoticons\n",
    "                word not in string.punctuation): # remove punctuation\n",
    "            #tweets_clean.append(word)\n",
    "            stem_word = stemmer.stem(word) # stemming word\n",
    "            tweets_clean.append(stem_word)\n",
    "    \n",
    "    list_to_str = ' '.join([str(ele) for ele in tweets_clean])\n",
    "    \n",
    "    return list_to_str"
   ]
  },
  {
   "cell_type": "code",
   "execution_count": 6,
   "metadata": {},
   "outputs": [],
   "source": [
    "\n",
    "analyzer = SentimentIntensityAnalyzer()\n",
    "\n",
    "def sentimentanalyzer(tweet):\n",
    "    \n",
    "    tweet_score = []\n",
    "    \n",
    "    score = analyzer.polarity_scores(tweet)\n",
    "    tweet_score.append(score)\n",
    "    df = pd.DataFrame(tweet_score)\n",
    "    \n",
    "    for i,row in df.iterrows():\n",
    "        row['neg']=-row['neg']\n",
    "    \n",
    "    for i, row in df.iterrows():\n",
    "        if row['compound']<0:\n",
    "            row['neg'] = row['neg'] + row['compound']\n",
    "        elif row['compound'] > 0:\n",
    "            row['pos'] = row['pos'] + row['compound']\n",
    "    df.drop('compound', axis = 1, inplace = True)\n",
    "    for i,rows in df.iterrows():\n",
    "        if row['pos'] > abs(row['neg']) and row['pos'] > row['neu']:\n",
    "            return (\"positive\", row['pos'])\n",
    "            \n",
    "        elif abs(row['neg'])>row['pos'] and abs(row['neg']) > row['neu']:\n",
    "            return (\"negative\", row['neg'])\n",
    "            \n",
    "        else:\n",
    "            return (\"neutral\", row['neu'])"
   ]
  },
  {
   "cell_type": "code",
   "execution_count": 7,
   "metadata": {},
   "outputs": [],
   "source": [
    "\n",
    "#Function to query data using pandas\n",
    "def query_tweetscoresapd(conn):\n",
    "    sql_statement='''select t.ID,substr(t.Tweet_Text,1,100) Tweet,t1.Score_Polarity,t1.Score FROM Tweet_data t,Tweet_Scores t1 where t.ID=t1.ID limit 10;'''\n",
    "    df = pd.read_sql_query(sql_statement, conn)\n",
    "    display(df)\n",
    "    \n",
    "    \n",
    "def calculatetweetscores(conn):\n",
    "    \n",
    "    sql_statement='''DROP TABLE Tweet_Scores;'''\n",
    "    drop_table(conn,sql_statement)\n",
    "\n",
    "    sql_statement='''CREATE TABLE Tweet_Scores(ID INTEGER PRIMARY KEY,Score_Polarity TEXT,Score REAL);'''\n",
    "    create_table(conn,sql_statement)\n",
    "\n",
    "    df = pd.read_sql_query(\"SELECT * FROM Tweet_Data\", conn)\n",
    " \n",
    "    scores = []\n",
    "    list_of_tweets = list(df['Tweet_Text'])\n",
    "    \n",
    "    for tweet in list_of_tweets:\n",
    "        processed_data = clean_tweets(tweet)\n",
    "        sentiment_score = sentimentanalyzer(processed_data)\n",
    "        scores.append(sentiment_score)\n",
    "\n",
    "    df1 = pd.DataFrame(scores)\n",
    "    df1.columns = ['Score_Polarity', 'Score']\n",
    "\n",
    "    df.drop(['User_ID','Tweet_Text','Creation_dt'],axis=1)\n",
    "    \n",
    "    merged_df = df.merge(df1, left_index = True, right_index = True)\n",
    "    \n",
    "    merged_df=merged_df.drop(['User_ID','Tweet_Text','Creation_dt'],axis=1)\n",
    "    merged_df=merged_df.rename_axis(None)\n",
    "        \n",
    "    merged_df.to_sql('Tweet_Scores',conn,index=False,if_exists = 'append')\n",
    "\n"
   ]
  },
  {
   "cell_type": "code",
   "execution_count": 10,
   "metadata": {},
   "outputs": [],
   "source": [
    "def plotpiechart(conn):\n",
    "    sql_statement='''SELECT count(1) count \n",
    "                       FROM (SELECT t.ID,date(t.Creation_dt) TDate,t.Tweet_Text,t1.Score_Polarity,t1.Score,abs(close-open),\n",
    "\t\t                       CASE WHEN (close-open)<0 then 'D'\n",
    "                               WHEN (close-open)>0 then 'I'\n",
    "                               ELSE 'F'\n",
    "                                END as stockstatus\n",
    "\t                           FROM Tesla_Stock ts,Tweet_data t,Tweet_Scores t1 where t.ID=t1.ID and date(t.Creation_dt)=ts.Date)\n",
    "                               WHERE score_polarity=? and stockstatus=?\n",
    "                               GROUP BY score_polarity,stockstatus'''\n",
    "                               \n",
    "    df1=pd.read_sql_query(sql_statement,conn,params=['negative','D'])\n",
    "    df2=pd.read_sql_query(sql_statement,conn,params=['positive','I'])\n",
    "    df3=pd.read_sql_query(sql_statement,conn,params=['neutral','F'])\n",
    "    \n",
    "    tweet_cnt=[df1['count'].tolist()[0],df2['count'].tolist()[0],df3['count'].tolist()[0]]\n",
    "    tweet_status=['Negative tweets','Positive tweets','Neutral tweets']\n",
    "    \n",
    "    colors = ['orange','springgreen','red']\n",
    "    patches, texts = plt.pie(tweet_cnt, colors=colors, shadow=True, startangle=90)\n",
    "    plt.legend(patches, tweet_status, loc=\"best\")\n",
    "    plt.axis('equal')\n",
    "    plt.tight_layout()\n",
    "    plt.show()\n",
    "\n",
    "\n",
    "def plotdailystkprvar(conn):\n",
    "    sql_statement='''select date,adj from Tesla_Stock where date>(select min(date(creation_dt)) from tweet_data) order by date;'''\n",
    "    df=pd.read_sql_query(sql_statement,conn)\n",
    "    df.set_axis(df['Date'], axis='index', inplace=True)\n",
    "    df=df.drop(['Date'],axis=1)\n",
    "    df['Adj'].plot(label='Tesla',figsize=(16,8),title='Tesla Stock Price - 2017 to Current',color='dodgerblue')\n",
    "    plt.legend()\n",
    "    plt.show()\n",
    "\n",
    "def plotscores(conn):\n",
    "    sql_statement='''select date(creation_dt) Date,score from Tweet_data t,Tweet_Scores t1 where t.ID=t1.ID order by date;'''\n",
    "    df=pd.read_sql_query(sql_statement,conn)\n",
    "    df.set_axis(df['Date'], axis='index', inplace=True)\n",
    "    df=df.drop(['Date'],axis=1)\n",
    "    df['Score'].plot(label='Tweet Scores',figsize=(16,8),title='Elon Musk Tweet Scores',color='orangered')\n",
    "    plt.legend()\n",
    "    plt.show()\n",
    "\n",
    "def plotfinalinteract(conn):\n",
    "    \n",
    "    sql_statement='''select date,adj from Tesla_Stock where date>(select min(date(creation_dt)) from tweet_data) order by date;'''\n",
    "    df=pd.read_sql_query(sql_statement,conn)\n",
    "\n",
    "    sql_statement='''SELECT distinct Tdate,Tweet_Text,Score_Polarity,Adj,stockstatus\n",
    "                      FROM (SELECT date(t.Creation_dt) TDate,t.Tweet_Text,t1.Score_Polarity,t1.Score,ts.Adj,\n",
    "                              CASE WHEN (close-open)<0 then 'D'\n",
    "                                   WHEN (close-open)>0 then 'I'\n",
    "                                   ELSE 'F'\n",
    "                                   END as stockstatus \n",
    "                              FROM Tesla_Stock ts,Tweet_data t,Tweet_Scores t1 where t.ID=t1.ID and date(t.Creation_dt)=ts.Date) \n",
    "                             WHERE Score_Polarity=? and stockstatus=? order by TDate;'''\n",
    "\n",
    "    dfpos=pd.read_sql_query(sql_statement,conn,params=['positive','I'])\n",
    "    dfneg=pd.read_sql_query(sql_statement,conn,params=['negative','D'])\n",
    "    \n",
    "    fig = go.Figure(layout_title_text=\"Tesla Stock Prices v/s Elon Musk Tweets Sentiments\")\n",
    "    \n",
    "    fig.add_trace(go.Scatter(x=df[\"Date\"].tolist(), y=df[\"Adj\"].tolist(),\n",
    "                    mode='lines',\n",
    "                    name='Tesla Stock Price',\n",
    "                    line = dict(color='rgb(102,102,102)')\n",
    "                    ))\n",
    "      \n",
    "    fig.add_trace(go.Scatter(\n",
    "        x=dfpos[\"TDate\"],\n",
    "        y=dfpos[\"Adj\"],\n",
    "        hovertext=dfpos[\"Tweet_Text\"].tolist(),\n",
    "        hoverinfo=\"text\",\n",
    "        mode='markers',\n",
    "        name='PositiveTweet',\n",
    "        marker=dict(\n",
    "            color=\"#00CC96\"\n",
    "        ),\n",
    "        showlegend=True\n",
    "    ))\n",
    "        \n",
    "    fig.add_trace(go.Scatter(\n",
    "        x=dfneg[\"TDate\"],\n",
    "        y=dfneg[\"Adj\"],\n",
    "        hovertext=dfneg[\"Tweet_Text\"].tolist(),\n",
    "        hoverinfo=\"text\",\n",
    "        mode='markers',\n",
    "        name='NegativeTweet',\n",
    "        marker=dict(\n",
    "            color=\"#E45756\"\n",
    "        ),\n",
    "        showlegend=True\n",
    "    ))\n",
    "    \n",
    "    \n",
    "    fig.show()\n",
    "    \n",
    "def plotstatisticssa(conn):\n",
    "    sql_statement='''SELECT score_polarity,stockstatus,count(1) total \n",
    "                       FROM (SELECT distinct Tdate,Tweet_Text,Score_Polarity,Adj,stockstatus\n",
    "                               FROM (SELECT date(t.Creation_dt) TDate,t.Tweet_Text,t1.Score_Polarity,t1.Score,ts.Adj,\n",
    "                               CASE WHEN (close-open)<0 then 'D'\n",
    "                               WHEN (close-open)>0 then 'I'\n",
    "                               ELSE 'F'\n",
    "                               END as stockstatus \n",
    "                               FROM Tesla_Stock ts,Tweet_data t,Tweet_Scores t1 \n",
    "                               WHERE t.ID=t1.ID and date(t.Creation_dt)=ts.Date)) \n",
    "                      GROUP BY score_polarity,stockstatus;'''\n",
    "                      \n",
    "                      \n",
    "    df=pd.read_sql_query(sql_statement,conn)\n",
    "    incdata=df[df[\"stockstatus\"]==\"I\"]\n",
    "    decdata=df[df[\"stockstatus\"]==\"D\"]\n",
    "    flatdata=df[df[\"stockstatus\"]==\"F\"]\n",
    "    \n",
    "    fig = go.Figure()\n",
    "    fig.add_trace(go.Bar(\n",
    "        x=incdata[\"Score_Polarity\"].tolist(),\n",
    "        y=incdata[\"total\"].tolist(),\n",
    "        name='Rise in Stock Price',\n",
    "        marker_color='rgb(139,224,164)'\n",
    "    ))\n",
    "    fig.add_trace(go.Bar(\n",
    "        x=decdata[\"Score_Polarity\"].tolist(),\n",
    "        y=decdata[\"total\"].tolist(),\n",
    "        name='Fall in Stock Price',\n",
    "        marker_color='rgb(237,100,90)'\n",
    "    ))\n",
    "    fig.add_trace(go.Bar(\n",
    "        x=flatdata[\"Score_Polarity\"].tolist(),\n",
    "        y=flatdata[\"total\"].tolist(),\n",
    "        name='No Change in Stock Price',\n",
    "        marker_color='rgb(158,185,243)'\n",
    "    ))\n",
    "    \n",
    "    fig.update_layout(barmode='group',title_text='Statistics of Tweet Sentiment v/s Fluctuations',uniformtext_minsize=12, uniformtext_mode='hide')\n",
    "    fig.show()\n",
    "    \n",
    "def plotstatisticssayear(conn):\n",
    "    sql_statement='''SELECT strftime('%Y',Tdate) year,score_polarity,stockstatus,count(1) total \n",
    "\t\t\t\t\t\t   FROM (SELECT distinct Tdate,Tweet_Text,Score_Polarity,Adj,stockstatus\n",
    "\t\t\t\t\t\t\t\t   FROM (SELECT date(t.Creation_dt) TDate,t.Tweet_Text,t1.Score_Polarity,t1.Score,ts.Adj,\n",
    "\t\t\t\t\t\t\t\t   CASE WHEN (close-open)<0 then 'D'\n",
    "\t\t\t\t\t\t\t\t   WHEN (close-open)>0 then 'I'\n",
    "\t\t\t\t\t\t\t\t   ELSE 'F'\n",
    "\t\t\t\t\t\t\t\t   END as stockstatus \n",
    "\t\t\t\t\t\t\t\t   FROM Tesla_Stock ts,Tweet_data t,Tweet_Scores t1 \n",
    "\t\t\t\t\t\t\t\t   WHERE t.ID=t1.ID and date(t.Creation_dt)=ts.Date)) \n",
    "\t\t\t\t\t\t  GROUP BY year,score_polarity,stockstatus;'''\n",
    "    df=pd.read_sql_query(sql_statement,conn)\n",
    "    incdata=df[df[\"stockstatus\"]==\"I\"]\n",
    "    decdata=df[df[\"stockstatus\"]==\"D\"]\n",
    "    flatdata=df[df[\"stockstatus\"]==\"F\"]\n",
    "    \n",
    "    fig = go.Figure()\n",
    "    \n",
    "    fig.add_trace(go.Bar(x=incdata[\"year\"].tolist(),\n",
    "\t\t\t\t\ty=incdata[\"total\"].tolist(),\n",
    "\t\t\t\t\tname='Rise in Stock Price',\n",
    "\t\t\t\t\tmarker_color='rgb(139,224,164)'\n",
    "\t\t\t\t\t))\n",
    "    \n",
    "    fig.add_trace(go.Bar(x=decdata[\"year\"].tolist(),\n",
    "\t\t\t\t\ty=decdata[\"total\"].tolist(),\n",
    "\t\t\t\t\tname='Fall in Stock Price',\n",
    "\t\t\t\t\tmarker_color='rgb(237,100,90)'\n",
    "\t\t\t\t\t))\n",
    "    \n",
    "    fig.add_trace(go.Bar(x=flatdata[\"year\"].tolist(),\n",
    "\t\t\t\t\ty=flatdata[\"total\"].tolist(),\n",
    "\t\t\t\t\tname='No change in Stock Price',\n",
    "\t\t\t\t\tmarker_color='rgb(158,185,243)'\n",
    "\t\t\t\t\t))\n",
    "    \n",
    "    fig.update_layout(\n",
    "\t\ttitle='Statistics of Stock Price Fluctuations by year',\n",
    "\t\txaxis_tickfont_size=14,\n",
    "\t\tyaxis=dict(\n",
    "\t\t\ttitle='Total',\n",
    "\t\t\ttitlefont_size=16,\n",
    "\t\t\ttickfont_size=14,\n",
    "\t\t),\n",
    "\t\tlegend=dict(\n",
    "\t\t\tx=0,\n",
    "\t\t\ty=1.0,\n",
    "\t\t\tbgcolor='rgba(255, 255, 255, 0)',\n",
    "\t\t\tbordercolor='rgba(255, 255, 255, 0)'\n",
    "\t\t),\n",
    "\t\tbarmode='group',\n",
    "\t\tbargap=0.15, \n",
    "\t\tbargroupgap=0.1 \n",
    "\t)\n",
    "    \n",
    "    fig.show()"
   ]
  },
  {
   "cell_type": "code",
   "execution_count": 11,
   "metadata": {
    "scrolled": false
   },
   "outputs": [
    {
     "data": {
      "text/html": [
       "<div>\n",
       "<style scoped>\n",
       "    .dataframe tbody tr th:only-of-type {\n",
       "        vertical-align: middle;\n",
       "    }\n",
       "\n",
       "    .dataframe tbody tr th {\n",
       "        vertical-align: top;\n",
       "    }\n",
       "\n",
       "    .dataframe thead th {\n",
       "        text-align: right;\n",
       "    }\n",
       "</style>\n",
       "<table border=\"1\" class=\"dataframe\">\n",
       "  <thead>\n",
       "    <tr style=\"text-align: right;\">\n",
       "      <th></th>\n",
       "      <th>ID</th>\n",
       "      <th>User_ID</th>\n",
       "      <th>Tweet</th>\n",
       "      <th>Creation_dt</th>\n",
       "    </tr>\n",
       "  </thead>\n",
       "  <tbody>\n",
       "    <tr>\n",
       "      <td>0</td>\n",
       "      <td>1</td>\n",
       "      <td>elonmusk</td>\n",
       "      <td>@highqualitysh1t I love the thought of a car d...</td>\n",
       "      <td>2017-12-02 19:33:00</td>\n",
       "    </tr>\n",
       "    <tr>\n",
       "      <td>1</td>\n",
       "      <td>2</td>\n",
       "      <td>elonmusk</td>\n",
       "      <td>@novaspivack Asimov's Foundation books should ...</td>\n",
       "      <td>2017-12-02 22:46:00</td>\n",
       "    </tr>\n",
       "    <tr>\n",
       "      <td>2</td>\n",
       "      <td>3</td>\n",
       "      <td>elonmusk</td>\n",
       "      <td>@novaspivack That's certainly the right way to...</td>\n",
       "      <td>2017-12-03 12:01:00</td>\n",
       "    </tr>\n",
       "    <tr>\n",
       "      <td>3</td>\n",
       "      <td>4</td>\n",
       "      <td>elonmusk</td>\n",
       "      <td>To preserve the transcendent majesty &amp;amp; spe...</td>\n",
       "      <td>2017-12-03 19:05:00</td>\n",
       "    </tr>\n",
       "    <tr>\n",
       "      <td>4</td>\n",
       "      <td>5</td>\n",
       "      <td>elonmusk</td>\n",
       "      <td>@harrisonlingren @JW8888888 Busted</td>\n",
       "      <td>2017-12-03 19:07:00</td>\n",
       "    </tr>\n",
       "  </tbody>\n",
       "</table>\n",
       "</div>"
      ],
      "text/plain": [
       "   ID   User_ID                                              Tweet  \\\n",
       "0   1  elonmusk  @highqualitysh1t I love the thought of a car d...   \n",
       "1   2  elonmusk  @novaspivack Asimov's Foundation books should ...   \n",
       "2   3  elonmusk  @novaspivack That's certainly the right way to...   \n",
       "3   4  elonmusk  To preserve the transcendent majesty &amp; spe...   \n",
       "4   5  elonmusk                 @harrisonlingren @JW8888888 Busted   \n",
       "\n",
       "           Creation_dt  \n",
       "0  2017-12-02 19:33:00  \n",
       "1  2017-12-02 22:46:00  \n",
       "2  2017-12-03 12:01:00  \n",
       "3  2017-12-03 19:05:00  \n",
       "4  2017-12-03 19:07:00  "
      ]
     },
     "metadata": {},
     "output_type": "display_data"
    },
    {
     "data": {
      "text/html": [
       "<div>\n",
       "<style scoped>\n",
       "    .dataframe tbody tr th:only-of-type {\n",
       "        vertical-align: middle;\n",
       "    }\n",
       "\n",
       "    .dataframe tbody tr th {\n",
       "        vertical-align: top;\n",
       "    }\n",
       "\n",
       "    .dataframe thead th {\n",
       "        text-align: right;\n",
       "    }\n",
       "</style>\n",
       "<table border=\"1\" class=\"dataframe\">\n",
       "  <thead>\n",
       "    <tr style=\"text-align: right;\">\n",
       "      <th></th>\n",
       "      <th>Date</th>\n",
       "      <th>Open</th>\n",
       "      <th>Higher</th>\n",
       "      <th>Low</th>\n",
       "      <th>Close</th>\n",
       "      <th>Adj</th>\n",
       "      <th>Volume</th>\n",
       "    </tr>\n",
       "  </thead>\n",
       "  <tbody>\n",
       "    <tr>\n",
       "      <td>0</td>\n",
       "      <td>2010-06-29</td>\n",
       "      <td>19.00</td>\n",
       "      <td>25.00</td>\n",
       "      <td>17.54</td>\n",
       "      <td>23.89</td>\n",
       "      <td>23.89</td>\n",
       "      <td>18766300</td>\n",
       "    </tr>\n",
       "    <tr>\n",
       "      <td>1</td>\n",
       "      <td>2010-06-30</td>\n",
       "      <td>25.79</td>\n",
       "      <td>30.42</td>\n",
       "      <td>23.30</td>\n",
       "      <td>23.83</td>\n",
       "      <td>23.83</td>\n",
       "      <td>17187100</td>\n",
       "    </tr>\n",
       "    <tr>\n",
       "      <td>2</td>\n",
       "      <td>2010-07-01</td>\n",
       "      <td>25.00</td>\n",
       "      <td>25.92</td>\n",
       "      <td>20.27</td>\n",
       "      <td>21.96</td>\n",
       "      <td>21.96</td>\n",
       "      <td>8218800</td>\n",
       "    </tr>\n",
       "    <tr>\n",
       "      <td>3</td>\n",
       "      <td>2010-07-02</td>\n",
       "      <td>23.00</td>\n",
       "      <td>23.10</td>\n",
       "      <td>18.71</td>\n",
       "      <td>19.20</td>\n",
       "      <td>19.20</td>\n",
       "      <td>5139800</td>\n",
       "    </tr>\n",
       "    <tr>\n",
       "      <td>4</td>\n",
       "      <td>2010-07-06</td>\n",
       "      <td>20.00</td>\n",
       "      <td>20.00</td>\n",
       "      <td>15.83</td>\n",
       "      <td>16.11</td>\n",
       "      <td>16.11</td>\n",
       "      <td>6866900</td>\n",
       "    </tr>\n",
       "  </tbody>\n",
       "</table>\n",
       "</div>"
      ],
      "text/plain": [
       "         Date   Open  Higher    Low  Close    Adj    Volume\n",
       "0  2010-06-29  19.00   25.00  17.54  23.89  23.89  18766300\n",
       "1  2010-06-30  25.79   30.42  23.30  23.83  23.83  17187100\n",
       "2  2010-07-01  25.00   25.92  20.27  21.96  21.96   8218800\n",
       "3  2010-07-02  23.00   23.10  18.71  19.20  19.20   5139800\n",
       "4  2010-07-06  20.00   20.00  15.83  16.11  16.11   6866900"
      ]
     },
     "metadata": {},
     "output_type": "display_data"
    },
    {
     "data": {
      "text/html": [
       "<div>\n",
       "<style scoped>\n",
       "    .dataframe tbody tr th:only-of-type {\n",
       "        vertical-align: middle;\n",
       "    }\n",
       "\n",
       "    .dataframe tbody tr th {\n",
       "        vertical-align: top;\n",
       "    }\n",
       "\n",
       "    .dataframe thead th {\n",
       "        text-align: right;\n",
       "    }\n",
       "</style>\n",
       "<table border=\"1\" class=\"dataframe\">\n",
       "  <thead>\n",
       "    <tr style=\"text-align: right;\">\n",
       "      <th></th>\n",
       "      <th>ID</th>\n",
       "      <th>Tweet</th>\n",
       "      <th>Score_Polarity</th>\n",
       "      <th>Score</th>\n",
       "    </tr>\n",
       "  </thead>\n",
       "  <tbody>\n",
       "    <tr>\n",
       "      <td>0</td>\n",
       "      <td>1</td>\n",
       "      <td>@highqualitysh1t I love the thought of a car d...</td>\n",
       "      <td>positive</td>\n",
       "      <td>0.8809</td>\n",
       "    </tr>\n",
       "    <tr>\n",
       "      <td>1</td>\n",
       "      <td>2</td>\n",
       "      <td>@novaspivack Asimov's Foundation books should ...</td>\n",
       "      <td>neutral</td>\n",
       "      <td>1.0000</td>\n",
       "    </tr>\n",
       "    <tr>\n",
       "      <td>2</td>\n",
       "      <td>3</td>\n",
       "      <td>@novaspivack That's certainly the right way to...</td>\n",
       "      <td>neutral</td>\n",
       "      <td>1.0000</td>\n",
       "    </tr>\n",
       "    <tr>\n",
       "      <td>3</td>\n",
       "      <td>4</td>\n",
       "      <td>To preserve the transcendent majesty &amp;amp; spe...</td>\n",
       "      <td>neutral</td>\n",
       "      <td>0.7190</td>\n",
       "    </tr>\n",
       "    <tr>\n",
       "      <td>4</td>\n",
       "      <td>5</td>\n",
       "      <td>@harrisonlingren @JW8888888 Busted</td>\n",
       "      <td>neutral</td>\n",
       "      <td>1.0000</td>\n",
       "    </tr>\n",
       "    <tr>\n",
       "      <td>5</td>\n",
       "      <td>6</td>\n",
       "      <td>@IvanEscobosa Yes</td>\n",
       "      <td>neutral</td>\n",
       "      <td>1.0000</td>\n",
       "    </tr>\n",
       "    <tr>\n",
       "      <td>6</td>\n",
       "      <td>7</td>\n",
       "      <td>Hat</td>\n",
       "      <td>neutral</td>\n",
       "      <td>1.0000</td>\n",
       "    </tr>\n",
       "    <tr>\n",
       "      <td>7</td>\n",
       "      <td>8</td>\n",
       "      <td>Every 5000th buyer of our boringly boring hat ...</td>\n",
       "      <td>neutral</td>\n",
       "      <td>0.6540</td>\n",
       "    </tr>\n",
       "    <tr>\n",
       "      <td>8</td>\n",
       "      <td>9</td>\n",
       "      <td>@TheRealUtkarsh Because it's stupid</td>\n",
       "      <td>negative</td>\n",
       "      <td>-1.5267</td>\n",
       "    </tr>\n",
       "    <tr>\n",
       "      <td>9</td>\n",
       "      <td>10</td>\n",
       "      <td>@maralkalajian Maybe</td>\n",
       "      <td>neutral</td>\n",
       "      <td>1.0000</td>\n",
       "    </tr>\n",
       "  </tbody>\n",
       "</table>\n",
       "</div>"
      ],
      "text/plain": [
       "   ID                                              Tweet Score_Polarity  \\\n",
       "0   1  @highqualitysh1t I love the thought of a car d...       positive   \n",
       "1   2  @novaspivack Asimov's Foundation books should ...        neutral   \n",
       "2   3  @novaspivack That's certainly the right way to...        neutral   \n",
       "3   4  To preserve the transcendent majesty &amp; spe...        neutral   \n",
       "4   5                 @harrisonlingren @JW8888888 Busted        neutral   \n",
       "5   6                                  @IvanEscobosa Yes        neutral   \n",
       "6   7                                                Hat        neutral   \n",
       "7   8  Every 5000th buyer of our boringly boring hat ...        neutral   \n",
       "8   9                @TheRealUtkarsh Because it's stupid       negative   \n",
       "9  10                               @maralkalajian Maybe        neutral   \n",
       "\n",
       "    Score  \n",
       "0  0.8809  \n",
       "1  1.0000  \n",
       "2  1.0000  \n",
       "3  0.7190  \n",
       "4  1.0000  \n",
       "5  1.0000  \n",
       "6  1.0000  \n",
       "7  0.6540  \n",
       "8 -1.5267  \n",
       "9  1.0000  "
      ]
     },
     "metadata": {},
     "output_type": "display_data"
    },
    {
     "data": {
      "image/png": "[encoded data removed]",
      "text/plain": [
       "<Figure size 432x288 with 1 Axes>"
      ]
     },
     "metadata": {},
     "output_type": "display_data"
    },
    {
     "data": {
      "image/png": "[encoded data removed]",
      "text/plain": [
       "<Figure size 1152x576 with 1 Axes>"
      ]
     },
     "metadata": {
      "needs_background": "light"
     },
     "output_type": "display_data"
    },
    {
     "data": {
      "image/png": "[encoded data removed]",
      "text/plain": [
       "<Figure size 1152x576 with 1 Axes>"
      ]
     },
     "metadata": {
      "needs_background": "light"
     },
     "output_type": "display_data"
    },
    {
     "data": {
      "application/vnd.plotly.v1+json": {
       "config": {
        "plotlyServerURL": "https://plot.ly"
       },
       "data": [
        {
         "marker": {
          "color": "rgb(139,224,164)"
         },
         "name": "Rise in Stock Price",
         "type": "bar",
         "x": [
          "negative",
          "neutral",
          "positive"
         ],
         "y": [
          115,
          1657,
          572
         ]
        },
        {
         "marker": {
          "color": "rgb(237,100,90)"
         },
         "name": "Fall in Stock Price",
         "type": "bar",
         "x": [
          "negative",
          "neutral",
          "positive"
         ],
         "y": [
          93,
          1456,
          507
         ]
        },
        {
         "marker": {
          "color": "rgb(158,185,243)"
         },
         "name": "No Change in Stock Price",
         "type": "bar",
         "x": [
          "neutral",
          "positive"
         ],
         "y": [
          3,
          2
         ]
        }
       ],
       "layout": {
        "barmode": "group",
        "template": {
         "data": {
          "bar": [
           {
            "error_x": {
             "color": "#2a3f5f"
            },
            "error_y": {
             "color": "#2a3f5f"
            },
            "marker": {
             "line": {
              "color": "#E5ECF6",
              "width": 0.5
             }
            },
            "type": "bar"
           }
          ],
          "barpolar": [
           {
            "marker": {
             "line": {
              "color": "#E5ECF6",
              "width": 0.5
             }
            },
            "type": "barpolar"
           }
          ],
          "carpet": [
           {
            "aaxis": {
             "endlinecolor": "#2a3f5f",
             "gridcolor": "white",
             "linecolor": "white",
             "minorgridcolor": "white",
             "startlinecolor": "#2a3f5f"
            },
            "baxis": {
             "endlinecolor": "#2a3f5f",
             "gridcolor": "white",
             "linecolor": "white",
             "minorgridcolor": "white",
             "startlinecolor": "#2a3f5f"
            },
            "type": "carpet"
           }
          ],
          "choropleth": [
           {
            "colorbar": {
             "outlinewidth": 0,
             "ticks": ""
            },
            "type": "choropleth"
           }
          ],
          "contour": [
           {
            "colorbar": {
             "outlinewidth": 0,
             "ticks": ""
            },
            "colorscale": [
             [
              0,
              "#0d0887"
             ],
             [
              0.1111111111111111,
              "#46039f"
             ],
             [
              0.2222222222222222,
              "#7201a8"
             ],
             [
              0.3333333333333333,
              "#9c179e"
             ],
             [
              0.4444444444444444,
              "#bd3786"
             ],
             [
              0.5555555555555556,
              "#d8576b"
             ],
             [
              0.6666666666666666,
              "#ed7953"
             ],
             [
              0.7777777777777778,
              "#fb9f3a"
             ],
             [
              0.8888888888888888,
              "#fdca26"
             ],
             [
              1,
              "#f0f921"
             ]
            ],
            "type": "contour"
           }
          ],
          "contourcarpet": [
           {
            "colorbar": {
             "outlinewidth": 0,
             "ticks": ""
            },
            "type": "contourcarpet"
           }
          ],
          "heatmap": [
           {
            "colorbar": {
             "outlinewidth": 0,
             "ticks": ""
            },
            "colorscale": [
             [
              0,
              "#0d0887"
             ],
             [
              0.1111111111111111,
              "#46039f"
             ],
             [
              0.2222222222222222,
              "#7201a8"
             ],
             [
              0.3333333333333333,
              "#9c179e"
             ],
             [
              0.4444444444444444,
              "#bd3786"
             ],
             [
              0.5555555555555556,
              "#d8576b"
             ],
             [
              0.6666666666666666,
              "#ed7953"
             ],
             [
              0.7777777777777778,
              "#fb9f3a"
             ],
             [
              0.8888888888888888,
              "#fdca26"
             ],
             [
              1,
              "#f0f921"
             ]
            ],
            "type": "heatmap"
           }
          ],
          "heatmapgl": [
           {
            "colorbar": {
             "outlinewidth": 0,
             "ticks": ""
            },
            "colorscale": [
             [
              0,
              "#0d0887"
             ],
             [
              0.1111111111111111,
              "#46039f"
             ],
             [
              0.2222222222222222,
              "#7201a8"
             ],
             [
              0.3333333333333333,
              "#9c179e"
             ],
             [
              0.4444444444444444,
              "#bd3786"
             ],
             [
              0.5555555555555556,
              "#d8576b"
             ],
             [
              0.6666666666666666,
              "#ed7953"
             ],
             [
              0.7777777777777778,
              "#fb9f3a"
             ],
             [
              0.8888888888888888,
              "#fdca26"
             ],
             [
              1,
              "#f0f921"
             ]
            ],
            "type": "heatmapgl"
           }
          ],
          "histogram": [
           {
            "marker": {
             "colorbar": {
              "outlinewidth": 0,
              "ticks": ""
             }
            },
            "type": "histogram"
           }
          ],
          "histogram2d": [
           {
            "colorbar": {
             "outlinewidth": 0,
             "ticks": ""
            },
            "colorscale": [
             [
              0,
              "#0d0887"
             ],
             [
              0.1111111111111111,
              "#46039f"
             ],
             [
              0.2222222222222222,
              "#7201a8"
             ],
             [
              0.3333333333333333,
              "#9c179e"
             ],
             [
              0.4444444444444444,
              "#bd3786"
             ],
             [
              0.5555555555555556,
              "#d8576b"
             ],
             [
              0.6666666666666666,
              "#ed7953"
             ],
             [
              0.7777777777777778,
              "#fb9f3a"
             ],
             [
              0.8888888888888888,
              "#fdca26"
             ],
             [
              1,
              "#f0f921"
             ]
            ],
            "type": "histogram2d"
           }
          ],
          "histogram2dcontour": [
           {
            "colorbar": {
             "outlinewidth": 0,
             "ticks": ""
            },
            "colorscale": [
             [
              0,
              "#0d0887"
             ],
             [
              0.1111111111111111,
              "#46039f"
             ],
             [
              0.2222222222222222,
              "#7201a8"
             ],
             [
              0.3333333333333333,
              "#9c179e"
             ],
             [
              0.4444444444444444,
              "#bd3786"
             ],
             [
              0.5555555555555556,
              "#d8576b"
             ],
             [
              0.6666666666666666,
              "#ed7953"
             ],
             [
              0.7777777777777778,
              "#fb9f3a"
             ],
             [
              0.8888888888888888,
              "#fdca26"
             ],
             [
              1,
              "#f0f921"
             ]
            ],
            "type": "histogram2dcontour"
           }
          ],
          "mesh3d": [
           {
            "colorbar": {
             "outlinewidth": 0,
             "ticks": ""
            },
            "type": "mesh3d"
           }
          ],
          "parcoords": [
           {
            "line": {
             "colorbar": {
              "outlinewidth": 0,
              "ticks": ""
             }
            },
            "type": "parcoords"
           }
          ],
          "pie": [
           {
            "automargin": true,
            "type": "pie"
           }
          ],
          "scatter": [
           {
            "marker": {
             "colorbar": {
              "outlinewidth": 0,
              "ticks": ""
             }
            },
            "type": "scatter"
           }
          ],
          "scatter3d": [
           {
            "line": {
             "colorbar": {
              "outlinewidth": 0,
              "ticks": ""
             }
            },
            "marker": {
             "colorbar": {
              "outlinewidth": 0,
              "ticks": ""
             }
            },
            "type": "scatter3d"
           }
          ],
          "scattercarpet": [
           {
            "marker": {
             "colorbar": {
              "outlinewidth": 0,
              "ticks": ""
             }
            },
            "type": "scattercarpet"
           }
          ],
          "scattergeo": [
           {
            "marker": {
             "colorbar": {
              "outlinewidth": 0,
              "ticks": ""
             }
            },
            "type": "scattergeo"
           }
          ],
          "scattergl": [
           {
            "marker": {
             "colorbar": {
              "outlinewidth": 0,
              "ticks": ""
             }
            },
            "type": "scattergl"
           }
          ],
          "scattermapbox": [
           {
            "marker": {
             "colorbar": {
              "outlinewidth": 0,
              "ticks": ""
             }
            },
            "type": "scattermapbox"
           }
          ],
          "scatterpolar": [
           {
            "marker": {
             "colorbar": {
              "outlinewidth": 0,
              "ticks": ""
             }
            },
            "type": "scatterpolar"
           }
          ],
          "scatterpolargl": [
           {
            "marker": {
             "colorbar": {
              "outlinewidth": 0,
              "ticks": ""
             }
            },
            "type": "scatterpolargl"
           }
          ],
          "scatterternary": [
           {
            "marker": {
             "colorbar": {
              "outlinewidth": 0,
              "ticks": ""
             }
            },
            "type": "scatterternary"
           }
          ],
          "surface": [
           {
            "colorbar": {
             "outlinewidth": 0,
             "ticks": ""
            },
            "colorscale": [
             [
              0,
              "#0d0887"
             ],
             [
              0.1111111111111111,
              "#46039f"
             ],
             [
              0.2222222222222222,
              "#7201a8"
             ],
             [
              0.3333333333333333,
              "#9c179e"
             ],
             [
              0.4444444444444444,
              "#bd3786"
             ],
             [
              0.5555555555555556,
              "#d8576b"
             ],
             [
              0.6666666666666666,
              "#ed7953"
             ],
             [
              0.7777777777777778,
              "#fb9f3a"
             ],
             [
              0.8888888888888888,
              "#fdca26"
             ],
             [
              1,
              "#f0f921"
             ]
            ],
            "type": "surface"
           }
          ],
          "table": [
           {
            "cells": {
             "fill": {
              "color": "#EBF0F8"
             },
             "line": {
              "color": "white"
             }
            },
            "header": {
             "fill": {
              "color": "#C8D4E3"
             },
             "line": {
              "color": "white"
             }
            },
            "type": "table"
           }
          ]
         },
         "layout": {
          "annotationdefaults": {
           "arrowcolor": "#2a3f5f",
           "arrowhead": 0,
           "arrowwidth": 1
          },
          "coloraxis": {
           "colorbar": {
            "outlinewidth": 0,
            "ticks": ""
           }
          },
          "colorscale": {
           "diverging": [
            [
             0,
             "#8e0152"
            ],
            [
             0.1,
             "#c51b7d"
            ],
            [
             0.2,
             "#de77ae"
            ],
            [
             0.3,
             "#f1b6da"
            ],
            [
             0.4,
             "#fde0ef"
            ],
            [
             0.5,
             "#f7f7f7"
            ],
            [
             0.6,
             "#e6f5d0"
            ],
            [
             0.7,
             "#b8e186"
            ],
            [
             0.8,
             "#7fbc41"
            ],
            [
             0.9,
             "#4d9221"
            ],
            [
             1,
             "#276419"
            ]
           ],
           "sequential": [
            [
             0,
             "#0d0887"
            ],
            [
             0.1111111111111111,
             "#46039f"
            ],
            [
             0.2222222222222222,
             "#7201a8"
            ],
            [
             0.3333333333333333,
             "#9c179e"
            ],
            [
             0.4444444444444444,
             "#bd3786"
            ],
            [
             0.5555555555555556,
             "#d8576b"
            ],
            [
             0.6666666666666666,
             "#ed7953"
            ],
            [
             0.7777777777777778,
             "#fb9f3a"
            ],
            [
             0.8888888888888888,
             "#fdca26"
            ],
            [
             1,
             "#f0f921"
            ]
           ],
           "sequentialminus": [
            [
             0,
             "#0d0887"
            ],
            [
             0.1111111111111111,
             "#46039f"
            ],
            [
             0.2222222222222222,
             "#7201a8"
            ],
            [
             0.3333333333333333,
             "#9c179e"
            ],
            [
             0.4444444444444444,
             "#bd3786"
            ],
            [
             0.5555555555555556,
             "#d8576b"
            ],
            [
             0.6666666666666666,
             "#ed7953"
            ],
            [
             0.7777777777777778,
             "#fb9f3a"
            ],
            [
             0.8888888888888888,
             "#fdca26"
            ],
            [
             1,
             "#f0f921"
            ]
           ]
          },
          "colorway": [
           "#636efa",
           "#EF553B",
           "#00cc96",
           "#ab63fa",
           "#FFA15A",
           "#19d3f3",
           "#FF6692",
           "#B6E880",
           "#FF97FF",
           "#FECB52"
          ],
          "font": {
           "color": "#2a3f5f"
          },
          "geo": {
           "bgcolor": "white",
           "lakecolor": "white",
           "landcolor": "#E5ECF6",
           "showlakes": true,
           "showland": true,
           "subunitcolor": "white"
          },
          "hoverlabel": {
           "align": "left"
          },
          "hovermode": "closest",
          "mapbox": {
           "style": "light"
          },
          "paper_bgcolor": "white",
          "plot_bgcolor": "#E5ECF6",
          "polar": {
           "angularaxis": {
            "gridcolor": "white",
            "linecolor": "white",
            "ticks": ""
           },
           "bgcolor": "#E5ECF6",
           "radialaxis": {
            "gridcolor": "white",
            "linecolor": "white",
            "ticks": ""
           }
          },
          "scene": {
           "xaxis": {
            "backgroundcolor": "#E5ECF6",
            "gridcolor": "white",
            "gridwidth": 2,
            "linecolor": "white",
            "showbackground": true,
            "ticks": "",
            "zerolinecolor": "white"
           },
           "yaxis": {
            "backgroundcolor": "#E5ECF6",
            "gridcolor": "white",
            "gridwidth": 2,
            "linecolor": "white",
            "showbackground": true,
            "ticks": "",
            "zerolinecolor": "white"
           },
           "zaxis": {
            "backgroundcolor": "#E5ECF6",
            "gridcolor": "white",
            "gridwidth": 2,
            "linecolor": "white",
            "showbackground": true,
            "ticks": "",
            "zerolinecolor": "white"
           }
          },
          "shapedefaults": {
           "line": {
            "color": "#2a3f5f"
           }
          },
          "ternary": {
           "aaxis": {
            "gridcolor": "white",
            "linecolor": "white",
            "ticks": ""
           },
           "baxis": {
            "gridcolor": "white",
            "linecolor": "white",
            "ticks": ""
           },
           "bgcolor": "#E5ECF6",
           "caxis": {
            "gridcolor": "white",
            "linecolor": "white",
            "ticks": ""
           }
          },
          "title": {
           "x": 0.05
          },
          "xaxis": {
           "automargin": true,
           "gridcolor": "white",
           "linecolor": "white",
           "ticks": "",
           "title": {
            "standoff": 15
           },
           "zerolinecolor": "white",
           "zerolinewidth": 2
          },
          "yaxis": {
           "automargin": true,
           "gridcolor": "white",
           "linecolor": "white",
           "ticks": "",
           "title": {
            "standoff": 15
           },
           "zerolinecolor": "white",
           "zerolinewidth": 2
          }
         }
        },
        "title": {
         "text": "Statistics of Tweet Sentiment v/s Fluctuations"
        },
        "uniformtext": {
         "minsize": 12,
         "mode": "hide"
        }
       }
      },
      "text/html": [
       "<div>\n",
       "        \n",
       "        \n",
       "            <div id=\"193ae68d-5706-4fcf-acb0-4d090507980f\" class=\"plotly-graph-div\" style=\"height:525px; width:100%;\"></div>\n",
       "            <script type=\"text/javascript\">\n",
       "                require([\"plotly\"], function(Plotly) {\n",
       "                    window.PLOTLYENV=window.PLOTLYENV || {};\n",
       "                    \n",
       "                if (document.getElementById(\"193ae68d-5706-4fcf-acb0-4d090507980f\")) {\n",
       "                    Plotly.newPlot(\n",
       "                        '193ae68d-5706-4fcf-acb0-4d090507980f',\n",
       "                        [{\"marker\": {\"color\": \"rgb(139,224,164)\"}, \"name\": \"Rise in Stock Price\", \"type\": \"bar\", \"x\": [\"negative\", \"neutral\", \"positive\"], \"y\": [115, 1657, 572]}, {\"marker\": {\"color\": \"rgb(237,100,90)\"}, \"name\": \"Fall in Stock Price\", \"type\": \"bar\", \"x\": [\"negative\", \"neutral\", \"positive\"], \"y\": [93, 1456, 507]}, {\"marker\": {\"color\": \"rgb(158,185,243)\"}, \"name\": \"No Change in Stock Price\", \"type\": \"bar\", \"x\": [\"neutral\", \"positive\"], \"y\": [3, 2]}],\n",
       "                        {\"barmode\": \"group\", \"template\": {\"data\": {\"bar\": [{\"error_x\": {\"color\": \"#2a3f5f\"}, \"error_y\": {\"color\": \"#2a3f5f\"}, \"marker\": {\"line\": {\"color\": \"#E5ECF6\", \"width\": 0.5}}, \"type\": \"bar\"}], \"barpolar\": [{\"marker\": {\"line\": {\"color\": \"#E5ECF6\", \"width\": 0.5}}, \"type\": \"barpolar\"}], \"carpet\": [{\"aaxis\": {\"endlinecolor\": \"#2a3f5f\", \"gridcolor\": \"white\", \"linecolor\": \"white\", \"minorgridcolor\": \"white\", \"startlinecolor\": \"#2a3f5f\"}, \"baxis\": {\"endlinecolor\": \"#2a3f5f\", \"gridcolor\": \"white\", \"linecolor\": \"white\", \"minorgridcolor\": \"white\", \"startlinecolor\": \"#2a3f5f\"}, \"type\": \"carpet\"}], \"choropleth\": [{\"colorbar\": {\"outlinewidth\": 0, \"ticks\": \"\"}, \"type\": \"choropleth\"}], \"contour\": [{\"colorbar\": {\"outlinewidth\": 0, \"ticks\": \"\"}, \"colorscale\": [[0.0, \"#0d0887\"], [0.1111111111111111, \"#46039f\"], [0.2222222222222222, \"#7201a8\"], [0.3333333333333333, \"#9c179e\"], [0.4444444444444444, \"#bd3786\"], [0.5555555555555556, \"#d8576b\"], [0.6666666666666666, \"#ed7953\"], [0.7777777777777778, \"#fb9f3a\"], [0.8888888888888888, \"#fdca26\"], [1.0, \"#f0f921\"]], \"type\": \"contour\"}], \"contourcarpet\": [{\"colorbar\": {\"outlinewidth\": 0, \"ticks\": \"\"}, \"type\": \"contourcarpet\"}], \"heatmap\": [{\"colorbar\": {\"outlinewidth\": 0, \"ticks\": \"\"}, \"colorscale\": [[0.0, \"#0d0887\"], [0.1111111111111111, \"#46039f\"], [0.2222222222222222, \"#7201a8\"], [0.3333333333333333, \"#9c179e\"], [0.4444444444444444, \"#bd3786\"], [0.5555555555555556, \"#d8576b\"], [0.6666666666666666, \"#ed7953\"], [0.7777777777777778, \"#fb9f3a\"], [0.8888888888888888, \"#fdca26\"], [1.0, \"#f0f921\"]], \"type\": \"heatmap\"}], \"heatmapgl\": [{\"colorbar\": {\"outlinewidth\": 0, \"ticks\": \"\"}, \"colorscale\": [[0.0, \"#0d0887\"], [0.1111111111111111, \"#46039f\"], [0.2222222222222222, \"#7201a8\"], [0.3333333333333333, \"#9c179e\"], [0.4444444444444444, \"#bd3786\"], [0.5555555555555556, \"#d8576b\"], [0.6666666666666666, \"#ed7953\"], [0.7777777777777778, \"#fb9f3a\"], [0.8888888888888888, \"#fdca26\"], [1.0, \"#f0f921\"]], \"type\": \"heatmapgl\"}], \"histogram\": [{\"marker\": {\"colorbar\": {\"outlinewidth\": 0, \"ticks\": \"\"}}, \"type\": \"histogram\"}], \"histogram2d\": [{\"colorbar\": {\"outlinewidth\": 0, \"ticks\": \"\"}, \"colorscale\": [[0.0, \"#0d0887\"], [0.1111111111111111, \"#46039f\"], [0.2222222222222222, \"#7201a8\"], [0.3333333333333333, \"#9c179e\"], [0.4444444444444444, \"#bd3786\"], [0.5555555555555556, \"#d8576b\"], [0.6666666666666666, \"#ed7953\"], [0.7777777777777778, \"#fb9f3a\"], [0.8888888888888888, \"#fdca26\"], [1.0, \"#f0f921\"]], \"type\": \"histogram2d\"}], \"histogram2dcontour\": [{\"colorbar\": {\"outlinewidth\": 0, \"ticks\": \"\"}, \"colorscale\": [[0.0, \"#0d0887\"], [0.1111111111111111, \"#46039f\"], [0.2222222222222222, \"#7201a8\"], [0.3333333333333333, \"#9c179e\"], [0.4444444444444444, \"#bd3786\"], [0.5555555555555556, \"#d8576b\"], [0.6666666666666666, \"#ed7953\"], [0.7777777777777778, \"#fb9f3a\"], [0.8888888888888888, \"#fdca26\"], [1.0, \"#f0f921\"]], \"type\": \"histogram2dcontour\"}], \"mesh3d\": [{\"colorbar\": {\"outlinewidth\": 0, \"ticks\": \"\"}, \"type\": \"mesh3d\"}], \"parcoords\": [{\"line\": {\"colorbar\": {\"outlinewidth\": 0, \"ticks\": \"\"}}, \"type\": \"parcoords\"}], \"pie\": [{\"automargin\": true, \"type\": \"pie\"}], \"scatter\": [{\"marker\": {\"colorbar\": {\"outlinewidth\": 0, \"ticks\": \"\"}}, \"type\": \"scatter\"}], \"scatter3d\": [{\"line\": {\"colorbar\": {\"outlinewidth\": 0, \"ticks\": \"\"}}, \"marker\": {\"colorbar\": {\"outlinewidth\": 0, \"ticks\": \"\"}}, \"type\": \"scatter3d\"}], \"scattercarpet\": [{\"marker\": {\"colorbar\": {\"outlinewidth\": 0, \"ticks\": \"\"}}, \"type\": \"scattercarpet\"}], \"scattergeo\": [{\"marker\": {\"colorbar\": {\"outlinewidth\": 0, \"ticks\": \"\"}}, \"type\": \"scattergeo\"}], \"scattergl\": [{\"marker\": {\"colorbar\": {\"outlinewidth\": 0, \"ticks\": \"\"}}, \"type\": \"scattergl\"}], \"scattermapbox\": [{\"marker\": {\"colorbar\": {\"outlinewidth\": 0, \"ticks\": \"\"}}, \"type\": \"scattermapbox\"}], \"scatterpolar\": [{\"marker\": {\"colorbar\": {\"outlinewidth\": 0, \"ticks\": \"\"}}, \"type\": \"scatterpolar\"}], \"scatterpolargl\": [{\"marker\": {\"colorbar\": {\"outlinewidth\": 0, \"ticks\": \"\"}}, \"type\": \"scatterpolargl\"}], \"scatterternary\": [{\"marker\": {\"colorbar\": {\"outlinewidth\": 0, \"ticks\": \"\"}}, \"type\": \"scatterternary\"}], \"surface\": [{\"colorbar\": {\"outlinewidth\": 0, \"ticks\": \"\"}, \"colorscale\": [[0.0, \"#0d0887\"], [0.1111111111111111, \"#46039f\"], [0.2222222222222222, \"#7201a8\"], [0.3333333333333333, \"#9c179e\"], [0.4444444444444444, \"#bd3786\"], [0.5555555555555556, \"#d8576b\"], [0.6666666666666666, \"#ed7953\"], [0.7777777777777778, \"#fb9f3a\"], [0.8888888888888888, \"#fdca26\"], [1.0, \"#f0f921\"]], \"type\": \"surface\"}], \"table\": [{\"cells\": {\"fill\": {\"color\": \"#EBF0F8\"}, \"line\": {\"color\": \"white\"}}, \"header\": {\"fill\": {\"color\": \"#C8D4E3\"}, \"line\": {\"color\": \"white\"}}, \"type\": \"table\"}]}, \"layout\": {\"annotationdefaults\": {\"arrowcolor\": \"#2a3f5f\", \"arrowhead\": 0, \"arrowwidth\": 1}, \"coloraxis\": {\"colorbar\": {\"outlinewidth\": 0, \"ticks\": \"\"}}, \"colorscale\": {\"diverging\": [[0, \"#8e0152\"], [0.1, \"#c51b7d\"], [0.2, \"#de77ae\"], [0.3, \"#f1b6da\"], [0.4, \"#fde0ef\"], [0.5, \"#f7f7f7\"], [0.6, \"#e6f5d0\"], [0.7, \"#b8e186\"], [0.8, \"#7fbc41\"], [0.9, \"#4d9221\"], [1, \"#276419\"]], \"sequential\": [[0.0, \"#0d0887\"], [0.1111111111111111, \"#46039f\"], [0.2222222222222222, \"#7201a8\"], [0.3333333333333333, \"#9c179e\"], [0.4444444444444444, \"#bd3786\"], [0.5555555555555556, \"#d8576b\"], [0.6666666666666666, \"#ed7953\"], [0.7777777777777778, \"#fb9f3a\"], [0.8888888888888888, \"#fdca26\"], [1.0, \"#f0f921\"]], \"sequentialminus\": [[0.0, \"#0d0887\"], [0.1111111111111111, \"#46039f\"], [0.2222222222222222, \"#7201a8\"], [0.3333333333333333, \"#9c179e\"], [0.4444444444444444, \"#bd3786\"], [0.5555555555555556, \"#d8576b\"], [0.6666666666666666, \"#ed7953\"], [0.7777777777777778, \"#fb9f3a\"], [0.8888888888888888, \"#fdca26\"], [1.0, \"#f0f921\"]]}, \"colorway\": [\"#636efa\", \"#EF553B\", \"#00cc96\", \"#ab63fa\", \"#FFA15A\", \"#19d3f3\", \"#FF6692\", \"#B6E880\", \"#FF97FF\", \"#FECB52\"], \"font\": {\"color\": \"#2a3f5f\"}, \"geo\": {\"bgcolor\": \"white\", \"lakecolor\": \"white\", \"landcolor\": \"#E5ECF6\", \"showlakes\": true, \"showland\": true, \"subunitcolor\": \"white\"}, \"hoverlabel\": {\"align\": \"left\"}, \"hovermode\": \"closest\", \"mapbox\": {\"style\": \"light\"}, \"paper_bgcolor\": \"white\", \"plot_bgcolor\": \"#E5ECF6\", \"polar\": {\"angularaxis\": {\"gridcolor\": \"white\", \"linecolor\": \"white\", \"ticks\": \"\"}, \"bgcolor\": \"#E5ECF6\", \"radialaxis\": {\"gridcolor\": \"white\", \"linecolor\": \"white\", \"ticks\": \"\"}}, \"scene\": {\"xaxis\": {\"backgroundcolor\": \"#E5ECF6\", \"gridcolor\": \"white\", \"gridwidth\": 2, \"linecolor\": \"white\", \"showbackground\": true, \"ticks\": \"\", \"zerolinecolor\": \"white\"}, \"yaxis\": {\"backgroundcolor\": \"#E5ECF6\", \"gridcolor\": \"white\", \"gridwidth\": 2, \"linecolor\": \"white\", \"showbackground\": true, \"ticks\": \"\", \"zerolinecolor\": \"white\"}, \"zaxis\": {\"backgroundcolor\": \"#E5ECF6\", \"gridcolor\": \"white\", \"gridwidth\": 2, \"linecolor\": \"white\", \"showbackground\": true, \"ticks\": \"\", \"zerolinecolor\": \"white\"}}, \"shapedefaults\": {\"line\": {\"color\": \"#2a3f5f\"}}, \"ternary\": {\"aaxis\": {\"gridcolor\": \"white\", \"linecolor\": \"white\", \"ticks\": \"\"}, \"baxis\": {\"gridcolor\": \"white\", \"linecolor\": \"white\", \"ticks\": \"\"}, \"bgcolor\": \"#E5ECF6\", \"caxis\": {\"gridcolor\": \"white\", \"linecolor\": \"white\", \"ticks\": \"\"}}, \"title\": {\"x\": 0.05}, \"xaxis\": {\"automargin\": true, \"gridcolor\": \"white\", \"linecolor\": \"white\", \"ticks\": \"\", \"title\": {\"standoff\": 15}, \"zerolinecolor\": \"white\", \"zerolinewidth\": 2}, \"yaxis\": {\"automargin\": true, \"gridcolor\": \"white\", \"linecolor\": \"white\", \"ticks\": \"\", \"title\": {\"standoff\": 15}, \"zerolinecolor\": \"white\", \"zerolinewidth\": 2}}}, \"title\": {\"text\": \"Statistics of Tweet Sentiment v/s Fluctuations\"}, \"uniformtext\": {\"minsize\": 12, \"mode\": \"hide\"}},\n",
       "                        {\"responsive\": true}\n",
       "                    ).then(function(){\n",
       "                            \n",
       "var gd = document.getElementById('193ae68d-5706-4fcf-acb0-4d090507980f');\n",
       "var x = new MutationObserver(function (mutations, observer) {{\n",
       "        var display = window.getComputedStyle(gd).display;\n",
       "        if (!display || display === 'none') {{\n",
       "            console.log([gd, 'removed!']);\n",
       "            Plotly.purge(gd);\n",
       "            observer.disconnect();\n",
       "        }}\n",
       "}});\n",
       "\n",
       "// Listen for the removal of the full notebook cells\n",
       "var notebookContainer = gd.closest('#notebook-container');\n",
       "if (notebookContainer) {{\n",
       "    x.observe(notebookContainer, {childList: true});\n",
       "}}\n",
       "\n",
       "// Listen for the clearing of the current output cell\n",
       "var outputEl = gd.closest('.output');\n",
       "if (outputEl) {{\n",
       "    x.observe(outputEl, {childList: true});\n",
       "}}\n",
       "\n",
       "                        })\n",
       "                };\n",
       "                });\n",
       "            </script>\n",
       "        </div>"
      ]
     },
     "metadata": {},
     "output_type": "display_data"
    },
    {
     "data": {
      "application/vnd.plotly.v1+json": {
       "config": {
        "plotlyServerURL": "https://plot.ly"
       },
       "data": [
        {
         "marker": {
          "color": "rgb(139,224,164)"
         },
         "name": "Rise in Stock Price",
         "type": "bar",
         "x": [
          "2017",
          "2017",
          "2017",
          "2018",
          "2018",
          "2018",
          "2019",
          "2019",
          "2019",
          "2020",
          "2020",
          "2020"
         ],
         "y": [
          7,
          19,
          8,
          49,
          610,
          229,
          52,
          940,
          307,
          7,
          88,
          28
         ]
        },
        {
         "marker": {
          "color": "rgb(237,100,90)"
         },
         "name": "Fall in Stock Price",
         "type": "bar",
         "x": [
          "2017",
          "2017",
          "2017",
          "2018",
          "2018",
          "2018",
          "2019",
          "2019",
          "2019",
          "2020",
          "2020",
          "2020"
         ],
         "y": [
          1,
          22,
          8,
          48,
          660,
          231,
          43,
          744,
          252,
          1,
          30,
          16
         ]
        },
        {
         "marker": {
          "color": "rgb(158,185,243)"
         },
         "name": "No change in Stock Price",
         "type": "bar",
         "x": [
          "2019",
          "2019"
         ],
         "y": [
          3,
          2
         ]
        }
       ],
       "layout": {
        "bargap": 0.15,
        "bargroupgap": 0.1,
        "barmode": "group",
        "legend": {
         "bgcolor": "rgba(255, 255, 255, 0)",
         "bordercolor": "rgba(255, 255, 255, 0)",
         "x": 0,
         "y": 1
        },
        "template": {
         "data": {
          "bar": [
           {
            "error_x": {
             "color": "#2a3f5f"
            },
            "error_y": {
             "color": "#2a3f5f"
            },
            "marker": {
             "line": {
              "color": "#E5ECF6",
              "width": 0.5
             }
            },
            "type": "bar"
           }
          ],
          "barpolar": [
           {
            "marker": {
             "line": {
              "color": "#E5ECF6",
              "width": 0.5
             }
            },
            "type": "barpolar"
           }
          ],
          "carpet": [
           {
            "aaxis": {
             "endlinecolor": "#2a3f5f",
             "gridcolor": "white",
             "linecolor": "white",
             "minorgridcolor": "white",
             "startlinecolor": "#2a3f5f"
            },
            "baxis": {
             "endlinecolor": "#2a3f5f",
             "gridcolor": "white",
             "linecolor": "white",
             "minorgridcolor": "white",
             "startlinecolor": "#2a3f5f"
            },
            "type": "carpet"
           }
          ],
          "choropleth": [
           {
            "colorbar": {
             "outlinewidth": 0,
             "ticks": ""
            },
            "type": "choropleth"
           }
          ],
          "contour": [
           {
            "colorbar": {
             "outlinewidth": 0,
             "ticks": ""
            },
            "colorscale": [
             [
              0,
              "#0d0887"
             ],
             [
              0.1111111111111111,
              "#46039f"
             ],
             [
              0.2222222222222222,
              "#7201a8"
             ],
             [
              0.3333333333333333,
              "#9c179e"
             ],
             [
              0.4444444444444444,
              "#bd3786"
             ],
             [
              0.5555555555555556,
              "#d8576b"
             ],
             [
              0.6666666666666666,
              "#ed7953"
             ],
             [
              0.7777777777777778,
              "#fb9f3a"
             ],
             [
              0.8888888888888888,
              "#fdca26"
             ],
             [
              1,
              "#f0f921"
             ]
            ],
            "type": "contour"
           }
          ],
          "contourcarpet": [
           {
            "colorbar": {
             "outlinewidth": 0,
             "ticks": ""
            },
            "type": "contourcarpet"
           }
          ],
          "heatmap": [
           {
            "colorbar": {
             "outlinewidth": 0,
             "ticks": ""
            },
            "colorscale": [
             [
              0,
              "#0d0887"
             ],
             [
              0.1111111111111111,
              "#46039f"
             ],
             [
              0.2222222222222222,
              "#7201a8"
             ],
             [
              0.3333333333333333,
              "#9c179e"
             ],
             [
              0.4444444444444444,
              "#bd3786"
             ],
             [
              0.5555555555555556,
              "#d8576b"
             ],
             [
              0.6666666666666666,
              "#ed7953"
             ],
             [
              0.7777777777777778,
              "#fb9f3a"
             ],
             [
              0.8888888888888888,
              "#fdca26"
             ],
             [
              1,
              "#f0f921"
             ]
            ],
            "type": "heatmap"
           }
          ],
          "heatmapgl": [
           {
            "colorbar": {
             "outlinewidth": 0,
             "ticks": ""
            },
            "colorscale": [
             [
              0,
              "#0d0887"
             ],
             [
              0.1111111111111111,
              "#46039f"
             ],
             [
              0.2222222222222222,
              "#7201a8"
             ],
             [
              0.3333333333333333,
              "#9c179e"
             ],
             [
              0.4444444444444444,
              "#bd3786"
             ],
             [
              0.5555555555555556,
              "#d8576b"
             ],
             [
              0.6666666666666666,
              "#ed7953"
             ],
             [
              0.7777777777777778,
              "#fb9f3a"
             ],
             [
              0.8888888888888888,
              "#fdca26"
             ],
             [
              1,
              "#f0f921"
             ]
            ],
            "type": "heatmapgl"
           }
          ],
          "histogram": [
           {
            "marker": {
             "colorbar": {
              "outlinewidth": 0,
              "ticks": ""
             }
            },
            "type": "histogram"
           }
          ],
          "histogram2d": [
           {
            "colorbar": {
             "outlinewidth": 0,
             "ticks": ""
            },
            "colorscale": [
             [
              0,
              "#0d0887"
             ],
             [
              0.1111111111111111,
              "#46039f"
             ],
             [
              0.2222222222222222,
              "#7201a8"
             ],
             [
              0.3333333333333333,
              "#9c179e"
             ],
             [
              0.4444444444444444,
              "#bd3786"
             ],
             [
              0.5555555555555556,
              "#d8576b"
             ],
             [
              0.6666666666666666,
              "#ed7953"
             ],
             [
              0.7777777777777778,
              "#fb9f3a"
             ],
             [
              0.8888888888888888,
              "#fdca26"
             ],
             [
              1,
              "#f0f921"
             ]
            ],
            "type": "histogram2d"
           }
          ],
          "histogram2dcontour": [
           {
            "colorbar": {
             "outlinewidth": 0,
             "ticks": ""
            },
            "colorscale": [
             [
              0,
              "#0d0887"
             ],
             [
              0.1111111111111111,
              "#46039f"
             ],
             [
              0.2222222222222222,
              "#7201a8"
             ],
             [
              0.3333333333333333,
              "#9c179e"
             ],
             [
              0.4444444444444444,
              "#bd3786"
             ],
             [
              0.5555555555555556,
              "#d8576b"
             ],
             [
              0.6666666666666666,
              "#ed7953"
             ],
             [
              0.7777777777777778,
              "#fb9f3a"
             ],
             [
              0.8888888888888888,
              "#fdca26"
             ],
             [
              1,
              "#f0f921"
             ]
            ],
            "type": "histogram2dcontour"
           }
          ],
          "mesh3d": [
           {
            "colorbar": {
             "outlinewidth": 0,
             "ticks": ""
            },
            "type": "mesh3d"
           }
          ],
          "parcoords": [
           {
            "line": {
             "colorbar": {
              "outlinewidth": 0,
              "ticks": ""
             }
            },
            "type": "parcoords"
           }
          ],
          "pie": [
           {
            "automargin": true,
            "type": "pie"
           }
          ],
          "scatter": [
           {
            "marker": {
             "colorbar": {
              "outlinewidth": 0,
              "ticks": ""
             }
            },
            "type": "scatter"
           }
          ],
          "scatter3d": [
           {
            "line": {
             "colorbar": {
              "outlinewidth": 0,
              "ticks": ""
             }
            },
            "marker": {
             "colorbar": {
              "outlinewidth": 0,
              "ticks": ""
             }
            },
            "type": "scatter3d"
           }
          ],
          "scattercarpet": [
           {
            "marker": {
             "colorbar": {
              "outlinewidth": 0,
              "ticks": ""
             }
            },
            "type": "scattercarpet"
           }
          ],
          "scattergeo": [
           {
            "marker": {
             "colorbar": {
              "outlinewidth": 0,
              "ticks": ""
             }
            },
            "type": "scattergeo"
           }
          ],
          "scattergl": [
           {
            "marker": {
             "colorbar": {
              "outlinewidth": 0,
              "ticks": ""
             }
            },
            "type": "scattergl"
           }
          ],
          "scattermapbox": [
           {
            "marker": {
             "colorbar": {
              "outlinewidth": 0,
              "ticks": ""
             }
            },
            "type": "scattermapbox"
           }
          ],
          "scatterpolar": [
           {
            "marker": {
             "colorbar": {
              "outlinewidth": 0,
              "ticks": ""
             }
            },
            "type": "scatterpolar"
           }
          ],
          "scatterpolargl": [
           {
            "marker": {
             "colorbar": {
              "outlinewidth": 0,
              "ticks": ""
             }
            },
            "type": "scatterpolargl"
           }
          ],
          "scatterternary": [
           {
            "marker": {
             "colorbar": {
              "outlinewidth": 0,
              "ticks": ""
             }
            },
            "type": "scatterternary"
           }
          ],
          "surface": [
           {
            "colorbar": {
             "outlinewidth": 0,
             "ticks": ""
            },
            "colorscale": [
             [
              0,
              "#0d0887"
             ],
             [
              0.1111111111111111,
              "#46039f"
             ],
             [
              0.2222222222222222,
              "#7201a8"
             ],
             [
              0.3333333333333333,
              "#9c179e"
             ],
             [
              0.4444444444444444,
              "#bd3786"
             ],
             [
              0.5555555555555556,
              "#d8576b"
             ],
             [
              0.6666666666666666,
              "#ed7953"
             ],
             [
              0.7777777777777778,
              "#fb9f3a"
             ],
             [
              0.8888888888888888,
              "#fdca26"
             ],
             [
              1,
              "#f0f921"
             ]
            ],
            "type": "surface"
           }
          ],
          "table": [
           {
            "cells": {
             "fill": {
              "color": "#EBF0F8"
             },
             "line": {
              "color": "white"
             }
            },
            "header": {
             "fill": {
              "color": "#C8D4E3"
             },
             "line": {
              "color": "white"
             }
            },
            "type": "table"
           }
          ]
         },
         "layout": {
          "annotationdefaults": {
           "arrowcolor": "#2a3f5f",
           "arrowhead": 0,
           "arrowwidth": 1
          },
          "coloraxis": {
           "colorbar": {
            "outlinewidth": 0,
            "ticks": ""
           }
          },
          "colorscale": {
           "diverging": [
            [
             0,
             "#8e0152"
            ],
            [
             0.1,
             "#c51b7d"
            ],
            [
             0.2,
             "#de77ae"
            ],
            [
             0.3,
             "#f1b6da"
            ],
            [
             0.4,
             "#fde0ef"
            ],
            [
             0.5,
             "#f7f7f7"
            ],
            [
             0.6,
             "#e6f5d0"
            ],
            [
             0.7,
             "#b8e186"
            ],
            [
             0.8,
             "#7fbc41"
            ],
            [
             0.9,
             "#4d9221"
            ],
            [
             1,
             "#276419"
            ]
           ],
           "sequential": [
            [
             0,
             "#0d0887"
            ],
            [
             0.1111111111111111,
             "#46039f"
            ],
            [
             0.2222222222222222,
             "#7201a8"
            ],
            [
             0.3333333333333333,
             "#9c179e"
            ],
            [
             0.4444444444444444,
             "#bd3786"
            ],
            [
             0.5555555555555556,
             "#d8576b"
            ],
            [
             0.6666666666666666,
             "#ed7953"
            ],
            [
             0.7777777777777778,
             "#fb9f3a"
            ],
            [
             0.8888888888888888,
             "#fdca26"
            ],
            [
             1,
             "#f0f921"
            ]
           ],
           "sequentialminus": [
            [
             0,
             "#0d0887"
            ],
            [
             0.1111111111111111,
             "#46039f"
            ],
            [
             0.2222222222222222,
             "#7201a8"
            ],
            [
             0.3333333333333333,
             "#9c179e"
            ],
            [
             0.4444444444444444,
             "#bd3786"
            ],
            [
             0.5555555555555556,
             "#d8576b"
            ],
            [
             0.6666666666666666,
             "#ed7953"
            ],
            [
             0.7777777777777778,
             "#fb9f3a"
            ],
            [
             0.8888888888888888,
             "#fdca26"
            ],
            [
             1,
             "#f0f921"
            ]
           ]
          },
          "colorway": [
           "#636efa",
           "#EF553B",
           "#00cc96",
           "#ab63fa",
           "#FFA15A",
           "#19d3f3",
           "#FF6692",
           "#B6E880",
           "#FF97FF",
           "#FECB52"
          ],
          "font": {
           "color": "#2a3f5f"
          },
          "geo": {
           "bgcolor": "white",
           "lakecolor": "white",
           "landcolor": "#E5ECF6",
           "showlakes": true,
           "showland": true,
           "subunitcolor": "white"
          },
          "hoverlabel": {
           "align": "left"
          },
          "hovermode": "closest",
          "mapbox": {
           "style": "light"
          },
          "paper_bgcolor": "white",
          "plot_bgcolor": "#E5ECF6",
          "polar": {
           "angularaxis": {
            "gridcolor": "white",
            "linecolor": "white",
            "ticks": ""
           },
           "bgcolor": "#E5ECF6",
           "radialaxis": {
            "gridcolor": "white",
            "linecolor": "white",
            "ticks": ""
           }
          },
          "scene": {
           "xaxis": {
            "backgroundcolor": "#E5ECF6",
            "gridcolor": "white",
            "gridwidth": 2,
            "linecolor": "white",
            "showbackground": true,
            "ticks": "",
            "zerolinecolor": "white"
           },
           "yaxis": {
            "backgroundcolor": "#E5ECF6",
            "gridcolor": "white",
            "gridwidth": 2,
            "linecolor": "white",
            "showbackground": true,
            "ticks": "",
            "zerolinecolor": "white"
           },
           "zaxis": {
            "backgroundcolor": "#E5ECF6",
            "gridcolor": "white",
            "gridwidth": 2,
            "linecolor": "white",
            "showbackground": true,
            "ticks": "",
            "zerolinecolor": "white"
           }
          },
          "shapedefaults": {
           "line": {
            "color": "#2a3f5f"
           }
          },
          "ternary": {
           "aaxis": {
            "gridcolor": "white",
            "linecolor": "white",
            "ticks": ""
           },
           "baxis": {
            "gridcolor": "white",
            "linecolor": "white",
            "ticks": ""
           },
           "bgcolor": "#E5ECF6",
           "caxis": {
            "gridcolor": "white",
            "linecolor": "white",
            "ticks": ""
           }
          },
          "title": {
           "x": 0.05
          },
          "xaxis": {
           "automargin": true,
           "gridcolor": "white",
           "linecolor": "white",
           "ticks": "",
           "title": {
            "standoff": 15
           },
           "zerolinecolor": "white",
           "zerolinewidth": 2
          },
          "yaxis": {
           "automargin": true,
           "gridcolor": "white",
           "linecolor": "white",
           "ticks": "",
           "title": {
            "standoff": 15
           },
           "zerolinecolor": "white",
           "zerolinewidth": 2
          }
         }
        },
        "title": {
         "text": "Statistics of Stock Price Fluctuations by year"
        },
        "xaxis": {
         "tickfont": {
          "size": 14
         }
        },
        "yaxis": {
         "tickfont": {
          "size": 14
         },
         "title": {
          "font": {
           "size": 16
          },
          "text": "Total"
         }
        }
       }
      },
      "text/html": [
       "<div>\n",
       "        \n",
       "        \n",
       "            <div id=\"8aaa496a-3987-4bb7-b0f0-8be58ac6d0f3\" class=\"plotly-graph-div\" style=\"height:525px; width:100%;\"></div>\n",
       "            <script type=\"text/javascript\">\n",
       "                require([\"plotly\"], function(Plotly) {\n",
       "                    window.PLOTLYENV=window.PLOTLYENV || {};\n",
       "                    \n",
       "                if (document.getElementById(\"8aaa496a-3987-4bb7-b0f0-8be58ac6d0f3\")) {\n",
       "                    Plotly.newPlot(\n",
       "                        '8aaa496a-3987-4bb7-b0f0-8be58ac6d0f3',\n",
       "                        [{\"marker\": {\"color\": \"rgb(139,224,164)\"}, \"name\": \"Rise in Stock Price\", \"type\": \"bar\", \"x\": [\"2017\", \"2017\", \"2017\", \"2018\", \"2018\", \"2018\", \"2019\", \"2019\", \"2019\", \"2020\", \"2020\", \"2020\"], \"y\": [7, 19, 8, 49, 610, 229, 52, 940, 307, 7, 88, 28]}, {\"marker\": {\"color\": \"rgb(237,100,90)\"}, \"name\": \"Fall in Stock Price\", \"type\": \"bar\", \"x\": [\"2017\", \"2017\", \"2017\", \"2018\", \"2018\", \"2018\", \"2019\", \"2019\", \"2019\", \"2020\", \"2020\", \"2020\"], \"y\": [1, 22, 8, 48, 660, 231, 43, 744, 252, 1, 30, 16]}, {\"marker\": {\"color\": \"rgb(158,185,243)\"}, \"name\": \"No change in Stock Price\", \"type\": \"bar\", \"x\": [\"2019\", \"2019\"], \"y\": [3, 2]}],\n",
       "                        {\"bargap\": 0.15, \"bargroupgap\": 0.1, \"barmode\": \"group\", \"legend\": {\"bgcolor\": \"rgba(255, 255, 255, 0)\", \"bordercolor\": \"rgba(255, 255, 255, 0)\", \"x\": 0, \"y\": 1.0}, \"template\": {\"data\": {\"bar\": [{\"error_x\": {\"color\": \"#2a3f5f\"}, \"error_y\": {\"color\": \"#2a3f5f\"}, \"marker\": {\"line\": {\"color\": \"#E5ECF6\", \"width\": 0.5}}, \"type\": \"bar\"}], \"barpolar\": [{\"marker\": {\"line\": {\"color\": \"#E5ECF6\", \"width\": 0.5}}, \"type\": \"barpolar\"}], \"carpet\": [{\"aaxis\": {\"endlinecolor\": \"#2a3f5f\", \"gridcolor\": \"white\", \"linecolor\": \"white\", \"minorgridcolor\": \"white\", \"startlinecolor\": \"#2a3f5f\"}, \"baxis\": {\"endlinecolor\": \"#2a3f5f\", \"gridcolor\": \"white\", \"linecolor\": \"white\", \"minorgridcolor\": \"white\", \"startlinecolor\": \"#2a3f5f\"}, \"type\": \"carpet\"}], \"choropleth\": [{\"colorbar\": {\"outlinewidth\": 0, \"ticks\": \"\"}, \"type\": \"choropleth\"}], \"contour\": [{\"colorbar\": {\"outlinewidth\": 0, \"ticks\": \"\"}, \"colorscale\": [[0.0, \"#0d0887\"], [0.1111111111111111, \"#46039f\"], [0.2222222222222222, \"#7201a8\"], [0.3333333333333333, \"#9c179e\"], [0.4444444444444444, \"#bd3786\"], [0.5555555555555556, \"#d8576b\"], [0.6666666666666666, \"#ed7953\"], [0.7777777777777778, \"#fb9f3a\"], [0.8888888888888888, \"#fdca26\"], [1.0, \"#f0f921\"]], \"type\": \"contour\"}], \"contourcarpet\": [{\"colorbar\": {\"outlinewidth\": 0, \"ticks\": \"\"}, \"type\": \"contourcarpet\"}], \"heatmap\": [{\"colorbar\": {\"outlinewidth\": 0, \"ticks\": \"\"}, \"colorscale\": [[0.0, \"#0d0887\"], [0.1111111111111111, \"#46039f\"], [0.2222222222222222, \"#7201a8\"], [0.3333333333333333, \"#9c179e\"], [0.4444444444444444, \"#bd3786\"], [0.5555555555555556, \"#d8576b\"], [0.6666666666666666, \"#ed7953\"], [0.7777777777777778, \"#fb9f3a\"], [0.8888888888888888, \"#fdca26\"], [1.0, \"#f0f921\"]], \"type\": \"heatmap\"}], \"heatmapgl\": [{\"colorbar\": {\"outlinewidth\": 0, \"ticks\": \"\"}, \"colorscale\": [[0.0, \"#0d0887\"], [0.1111111111111111, \"#46039f\"], [0.2222222222222222, \"#7201a8\"], [0.3333333333333333, \"#9c179e\"], [0.4444444444444444, \"#bd3786\"], [0.5555555555555556, \"#d8576b\"], [0.6666666666666666, \"#ed7953\"], [0.7777777777777778, \"#fb9f3a\"], [0.8888888888888888, \"#fdca26\"], [1.0, \"#f0f921\"]], \"type\": \"heatmapgl\"}], \"histogram\": [{\"marker\": {\"colorbar\": {\"outlinewidth\": 0, \"ticks\": \"\"}}, \"type\": \"histogram\"}], \"histogram2d\": [{\"colorbar\": {\"outlinewidth\": 0, \"ticks\": \"\"}, \"colorscale\": [[0.0, \"#0d0887\"], [0.1111111111111111, \"#46039f\"], [0.2222222222222222, \"#7201a8\"], [0.3333333333333333, \"#9c179e\"], [0.4444444444444444, \"#bd3786\"], [0.5555555555555556, \"#d8576b\"], [0.6666666666666666, \"#ed7953\"], [0.7777777777777778, \"#fb9f3a\"], [0.8888888888888888, \"#fdca26\"], [1.0, \"#f0f921\"]], \"type\": \"histogram2d\"}], \"histogram2dcontour\": [{\"colorbar\": {\"outlinewidth\": 0, \"ticks\": \"\"}, \"colorscale\": [[0.0, \"#0d0887\"], [0.1111111111111111, \"#46039f\"], [0.2222222222222222, \"#7201a8\"], [0.3333333333333333, \"#9c179e\"], [0.4444444444444444, \"#bd3786\"], [0.5555555555555556, \"#d8576b\"], [0.6666666666666666, \"#ed7953\"], [0.7777777777777778, \"#fb9f3a\"], [0.8888888888888888, \"#fdca26\"], [1.0, \"#f0f921\"]], \"type\": \"histogram2dcontour\"}], \"mesh3d\": [{\"colorbar\": {\"outlinewidth\": 0, \"ticks\": \"\"}, \"type\": \"mesh3d\"}], \"parcoords\": [{\"line\": {\"colorbar\": {\"outlinewidth\": 0, \"ticks\": \"\"}}, \"type\": \"parcoords\"}], \"pie\": [{\"automargin\": true, \"type\": \"pie\"}], \"scatter\": [{\"marker\": {\"colorbar\": {\"outlinewidth\": 0, \"ticks\": \"\"}}, \"type\": \"scatter\"}], \"scatter3d\": [{\"line\": {\"colorbar\": {\"outlinewidth\": 0, \"ticks\": \"\"}}, \"marker\": {\"colorbar\": {\"outlinewidth\": 0, \"ticks\": \"\"}}, \"type\": \"scatter3d\"}], \"scattercarpet\": [{\"marker\": {\"colorbar\": {\"outlinewidth\": 0, \"ticks\": \"\"}}, \"type\": \"scattercarpet\"}], \"scattergeo\": [{\"marker\": {\"colorbar\": {\"outlinewidth\": 0, \"ticks\": \"\"}}, \"type\": \"scattergeo\"}], \"scattergl\": [{\"marker\": {\"colorbar\": {\"outlinewidth\": 0, \"ticks\": \"\"}}, \"type\": \"scattergl\"}], \"scattermapbox\": [{\"marker\": {\"colorbar\": {\"outlinewidth\": 0, \"ticks\": \"\"}}, \"type\": \"scattermapbox\"}], \"scatterpolar\": [{\"marker\": {\"colorbar\": {\"outlinewidth\": 0, \"ticks\": \"\"}}, \"type\": \"scatterpolar\"}], \"scatterpolargl\": [{\"marker\": {\"colorbar\": {\"outlinewidth\": 0, \"ticks\": \"\"}}, \"type\": \"scatterpolargl\"}], \"scatterternary\": [{\"marker\": {\"colorbar\": {\"outlinewidth\": 0, \"ticks\": \"\"}}, \"type\": \"scatterternary\"}], \"surface\": [{\"colorbar\": {\"outlinewidth\": 0, \"ticks\": \"\"}, \"colorscale\": [[0.0, \"#0d0887\"], [0.1111111111111111, \"#46039f\"], [0.2222222222222222, \"#7201a8\"], [0.3333333333333333, \"#9c179e\"], [0.4444444444444444, \"#bd3786\"], [0.5555555555555556, \"#d8576b\"], [0.6666666666666666, \"#ed7953\"], [0.7777777777777778, \"#fb9f3a\"], [0.8888888888888888, \"#fdca26\"], [1.0, \"#f0f921\"]], \"type\": \"surface\"}], \"table\": [{\"cells\": {\"fill\": {\"color\": \"#EBF0F8\"}, \"line\": {\"color\": \"white\"}}, \"header\": {\"fill\": {\"color\": \"#C8D4E3\"}, \"line\": {\"color\": \"white\"}}, \"type\": \"table\"}]}, \"layout\": {\"annotationdefaults\": {\"arrowcolor\": \"#2a3f5f\", \"arrowhead\": 0, \"arrowwidth\": 1}, \"coloraxis\": {\"colorbar\": {\"outlinewidth\": 0, \"ticks\": \"\"}}, \"colorscale\": {\"diverging\": [[0, \"#8e0152\"], [0.1, \"#c51b7d\"], [0.2, \"#de77ae\"], [0.3, \"#f1b6da\"], [0.4, \"#fde0ef\"], [0.5, \"#f7f7f7\"], [0.6, \"#e6f5d0\"], [0.7, \"#b8e186\"], [0.8, \"#7fbc41\"], [0.9, \"#4d9221\"], [1, \"#276419\"]], \"sequential\": [[0.0, \"#0d0887\"], [0.1111111111111111, \"#46039f\"], [0.2222222222222222, \"#7201a8\"], [0.3333333333333333, \"#9c179e\"], [0.4444444444444444, \"#bd3786\"], [0.5555555555555556, \"#d8576b\"], [0.6666666666666666, \"#ed7953\"], [0.7777777777777778, \"#fb9f3a\"], [0.8888888888888888, \"#fdca26\"], [1.0, \"#f0f921\"]], \"sequentialminus\": [[0.0, \"#0d0887\"], [0.1111111111111111, \"#46039f\"], [0.2222222222222222, \"#7201a8\"], [0.3333333333333333, \"#9c179e\"], [0.4444444444444444, \"#bd3786\"], [0.5555555555555556, \"#d8576b\"], [0.6666666666666666, \"#ed7953\"], [0.7777777777777778, \"#fb9f3a\"], [0.8888888888888888, \"#fdca26\"], [1.0, \"#f0f921\"]]}, \"colorway\": [\"#636efa\", \"#EF553B\", \"#00cc96\", \"#ab63fa\", \"#FFA15A\", \"#19d3f3\", \"#FF6692\", \"#B6E880\", \"#FF97FF\", \"#FECB52\"], \"font\": {\"color\": \"#2a3f5f\"}, \"geo\": {\"bgcolor\": \"white\", \"lakecolor\": \"white\", \"landcolor\": \"#E5ECF6\", \"showlakes\": true, \"showland\": true, \"subunitcolor\": \"white\"}, \"hoverlabel\": {\"align\": \"left\"}, \"hovermode\": \"closest\", \"mapbox\": {\"style\": \"light\"}, \"paper_bgcolor\": \"white\", \"plot_bgcolor\": \"#E5ECF6\", \"polar\": {\"angularaxis\": {\"gridcolor\": \"white\", \"linecolor\": \"white\", \"ticks\": \"\"}, \"bgcolor\": \"#E5ECF6\", \"radialaxis\": {\"gridcolor\": \"white\", \"linecolor\": \"white\", \"ticks\": \"\"}}, \"scene\": {\"xaxis\": {\"backgroundcolor\": \"#E5ECF6\", \"gridcolor\": \"white\", \"gridwidth\": 2, \"linecolor\": \"white\", \"showbackground\": true, \"ticks\": \"\", \"zerolinecolor\": \"white\"}, \"yaxis\": {\"backgroundcolor\": \"#E5ECF6\", \"gridcolor\": \"white\", \"gridwidth\": 2, \"linecolor\": \"white\", \"showbackground\": true, \"ticks\": \"\", \"zerolinecolor\": \"white\"}, \"zaxis\": {\"backgroundcolor\": \"#E5ECF6\", \"gridcolor\": \"white\", \"gridwidth\": 2, \"linecolor\": \"white\", \"showbackground\": true, \"ticks\": \"\", \"zerolinecolor\": \"white\"}}, \"shapedefaults\": {\"line\": {\"color\": \"#2a3f5f\"}}, \"ternary\": {\"aaxis\": {\"gridcolor\": \"white\", \"linecolor\": \"white\", \"ticks\": \"\"}, \"baxis\": {\"gridcolor\": \"white\", \"linecolor\": \"white\", \"ticks\": \"\"}, \"bgcolor\": \"#E5ECF6\", \"caxis\": {\"gridcolor\": \"white\", \"linecolor\": \"white\", \"ticks\": \"\"}}, \"title\": {\"x\": 0.05}, \"xaxis\": {\"automargin\": true, \"gridcolor\": \"white\", \"linecolor\": \"white\", \"ticks\": \"\", \"title\": {\"standoff\": 15}, \"zerolinecolor\": \"white\", \"zerolinewidth\": 2}, \"yaxis\": {\"automargin\": true, \"gridcolor\": \"white\", \"linecolor\": \"white\", \"ticks\": \"\", \"title\": {\"standoff\": 15}, \"zerolinecolor\": \"white\", \"zerolinewidth\": 2}}}, \"title\": {\"text\": \"Statistics of Stock Price Fluctuations by year\"}, \"xaxis\": {\"tickfont\": {\"size\": 14}}, \"yaxis\": {\"tickfont\": {\"size\": 14}, \"title\": {\"font\": {\"size\": 16}, \"text\": \"Total\"}}},\n",
       "                        {\"responsive\": true}\n",
       "                    ).then(function(){\n",
       "                            \n",
       "var gd = document.getElementById('8aaa496a-3987-4bb7-b0f0-8be58ac6d0f3');\n",
       "var x = new MutationObserver(function (mutations, observer) {{\n",
       "        var display = window.getComputedStyle(gd).display;\n",
       "        if (!display || display === 'none') {{\n",
       "            console.log([gd, 'removed!']);\n",
       "            Plotly.purge(gd);\n",
       "            observer.disconnect();\n",
       "        }}\n",
       "}});\n",
       "\n",
       "// Listen for the removal of the full notebook cells\n",
       "var notebookContainer = gd.closest('#notebook-container');\n",
       "if (notebookContainer) {{\n",
       "    x.observe(notebookContainer, {childList: true});\n",
       "}}\n",
       "\n",
       "// Listen for the clearing of the current output cell\n",
       "var outputEl = gd.closest('.output');\n",
       "if (outputEl) {{\n",
       "    x.observe(outputEl, {childList: true});\n",
       "}}\n",
       "\n",
       "                        })\n",
       "                };\n",
       "                });\n",
       "            </script>\n",
       "        </div>"
      ]
     },
     "metadata": {},
     "output_type": "display_data"
    },
    {
     "data": {
      "application/vnd.plotly.v1+json": {
       "config": {
        "plotlyServerURL": "https://plot.ly"
       },
       "data": [
        {
         "line": {
          "color": "rgb(102,102,102)"
         },
         "mode": "lines",
         "name": "Tesla Stock Price",
         "type": "scatter",
         "x": [
          "2017-12-04",
          "2017-12-05",
          "2017-12-06",
          "2017-12-07",
          "2017-12-08",
          "2017-12-11",
          "2017-12-12",
          "2017-12-13",
          "2017-12-14",
          "2017-12-15",
          "2017-12-18",
          "2017-12-19",
          "2017-12-20",
          "2017-12-21",
          "2017-12-22",
          "2017-12-26",
          "2017-12-27",
          "2017-12-28",
          "2017-12-29",
          "2018-01-02",
          "2018-01-03",
          "2018-01-04",
          "2018-01-05",
          "2018-01-08",
          "2018-01-09",
          "2018-01-10",
          "2018-01-11",
          "2018-01-12",
          "2018-01-16",
          "2018-01-17",
          "2018-01-18",
          "2018-01-19",
          "2018-01-22",
          "2018-01-23",
          "2018-01-24",
          "2018-01-25",
          "2018-01-26",
          "2018-01-29",
          "2018-01-30",
          "2018-01-31",
          "2018-02-01",
          "2018-02-02",
          "2018-02-05",
          "2018-02-06",
          "2018-02-07",
          "2018-02-08",
          "2018-02-09",
          "2018-02-12",
          "2018-02-13",
          "2018-02-14",
          "2018-02-15",
          "2018-02-16",
          "2018-02-20",
          "2018-02-21",
          "2018-02-22",
          "2018-02-23",
          "2018-02-26",
          "2018-02-27",
          "2018-02-28",
          "2018-03-01",
          "2018-03-02",
          "2018-03-05",
          "2018-03-06",
          "2018-03-07",
          "2018-03-08",
          "2018-03-09",
          "2018-03-12",
          "2018-03-13",
          "2018-03-14",
          "2018-03-15",
          "2018-03-16",
          "2018-03-19",
          "2018-03-20",
          "2018-03-21",
          "2018-03-22",
          "2018-03-23",
          "2018-03-26",
          "2018-03-27",
          "2018-03-28",
          "2018-03-29",
          "2018-04-02",
          "2018-04-03",
          "2018-04-04",
          "2018-04-05",
          "2018-04-06",
          "2018-04-09",
          "2018-04-10",
          "2018-04-11",
          "2018-04-12",
          "2018-04-13",
          "2018-04-16",
          "2018-04-17",
          "2018-04-18",
          "2018-04-19",
          "2018-04-20",
          "2018-04-23",
          "2018-04-24",
          "2018-04-25",
          "2018-04-26",
          "2018-04-27",
          "2018-04-30",
          "2018-05-01",
          "2018-05-02",
          "2018-05-03",
          "2018-05-04",
          "2018-05-07",
          "2018-05-08",
          "2018-05-09",
          "2018-05-10",
          "2018-05-11",
          "2018-05-14",
          "2018-05-15",
          "2018-05-16",
          "2018-05-17",
          "2018-05-18",
          "2018-05-21",
          "2018-05-22",
          "2018-05-23",
          "2018-05-24",
          "2018-05-25",
          "2018-05-29",
          "2018-05-30",
          "2018-05-31",
          "2018-06-01",
          "2018-06-04",
          "2018-06-05",
          "2018-06-06",
          "2018-06-07",
          "2018-06-08",
          "2018-06-11",
          "2018-06-12",
          "2018-06-13",
          "2018-06-14",
          "2018-06-15",
          "2018-06-18",
          "2018-06-19",
          "2018-06-20",
          "2018-06-21",
          "2018-06-22",
          "2018-06-25",
          "2018-06-26",
          "2018-06-27",
          "2018-06-28",
          "2018-06-29",
          "2018-07-02",
          "2018-07-03",
          "2018-07-05",
          "2018-07-06",
          "2018-07-09",
          "2018-07-10",
          "2018-07-11",
          "2018-07-12",
          "2018-07-13",
          "2018-07-16",
          "2018-07-17",
          "2018-07-18",
          "2018-07-19",
          "2018-07-20",
          "2018-07-23",
          "2018-07-24",
          "2018-07-25",
          "2018-07-26",
          "2018-07-27",
          "2018-07-30",
          "2018-07-31",
          "2018-08-01",
          "2018-08-02",
          "2018-08-03",
          "2018-08-06",
          "2018-08-07",
          "2018-08-08",
          "2018-08-09",
          "2018-08-10",
          "2018-08-13",
          "2018-08-14",
          "2018-08-15",
          "2018-08-16",
          "2018-08-17",
          "2018-08-20",
          "2018-08-21",
          "2018-08-22",
          "2018-08-23",
          "2018-08-24",
          "2018-08-27",
          "2018-08-28",
          "2018-08-29",
          "2018-08-30",
          "2018-08-31",
          "2018-09-04",
          "2018-09-05",
          "2018-09-06",
          "2018-09-07",
          "2018-09-10",
          "2018-09-11",
          "2018-09-12",
          "2018-09-13",
          "2018-09-14",
          "2018-09-17",
          "2018-09-18",
          "2018-09-19",
          "2018-09-20",
          "2018-09-21",
          "2018-09-24",
          "2018-09-25",
          "2018-09-26",
          "2018-09-27",
          "2018-09-28",
          "2018-10-01",
          "2018-10-02",
          "2018-10-03",
          "2018-10-04",
          "2018-10-05",
          "2018-10-08",
          "2018-10-09",
          "2018-10-10",
          "2018-10-11",
          "2018-10-12",
          "2018-10-15",
          "2018-10-16",
          "2018-10-17",
          "2018-10-18",
          "2018-10-19",
          "2018-10-22",
          "2018-10-23",
          "2018-10-24",
          "2018-10-25",
          "2018-10-26",
          "2018-10-29",
          "2018-10-30",
          "2018-10-31",
          "2018-11-01",
          "2018-11-02",
          "2018-11-05",
          "2018-11-06",
          "2018-11-07",
          "2018-11-08",
          "2018-11-09",
          "2018-11-12",
          "2018-11-13",
          "2018-11-14",
          "2018-11-15",
          "2018-11-16",
          "2018-11-19",
          "2018-11-20",
          "2018-11-21",
          "2018-11-23",
          "2018-11-26",
          "2018-11-27",
          "2018-11-28",
          "2018-11-29",
          "2018-11-30",
          "2018-12-03",
          "2018-12-04",
          "2018-12-06",
          "2018-12-07",
          "2018-12-10",
          "2018-12-11",
          "2018-12-12",
          "2018-12-13",
          "2018-12-14",
          "2018-12-17",
          "2018-12-18",
          "2018-12-19",
          "2018-12-20",
          "2018-12-21",
          "2018-12-24",
          "2018-12-26",
          "2018-12-27",
          "2018-12-28",
          "2018-12-31",
          "2019-01-02",
          "2019-01-03",
          "2019-01-04",
          "2019-01-07",
          "2019-01-08",
          "2019-01-09",
          "2019-01-10",
          "2019-01-11",
          "2019-01-14",
          "2019-01-15",
          "2019-01-16",
          "2019-01-17",
          "2019-01-18",
          "2019-01-22",
          "2019-01-23",
          "2019-01-24",
          "2019-01-25",
          "2019-01-28",
          "2019-01-29",
          "2019-01-30",
          "2019-01-31",
          "2019-02-01",
          "2019-02-04",
          "2019-02-05",
          "2019-02-06",
          "2019-02-07",
          "2019-02-08",
          "2019-02-11",
          "2019-02-12",
          "2019-02-13",
          "2019-02-14",
          "2019-02-15",
          "2019-02-19",
          "2019-02-20",
          "2019-02-21",
          "2019-02-22",
          "2019-02-25",
          "2019-02-26",
          "2019-02-27",
          "2019-02-28",
          "2019-03-01",
          "2019-03-04",
          "2019-03-05",
          "2019-03-06",
          "2019-03-07",
          "2019-03-08",
          "2019-03-11",
          "2019-03-12",
          "2019-03-13",
          "2019-03-14",
          "2019-03-15",
          "2019-03-18",
          "2019-03-19",
          "2019-03-20",
          "2019-03-21",
          "2019-03-22",
          "2019-03-25",
          "2019-03-26",
          "2019-03-27",
          "2019-03-28",
          "2019-03-29",
          "2019-04-01",
          "2019-04-02",
          "2019-04-03",
          "2019-04-04",
          "2019-04-05",
          "2019-04-08",
          "2019-04-09",
          "2019-04-10",
          "2019-04-11",
          "2019-04-12",
          "2019-04-15",
          "2019-04-16",
          "2019-04-17",
          "2019-04-18",
          "2019-04-22",
          "2019-04-23",
          "2019-04-24",
          "2019-04-25",
          "2019-04-26",
          "2019-04-29",
          "2019-04-30",
          "2019-05-01",
          "2019-05-02",
          "2019-05-03",
          "2019-05-06",
          "2019-05-07",
          "2019-05-08",
          "2019-05-09",
          "2019-05-10",
          "2019-05-13",
          "2019-05-14",
          "2019-05-15",
          "2019-05-16",
          "2019-05-17",
          "2019-05-20",
          "2019-05-21",
          "2019-05-22",
          "2019-05-23",
          "2019-05-24",
          "2019-05-28",
          "2019-05-29",
          "2019-05-30",
          "2019-05-31",
          "2019-06-03",
          "2019-06-04",
          "2019-06-05",
          "2019-06-06",
          "2019-06-07",
          "2019-06-10",
          "2019-06-11",
          "2019-06-12",
          "2019-06-13",
          "2019-06-14",
          "2019-06-17",
          "2019-06-18",
          "2019-06-19",
          "2019-06-20",
          "2019-06-21",
          "2019-06-24",
          "2019-06-25",
          "2019-06-26",
          "2019-06-27",
          "2019-06-28",
          "2019-07-01",
          "2019-07-02",
          "2019-07-03",
          "2019-07-05",
          "2019-07-08",
          "2019-07-09",
          "2019-07-10",
          "2019-07-11",
          "2019-07-12",
          "2019-07-15",
          "2019-07-16",
          "2019-07-17",
          "2019-07-18",
          "2019-07-19",
          "2019-07-22",
          "2019-07-23",
          "2019-07-24",
          "2019-07-25",
          "2019-07-26",
          "2019-07-29",
          "2019-07-30",
          "2019-07-31",
          "2019-08-01",
          "2019-08-02",
          "2019-08-05",
          "2019-08-06",
          "2019-08-07",
          "2019-08-08",
          "2019-08-09",
          "2019-08-12",
          "2019-08-13",
          "2019-08-14",
          "2019-08-15",
          "2019-08-16",
          "2019-08-19",
          "2019-08-20",
          "2019-08-21",
          "2019-08-22",
          "2019-08-23",
          "2019-08-26",
          "2019-08-27",
          "2019-08-28",
          "2019-08-29",
          "2019-08-30",
          "2019-09-03",
          "2019-09-04",
          "2019-09-05",
          "2019-09-06",
          "2019-09-09",
          "2019-09-10",
          "2019-09-11",
          "2019-09-12",
          "2019-09-13",
          "2019-09-16",
          "2019-09-17",
          "2019-09-18",
          "2019-09-19",
          "2019-09-20",
          "2019-09-23",
          "2019-09-24",
          "2019-09-25",
          "2019-09-26",
          "2019-09-27",
          "2019-09-30",
          "2019-10-01",
          "2019-10-02",
          "2019-10-03",
          "2019-10-04",
          "2019-10-07",
          "2019-10-08",
          "2019-10-09",
          "2019-10-10",
          "2019-10-11",
          "2019-10-14",
          "2019-10-15",
          "2019-10-16",
          "2019-10-17",
          "2019-10-18",
          "2019-10-21",
          "2019-10-22",
          "2019-10-23",
          "2019-10-24",
          "2019-10-25",
          "2019-10-28",
          "2019-10-29",
          "2019-10-30",
          "2019-10-31",
          "2019-11-01",
          "2019-11-04",
          "2019-11-05",
          "2019-11-06",
          "2019-11-07",
          "2019-11-08",
          "2019-11-11",
          "2019-11-12",
          "2019-11-13",
          "2019-11-14",
          "2019-11-15",
          "2019-11-18",
          "2019-11-19",
          "2019-11-20",
          "2019-11-21",
          "2019-11-22",
          "2019-11-25",
          "2019-11-26",
          "2019-11-27",
          "2019-11-29",
          "2019-12-02",
          "2019-12-03",
          "2019-12-04",
          "2019-12-05",
          "2019-12-06",
          "2019-12-09",
          "2019-12-10",
          "2019-12-11",
          "2019-12-12",
          "2019-12-13",
          "2019-12-16",
          "2019-12-17",
          "2019-12-18",
          "2019-12-19",
          "2019-12-20",
          "2019-12-23",
          "2019-12-24",
          "2019-12-26",
          "2019-12-27",
          "2019-12-30",
          "2019-12-31",
          "2020-01-02",
          "2020-01-03",
          "2020-01-06",
          "2020-01-07",
          "2020-01-08",
          "2020-01-09",
          "2020-01-10",
          "2020-01-13",
          "2020-01-14",
          "2020-01-15",
          "2020-01-16",
          "2020-01-17",
          "2020-01-21",
          "2020-01-22",
          "2020-01-23",
          "2020-01-24",
          "2020-01-27",
          "2020-01-28",
          "2020-01-29",
          "2020-01-30",
          "2020-01-31",
          "2020-02-03"
         ],
         "y": [
          305.2,
          303.7,
          313.26,
          311.24,
          315.13,
          328.91,
          341.03,
          339.03,
          337.89,
          343.45,
          338.87,
          331.1,
          328.98,
          331.66,
          325.2,
          317.29,
          311.64,
          315.36,
          311.35,
          320.53,
          317.25,
          314.62,
          316.58,
          336.41,
          333.69,
          334.8,
          337.95,
          336.22,
          340.06,
          347.16,
          344.57,
          350.02,
          351.56,
          352.79,
          345.89,
          337.64,
          342.85,
          349.53,
          345.82,
          354.31,
          349.25,
          343.75,
          333.13,
          333.97,
          345,
          315.23,
          310.42,
          315.73,
          323.66,
          322.31,
          334.07,
          335.49,
          334.77,
          333.3,
          346.17,
          352.05,
          357.42,
          350.99,
          343.06,
          330.93,
          335.12,
          333.35,
          328.2,
          332.3,
          329.1,
          327.17,
          345.51,
          341.84,
          326.63,
          325.6,
          321.35,
          313.56,
          310.55,
          316.53,
          309.1,
          301.54,
          304.18,
          279.18,
          257.78,
          266.13,
          252.48,
          267.53,
          286.94,
          305.72,
          299.3,
          289.66,
          304.7,
          300.93,
          294.08,
          300.34,
          291.21,
          287.69,
          293.35,
          300.08,
          290.24,
          283.37,
          283.46,
          280.69,
          285.48,
          294.08,
          293.9,
          299.92,
          301.15,
          284.45,
          294.09,
          302.77,
          301.97,
          306.85,
          305.02,
          301.06,
          291.97,
          284.18,
          286.48,
          284.54,
          276.82,
          284.49,
          275.01,
          279.07,
          277.85,
          278.85,
          283.76,
          291.72,
          284.73,
          291.82,
          296.74,
          291.13,
          319.5,
          316.09,
          317.66,
          332.1,
          342.77,
          344.78,
          357.72,
          358.17,
          370.83,
          352.55,
          362.22,
          347.51,
          333.63,
          333.01,
          342,
          344.5,
          349.93,
          342.95,
          335.07,
          310.86,
          309.16,
          308.9,
          318.51,
          322.47,
          318.96,
          316.71,
          318.87,
          310.1,
          322.69,
          323.85,
          320.23,
          313.58,
          303.2,
          297.43,
          308.74,
          306.65,
          297.18,
          290.17,
          298.14,
          300.84,
          349.54,
          348.17,
          341.99,
          379.57,
          370.34,
          352.45,
          355.49,
          356.41,
          347.64,
          338.69,
          335.45,
          305.5,
          308.44,
          321.9,
          321.64,
          320.1,
          322.82,
          319.27,
          311.86,
          305.01,
          303.15,
          301.66,
          288.95,
          280.74,
          280.95,
          263.24,
          285.5,
          279.44,
          290.54,
          289.46,
          295.2,
          294.84,
          284.96,
          299.02,
          298.33,
          299.1,
          299.68,
          300.99,
          309.58,
          307.52,
          264.77,
          310.7,
          301.02,
          294.8,
          281.83,
          261.95,
          250.56,
          262.8,
          256.88,
          252.23,
          258.78,
          259.59,
          276.59,
          271.78,
          263.91,
          260,
          260.95,
          294.14,
          288.5,
          314.86,
          330.9,
          334.85,
          329.9,
          337.32,
          344.28,
          346.41,
          341.4,
          341.06,
          348.16,
          351.4,
          350.51,
          331.28,
          338.73,
          344,
          348.44,
          354.31,
          353.47,
          347.49,
          338.19,
          325.83,
          346,
          343.92,
          347.87,
          341.17,
          350.48,
          358.49,
          359.7,
          363.06,
          357.97,
          365.15,
          366.76,
          366.6,
          376.79,
          365.71,
          348.42,
          337.03,
          332.97,
          315.38,
          319.77,
          295.39,
          326.09,
          316.13,
          333.87,
          332.8,
          310.12,
          300.36,
          317.69,
          334.96,
          335.35,
          338.53,
          344.97,
          347.26,
          334.4,
          344.43,
          346.05,
          347.31,
          302.26,
          298.92,
          287.59,
          291.51,
          297.04,
          296.38,
          297.46,
          308.77,
          307.02,
          312.21,
          312.89,
          321.35,
          317.22,
          307.51,
          305.8,
          312.84,
          311.81,
          308.17,
          303.77,
          307.88,
          305.64,
          302.56,
          291.23,
          294.71,
          298.77,
          297.86,
          314.74,
          319.88,
          294.79,
          285.36,
          276.54,
          276.24,
          276.59,
          284.14,
          290.92,
          283.36,
          288.96,
          289.96,
          275.43,
          269.49,
          267.47,
          273.6,
          274.02,
          264.53,
          260.42,
          267.77,
          274.83,
          278.62,
          279.86,
          289.18,
          285.88,
          291.81,
          267.78,
          274.96,
          273.2,
          272.31,
          276.06,
          268.42,
          267.7,
          266.38,
          273.36,
          271.23,
          273.26,
          262.75,
          263.9,
          258.66,
          247.63,
          235.14,
          241.47,
          238.69,
          234.01,
          244.1,
          255.03,
          255.34,
          247.06,
          244.84,
          241.98,
          239.52,
          227.01,
          232.31,
          231.95,
          228.33,
          211.03,
          205.36,
          205.08,
          192.73,
          195.49,
          190.63,
          188.7,
          189.86,
          188.22,
          185.16,
          178.97,
          193.6,
          196.59,
          205.95,
          204.5,
          212.88,
          217.1,
          209.26,
          213.91,
          214.92,
          225.03,
          224.74,
          226.43,
          219.62,
          221.86,
          223.64,
          219.76,
          219.27,
          222.84,
          223.46,
          227.17,
          224.55,
          234.9,
          233.1,
          230.34,
          230.06,
          238.92,
          238.6,
          245.08,
          253.5,
          252.38,
          254.86,
          253.54,
          258.18,
          255.68,
          260.17,
          264.88,
          228.82,
          228.04,
          235.77,
          242.26,
          241.61,
          233.85,
          234.34,
          228.32,
          230.75,
          233.42,
          238.3,
          235.01,
          229.01,
          235,
          219.62,
          215.64,
          219.94,
          226.83,
          225.86,
          220.83,
          222.15,
          211.4,
          215,
          214.08,
          215.59,
          221.71,
          225.61,
          225.01,
          220.68,
          229.58,
          227.45,
          231.79,
          235.54,
          247.1,
          245.87,
          245.2,
          242.81,
          244.79,
          243.49,
          246.6,
          240.62,
          241.23,
          223.21,
          228.7,
          242.56,
          242.13,
          240.87,
          244.69,
          243.13,
          233.03,
          231.43,
          237.72,
          240.05,
          244.53,
          244.74,
          247.89,
          256.96,
          257.89,
          259.75,
          261.97,
          256.95,
          253.5,
          255.58,
          254.68,
          299.68,
          328.13,
          327.71,
          316.22,
          315.01,
          314.92,
          313.31,
          317.47,
          317.22,
          326.58,
          335.54,
          337.14,
          345.09,
          349.93,
          346.11,
          349.35,
          352.17,
          349.99,
          359.52,
          352.22,
          354.83,
          333.04,
          336.34,
          328.92,
          331.29,
          329.94,
          334.87,
          336.2,
          333.03,
          330.37,
          335.89,
          339.53,
          348.84,
          352.7,
          359.68,
          358.39,
          381.5,
          378.99,
          393.15,
          404.04,
          405.59,
          419.22,
          425.25,
          430.94,
          430.38,
          414.7,
          418.33,
          430.26,
          443.01,
          451.54,
          469.06,
          492.14,
          481.34,
          478.15,
          524.86,
          537.92,
          518.5,
          513.49,
          510.5,
          547.2,
          569.56,
          572.2,
          564.82,
          558.02,
          566.9,
          580.99,
          640.81,
          650.57,
          780
         ]
        },
        {
         "hoverinfo": "text",
         "hovertext": [
          "I know it's a little off-brand, but kids love it",
          "@Justin_Levy04 Safest flamethrower ever",
          "RT @SpaceX: Dragon confirmed in good orbit.",
          "@nickwadlow Sorry about that. Thanks for letting me know. Will get it fixed.",
          "Glad to see that Tesla owners are having a good experience. Working to improve further. Some cool software updates coming soon. https://t.co/16NabnHeuD",
          "@paulkrugman For the record, I actually love trains, most subways and London buses.",
          "@ben_made_new @paulkrugman I would only call someone an idiot if people were mistakenly under the impression that the person was smart",
          "I love Twitter",
          "But wait, there's more: the flamethrower is sentient, its safe word is \"cryptocurrency\" and it comes with a free blockchain",
          "@DuvalMagic Sure",
          "@HarisCelic For sure, and it keeps you warm at the same time",
          "RT @SpaceX: Successful deployment of GovSat-1 to a Geostationary Transfer Orbit confirmed. https://t.co/0D3h7hR7YF",
          "About 2.5 hours to T-0 for Falcon Heavy. Watch sim for highlight reel of what we hope happens. Car actually takes 6 months to cover 200M+ miles to Mars https://t.co/tC3B26r651",
          "RT @TheFavoritist: Ohh my god @ChrisG_NSF &amp; @NASASpaceflight! Remote number one from Falcon Heavy! https://t.co/aj4ly8Cr5r",
          "@VP @SpaceX Thank you on behalf of SpaceX",
          "Third burn successful. Exceeded Mars orbit and kept going to the Asteroid Belt. https://t.co/bKhRN73WHF",
          "@DeadlyBananas @MichaelAVaughn Not sure. I let @jack know, but it's still going. I literally own zero cryptocurrency, apart from .25 BTC that a friend sent me many years ago.",
          "@journoanirban @Uber @dkhos @HyperloopOne @hyperlooptt @vccircle @vccstartups If you love drones above your house, you'll really love vast numbers of \"cars\" flying over your head that are 1000 times bigger and noisier and blow away anything that isn't nailed down when they land",
          "RT @SpaceX: Successful deployment of PAZ satellite to low-Earth orbit confirmed. https://t.co/xOEuyaFrcZ",
          "I just realized there is a jazz hands emoji ",
          "@jeremyburge Literally, if you type \"jazz hands\", iOS shows this emoji ",
          "@realDonaldTrump To be clear, I think a fair outcome for all is quite likely. China has already shown a willingness to open their markets and I believe they will do the right thing.",
          "RT @TechCrunch: The @Tesla Model 3 is a love letter to the road (by @etherington) https://t.co/Nd9KXftYbJ https://t.co/qmfymUiaZa",
          "@kronayne Heavy sigh",
          "Better video coming soon, but it would look a bit like this: https://t.co/C0iJPi8b4U",
          "@prof_wsoff Great idea!",
          "RT @Tesla: Model 3 is Popular Mechanics' Car of the Year https://t.co/k0a9c4X6Wq",
          "My secret to looking good is staying in shape and knowing my angles https://t.co/20WIZnGiyy",
          "@arstechnica @SciGuySpace Russia has great rocket technology &amp; talent. Much respect. Would encourage focus on reusability. Single-use rockets cannot be competitive any more than single-use aircraft.",
          "@vincechen Doing our best",
          "@Gfilche @Tesla Ok",
          "@MKBHD @HyperChangeTV To be clear, I'm a big fan of MKBHD, but this is an important clarification",
          "Please ignore this thread unless you're interested in a tedious discussion about Tesla stock",
          "@ThePhoenixFlare @MKBHD @HyperChangeTV Yeah, news is actually super good. Model S &amp; X are producing major positive cash flow &amp; Model 3 is about to do same.",
          "@Grimezsz Love Powerglide too  https://t.co/l07YbZLdIG",
          "@WeDragonSlayers Flesh without Blood &amp; Kill V Maim on Art Angels album https://t.co/MycGWvbYGk",
          "@NannySoleil @CatherineUllo We sketched concept together &amp; worked w a trusted team to make it",
          "@ablack82 Definitely not a logo of any kind",
          "@marshall5912 @buckycovington @MacTechGenius Yeah, \"Reveal\" was carefully constructed propaganda with a name that wd make Orwell proud. Workplace injury rate of our factory when it was UAW w Toyota/GM was twice as high as today's non-union.",
          "@MacTechGenius @marshall5912 @buckycovington Exactly ! That will be really fun &amp; shed light on what's happening. Hoping to start that later this year after we become profitable. Difficult to justify before then.",
          "@georgechang @Tesla For sure before snowfall this year",
          "@MrsYomaddy @dmatkins137 @ShayneRarma @NASA Gwynne's awesome. Been SpaceX prez for 10 years. Super love working with her.",
          "@AustinOnSocial Great idea!",
          "@bevvscott Thanks. Not super fun right now ",
          "@mashable Was sad to see G getting tons of undeserved flak because of me, so I'm glad there's some good too [?]. Her music is incredible.",
          "@JohnBirmingham @mashable I am not cool",
          "@girllovesbread @ZainRaz4 @mashable This will sound super obvious, but Genesis &amp; Oblivion",
          "@AntVenom Maybe some good people from those orgs who would join",
          "@DetroitVictoria Enough of the public does care about the truth. I have faith in the people.",
          "Even if some of the public doesn't care about the credibility score, the journalists, editors &amp; publications will. It is how they define themselves.",
          "@JessicaHuseman @reveal No, they're just some rich kids in Berkeley who took their political science prof too seriously",
          "@scottwww @JessicaHuseman It is strange that big auto companies literally have thousands more factory injuries than Tesla &amp; millions more auto deaths, but somehow get less coverage. We are not perfect, but we're doing our best to make clean energy real &amp; be a good company.",
          "@PolitiFact Yeah, I think you do great work",
          "@southtopia Thank you! I thought it was so obvious ...",
          "@weinbergersa Wow, you're ignorant. Don't remember you, but disclosing classified US missile technology to hostile nations would violate ITAR law &amp; land you in jail. I didn't review it, but my team did. Obviously nobody cared about what your article said. Please.",
          "@amywestervelt @Billsocalif @RMac18 @weinbergersa I've just had it with sanctimonious journalists who appoint themselves protectors of the public interest &amp; yet believe that same public is too stupid &amp; immoral to assess their credibility. It's amazing that you don't understand how insufferably hypocritical that is. Wow.",
          "@evepeyser @broderick This is going to help journalism, not harm it. Please be so kind as to hold your fire until you actually see it.",
          "@nilgirian Worth a shot",
          "RT @MattLevinson: Thank you @elonmusk and @tesla for by FAR the best consumer product I have ever used. Day one is a 6 hour road trip to cape cod. Autopilot is a GAME CHANGER especially on highway and stop &amp; go traffic. $tsla https://t.co/gUDmhlGXqn",
          "@erinbiba I have never attacked science. Definitely attacked misleading journalism like yours though.",
          "@StarVenge @ChiTownMadison @JohnnaSabri @joshuatopolsky @oneunderscore__ @ParkerMolloy @2sunsky @ashleyfeinberg Had a great time with my kids",
          "Thank you for the lovely letter https://t.co/xGNMj5FOhg",
          "@nealcol Good school",
          "@annerajb @LikeTeslaKim A dream that wd prob be a nightmare in reality. Cup holder that auto adjusted for size &amp; stiffness of cup/bottle, maintained cold or hot temp &amp; dried off water condensation. Or I cd work on getting humanity to Mars. Tough choice.",
          "@WorldAndScience You have so many great pics &amp; factoids!",
          "@amasad @Sra_Mister Second best answer to the Fermi Paradox after the simulation argument",
          "@amasad @Sra_Mister Yeah",
          "@JohnnaSabri @Sra_Mister Which part? Love their cuisine. And the views are amazing.",
          "@amasad @its_a_massacre @fung9815 @israrayyaz @Sra_Mister @waitbutwhy Great book. Read it when it came out.",
          "RT @mayemusk: .@elonmusk You have grown up with female scientists around you all your life. We are honest, intelligent, and work hard to do good, unlike @erinbiba And @NoahShachtman shame on you for making this a female issue. https://t.co/36sCQKoBzI",
          "@ClaytonGoobert Love the space cowboy esthetic",
          "@annerajb @eli_schiff Good progress. Really proud of this design &amp; SpaceX propulsion team. This engine is something special.",
          "@yoyovinzi Would love to be in India. Some challenging government regulations, unfortunately. Deepak Ahuja, our CFO, is from India. Tesla will be there as soon as he believes we should.",
          "Like you guys too   https://t.co/PVQVyR1nXY",
          "@MacTechGenius @v_g_fischer @ConsumerReports Braking &amp; UI upgrades apply to all Model 3s. Improved windshield for aero noise &amp; suspension for ride comfort are major ops. Unless you're really bothered by them, don't replace. Best way to improve ride is drop tire pressure to ~39 psi. 45 psi is best range, but lower comfort.",
          "@v_g_fischer @ConsumerReports Yeah, absolutely",
          "RT @elonmusk: @MacTechGenius @v_g_fischer @ConsumerReports Braking &amp; UI upgrades apply to all Model 3s. Improved windshield for aero noise &amp; suspension for ride comfort are major ops. Unless you're really bothered by them, don't replace. Best way to improve ride is drop tire pressure to ~39 psi. 45 psi is best range, but lower comfort.",
          "@ElectrekCo @FredericLambert Ride comfort &amp; aero/road noise already better than CR car, which was early production. Wish we could make the car perfect from day 1, but there's always room for improvement. Highly recommend dropping tire pressure 10% below max to ~39 psi for comfort. Only affects range by ~2%.",
          "Filters bacteria, viruses, spores, pollen &amp; particulate of almost any kind https://t.co/dlQHJfKdpU",
          "@Arkved78 Model 3 should be second best in world after Model S/X. Still super good, but we went a little  on S/X.",
          "@nashlib That sounds like a fun adventure!",
          "Glad you're ok! https://t.co/zuuYCUIKus",
          "RT @SpaceX: Successful deployment of SES-12 to a geostationary transfer orbit confirmed.",
          "@sonic_hedgehog Good morning, Sonic. Not sure how to break it to you, but ... https://t.co/RPpOchBMKJ",
          "Am def not under any illusion that this will end illiteracy, but I hope it helps at least a little https://t.co/06IA9Xy6bL",
          "@joerogan @Off_thewalls @MKBHD Thanks! Have heard universally great things about your podcasts.",
          "@PaulVerstegen1 I love Banks. Best books in recent years imo are Iain Banks &amp; George Martin.",
          "@FernandoGords68 @BillNye @neiltyson Strongly disagree. I love humanity.",
          "Those who proclaim themselves \"socialists\" are usually depressing, have no sense of humor &amp; attended an expensive college. Fate loves irony.",
          "@Keith_Wasserman @Jason @Beyonce @warriors Thanks, good advice",
          "Cool video https://t.co/FW24TRL687",
          "@EvilCorpGame Great name. A little on the nose.",
          "@vplikeTRUMP @jorendewachter @xJawz @joerogan @MazzucatoM Yes, consumption tax is way better. Also, higher estate tax better than income/cap gains tax. Probability of progeny being equally excellent at capital allocation is not high.",
          "@vplikeTRUMP @jorendewachter @xJawz @joerogan @MazzucatoM Also think there should be a universal basic income that doesn't change even if you get a job. Productivity should be rewarded.",
          "@Money23Green Thanks for coming by our car factory with @westcoastbill. Tesla team was super fired up to see you! Congrats on your victory!!",
          "@JohnnaSabri @kerra_henke @Kennnaughty Thanks!",
          "@DMC_Ryan @tkraenze @Tesla Critical autonomous safety features like emergency braking are standard, but convenience features like active cruise control are not",
          "@Rossputin Life is good",
          "@DMC_Ryan @tkraenze @Tesla Good news coming soon",
          "@lazarusrang Humanity is not perfect, but it's all we've got",
          "@RehearsalLot @guiscaesar @surfersnout @aedmondsauthor @barbiesway @TwitterMoments @RepMaxineWaters @PolitiFact This Washington Post article seems good https://t.co/R1d9ixg179",
          "@JohnnaSabri @RehearsalLot @guiscaesar @surfersnout @aedmondsauthor @barbiesway @TwitterMoments @RepMaxineWaters @PolitiFact True",
          "@coremwm Hopefully in V9.0 release in a few months",
          "@RationalEtienne @PPathole @RehearsalLot @guiscaesar @surfersnout @aedmondsauthor @barbiesway @TwitterMoments @RepMaxineWaters @PolitiFact We must aspire to truth",
          "RT @Tesla: Tesla team celebrates Pride Month [?] https://t.co/O3PTdWbPeg",
          "@EV20018 @justwidle2 @Tesla \"Virtue signaling\" is super annoying &amp; there are lots of phoneys who are actually huge jerks, but jump on every social cause du jour. But I'm really proud of the fact that # of changes Tesla had to make to achieve 100/100 (before even knowing about the LGBTQ index) was zero.",
          "What would you love to see in a Tesla pickup truck? I have a few things in mind, but what do you think are small, but important nuances &amp; what would be seriously next level?",
          "@justinfiaschett @EV20018 @justwidle2 @Tesla Good question",
          "Appreciate all the good wishes. First bday I've spent in the factory, but it's somehow the best.",
          "@mathetes76 @jules_su We need more &amp; better emojis now!!Seriously. So little to work with.",
          "@KiannaFierce Oh, I love trap. Good suggestions welcome!",
          "@daveydo2000 @jules_su @EricIdle That's cool. One of my favorite lines! Monty Python is so brilliant.",
          "@westcoastbill Thanks Bill",
          "@JamesWorldSpace Inflatable tubes &amp; pods being made out of Kevlar for better abrasion resistance. A SpaceX engineer happens to be in Thailand &amp; is headed there now. Could one of the divers DM me? Need approx contour of most difficult sections for tube fab.",
          "@thanr @JamesWorldSpace Great, thanks",
          "@bonnienorman @TeslaBull @trippedover Interesting",
          "@erikveen I would def recommend this",
          "@ArkadiuszKula @JL2579 @MattyIce4412 @thanr @JamesWorldSpace Good idea",
          "@Noizey_Man @JaneidyEve That would be cool. I wonder what it's like under all that ice.",
          "@DonAndrewBailey @haydentiff @TheFerris_Wheel @100K_Ideas @GotchuW Please lmk contamination levels of any kind when you test the water",
          "@ZainRaz4 Yes, and springy, like a highly damped trampoline",
          "@KirklandJones Good point",
          "@jack Great move",
          "@StarFire2258 You're right on both counts. Most houses in Flint have safe water, but they've lost faith in govt test results. Some houses are still outliers. Will organize a weekend in Flint to add filters to those houses with issues &amp; hopefully fix perception of those that are actually good.",
          "@jonodiener Maybe rewarding to organize a barnstorming weekend for water filter installation?",
          "@d20_highroller Yeah",
          "RT @LittleMissFlint: Hey world. Let's set the record straight. My team has been working with @elonmusk and his team for over a week to figure out the best solution to help #Flint with the #FlintwaterCrisis Extremely grateful for him and all he has done so far.",
          "@itsMikeSki If you have cool arrows, you're in",
          "@Malala @MalalaFund Happy birthday, Malala! Happy to support.",
          "Interesting read https://t.co/6vvIEtYPiY",
          "@Tesla Whether you plan to buy a Dual Motor Performance Model 3 or not, take it for a test drive anyway. It's like having pure fun jacked straight into your brain whenever you want.",
          "RT @WSJ: The Tesla brand has its share of haters, but none have driven the new Model 3 Performance--until now. @DanNeilWSJ calls the car \"magnificent\" in its first-ever review. https://t.co/54lAEiJWl0",
          "RT @Hyperloop: Congratulations to @WARR_Hyperloop for winning the 2018 Hyperloop Pod Competition with a peak speed of 290 mph!",
          "@arstechnica Haha",
          "@WillFealey @Tesla @TeslaOwnersUK Wow, that's really awesome. Thank you! [?]@TeslaOwnersUK",
          "@westcoastbill Yeah. Never seen it so high ever.",
          "@appljd We're trying to get rid of contracts completely. Should just be \"tap here &amp; you get your car\". Then, if you don't like it for any reason, just return it like any other product.",
          "Not having a big gas guzzler engine in front means there's room for trunks in front &amp; back, plus longer crumple zone for best safety of any midsize car https://t.co/oStk7oUidV",
          "@AndredAlmeida Yeah, Model 3 is designed to fit 6'4\"  adults comfortably in both front &amp; rear seats at same time",
          "Some of best classic @Atari games coming as Easter eggs in Tesla V9.0 release in about 4 weeks. Thanks @Atari!",
          "@jlgolson @atari Hoping to include last three in this release, with pole position linked to actual car steering wheel (while stationary tbc haha)",
          "@Model3Owners @atari Good idea &amp; thanks for Supercharger trophy reminder. Really want to make the car as fun as possible!",
          "If you're into video game development, consider applying to Tesla. We want to make super fun games that integrate the center touch screen, phone &amp; car irl.",
          "@MobiiliMika @atari Cool idea!",
          "@SadCookieCrisp Something like that, but more of an adults in cars anime vibe",
          "Good morning ",
          "@Gfilche My hope is *all* current investors remain with Tesla even if we're private. Would create special purpose fund enabling anyone to stay with Tesla. Already do this with Fidelity's SpaceX investment.",
          "RT @elonmusk: @Gfilche My hope is *all* current investors remain with Tesla even if we're private. Would create special purpose fund enabling anyone to stay with Tesla. Already do this with Fidelity's SpaceX investment.",
          "@heydave7 Absolutely. Am super appreciative of Tesla shareholders. Will ensure their prosperity in any scenario.",
          "RT @elonmusk: @heydave7 Absolutely. Am super appreciative of Tesla shareholders. Will ensure their prosperity in any scenario.",
          "Investor support is confirmed. Only reason why this is not certain is that it's contingent on a shareholder vote. https://t.co/bIH4Td5fED",
          "@JohnnaSabri @Medium Love this from P&amp;P: \"One has got all the goodness, and the other all the appearance of it.\" Reminds me so of my Nana, who was very stern &amp; strict &amp; yet kindest of all. Believe in good.",
          "@wuhfel Didn't \"like\" it",
          "@CathieDWood Thank you for the thoughtful letter",
          "@tldtoday @Tesla Thanks for buying our car! Would highly recommend performance version. It's really good &amp; I don't say that lightly. Nothing will give you greater joy. Full refund, no hard feelings if not.",
          "@tldtoday @Tesla Cool, lmk if you have suggestions for improvement after you drive it",
          "@VoxPolitico So many saved drafts. So ... so many.",
          "Love born in the brain is more spirited, doubtless, than true love, but it has only flashes of enthusiasm; it knows itself too well, it criticizes itself incessantly; so far from banishing thought, it is itself reared only upon a structure of thought. The Red and The Black[?]",
          "@Model3Owners Ok",
          "@AshleyEsqueda Tesla Car Karaoke hopefully ready in OTA software update version 10. Just played Missile Command, Asteroids &amp; Lunar Lander in V9. Really fun!",
          "@jwiechers @SwiftOnSecurity I want that outfit",
          "Good times with @JoeRogan ... https://t.co/8uZUsEJoq1",
          "RT @SpaceX: Successful deployment of Telstar 18 VANTAGE to a geostationary transfer orbit confirmed. https://t.co/nlRgxoILJ9",
          "RT @Tesla: \"It's almost as if time slows down... it's a pleasure and a marvel to experience\" @caranddriver https://t.co/XsHTpsfYqM",
          "Bricks will be free if used for affordable housing projects",
          "@mcwm Haha ",
          "@mcwm The muskrat is like a beaver with small ideas, but it has a certain quiet dignity ...",
          "@AntVenom Ok",
          "@FalconGridFin Good catch. They are there in the flight design, but we forgot to put them in this render.",
          "@SwiftOnSecurity Maybe the scammers will just get tired of winning eventually",
          "@SpaceX My fav tweet ever",
          "Top SpaceX priority is and will remain supporting @NASA crewed spaceflight and National Security missions",
          "Due to some Tesla owners encountering system issues yesterday, the free Supercharging referral program will be extended until tomorrow night https://t.co/Hbb7KTE685",
          "@martinengwicht Very interesting",
          "@cleantechnica Will be interesting to see how this evolves over time",
          "True  https://t.co/CS6semhKm6",
          "@Agent_KO @Starflightgame @SpaceX @starcontrolgame What would be great is original Elite",
          "@justinemusk You're most welcome, glad I could be helpful! Thanks for letting me know about it.",
          "RT @justinemusk: Very pleased + proud that my ex -- you might have heard of him -- helped get this documentary made about (one of my heroines) Eve Ensler + V-day's work in the Congo with women who survived horrific violence. Thank you @elonmusk https://t.co/7t7YLolV8o",
          "@wonderofscience It sure does. Very reliable.",
          "@thomaspower @mvolpe Punctuality is not my strong suit",
          "@TTfue @Tesla What are some of the most fun games we could have on a Tesla? Classic Atari is just the start.",
          "@AlguireTim @Tesla Haha. It is actually my fav game on Tesla cars right now ",
          "Works best if you play games full screen &amp; use steering wheel scroller balls for control https://t.co/fE51cCC5lx",
          "@ElectrekCo @FredericLambert To be clear, actual NN improvement is significantly overestimated in this article. V9.0 vs V8.1 is more like a ~400% increase in useful ops/sec due to enabling integrated GPU &amp; better use of discrete GPU.",
          "@ID_AA_Carmack Thanks John, really admire you too! I think you're one of the best engineers ever. Hope you return to working on rockets one day.",
          "@Erdayastronaut Opening event that night &amp; free rides for the public next day",
          "@mayemusk @cleantechnica @nytimes @Tesla @businessinsider @business @TheStreet @CNBC @Forbes Interesting",
          "@Erdayastronaut @nextspaceflight Good point ...",
          "Twitter thought I got hacked &amp; locked my account haha",
          "@houmanhemmati @FredericLambert There have been hundreds of improvements to fit &amp; finish over the years, but no major step change in this regard. Seats, especially, are dramatically better now than in the past.",
          "RT @elonmusk: @Model3Owners Love Tesla supporters so much!![?][?][?][?][?][?][?][?] [?]       [?][?][?]        [?]                 [?][?]                   [?]                   [?]                   [?]                   [?]",
          "@NewYorker Love the Concorde",
          "Flies like an arrow, but fruit flies like a banana",
          "@ElDuderinoGG Ok",
          "Making progress ...",
          "@Eifiea @ianelantzy @SEC_Enforcement I wish",
          "@bosterogriego @Tesla @mayemusk @WSJ Good question",
          "@PopularEthics @Tesla S is better, but rear seat folds down in Model 3, so bikes can fit in trunk",
          "@rarelyserious @Tesla Cool haha",
          "@rarelyserious @Tesla For those unfamiliar, this uses Tesla Autopark/Summon. Slightly smarter version hopefully ready soon. By next year, a Tesla should be able to drive around a parking lot, find an empty spot, read signs to confirm it's valid &amp; park.",
          "RT @elonmusk: @rarelyserious @Tesla For those unfamiliar, this uses Tesla Autopark/Summon. Slightly smarter version hopefully ready soon. By next year, a Tesla should be able to drive around a parking lot, find an empty spot, read signs to confirm it's valid &amp; park.",
          "@wordcipher Maybe AI will make me follow it, laugh like a demon &amp; say who's the pet now ...",
          "@sheslulu Hahaha &lt;ahem&gt;",
          "@ChipdTooth Haha",
          "@AMAZlNGNATURE cute",
          "@veldeth_ @AMAZlNGNATURE v true",
          "Oh hi guys ... lol https://t.co/TX10I0Ecrn",
          "Love Oumuamua jokes",
          "@bri_the_cheesy True",
          "@Benioff @boringcompany Sure, we can do it",
          "@Tesla Would like to thank Robyn for joining the team. Great respect. Very much look forward to working together.",
          "@exzacklyright @MKBHD @austinnotduncan @Tesla Cool",
          "Please lmk what you'd most like improved/fixed about your Tesla. Thanks!",
          "@tizmagik @TeslaSupport Fair point, will reenable",
          "Congratulations @SpaceX team! Thanks @NASA, much appreciated. https://t.co/6aiWbh8F6V",
          "@nichegamer Would be fun to add to Tesla",
          "Skipping rail saves over a month for East Coast deliveries. All things considered, it's better to use trucks. Single load/unload &amp; direct to owner location.",
          "Looking back at the sun from upper stage &amp; Falcon 9  landed on drone ship Of Course I Still Love You https://t.co/sg3FXIDQJL",
          "@_TomCross_ @SpaceX Haha ",
          "Sure hope this isn't true. It is the non-linearities, such as Siberian permafrost melting or ocean currents changing, that are most difficult to predict. https://t.co/k0eSzDZHwR",
          "Technically, two parts: Starship is the spaceship/upper stage &amp; Super Heavy is the rocket booster needed to escape Earth's deep gravity well (not needed for other planets or moons)",
          "@jessedh @Tesla Yeah, good idea to offer that as a setting",
          "@PLAYERUNKNOWN Ah yes fair point",
          "For those worried about running out of fresh water, it may help to know that desalination only costs 0.1 cents per liter or half a cent per gallon",
          "@NASA @NASAInSight Congratulations! What an amazing track record of success with Mars!",
          "But if you love what you do, it (mostly) doesn't feel like work",
          "@anandmahindra Engineers, artists &amp; creators of all kinds. There is so much to build.",
          "@mattbeckman Us too sigh",
          "@businessinsider This part is true. I was trying to explain that we don't want our cars to have a \"tinny\" sound. https://t.co/VxO9rR1uAf",
          "@Taraustralis Needs a warmup",
          "@chrinder Haha",
          "Most importantly, every electric car, Tesla or otherwise, matters to the environment we all share. Every time someone chooses electric, the future gets a little bit brighter!  If not Tesla, please take a look at these other options: https://t.co/FZVNlGWYgA",
          "@JP_Cautillo Wow!",
          "@magoo5042 @Tesla Ok",
          "@JimJimroger Yep",
          "@NutmegTheRed @Tesla Ok",
          "@enjikaka @Tesla @adamomras Ok",
          "Good sign that almost no Model 3 owners want to sell their cars! https://t.co/tAFIrvX0lC",
          "@ChrisEvans Great thread ",
          "The new Roadster will actually do something like this https://t.co/fIsTAYa4x8",
          "@FredericLambert Good idea",
          "@mjensen007 Haha",
          "Glad you like it https://t.co/7FbQc0M9M5",
          "@mcannonbrookes Haha you're welcome! Hope you're doing well.",
          "@MKBHD @BenSullins @cleantechnica I think some of them should combine forces. Talent is spread too thin.",
          "The Tesla customer referral program will end on Feb 1. If you want to refer a friend to buy a Tesla &amp; give them 6 months of free Supercharging, please do so before then.",
          "RT @engadget: AI is better at bluffing than professional gamblers https://t.co/q9EGVvD5Uk",
          "@farismahdawi @NASA @Space_Station The youth love em",
          "@annerajb @farismahdawi @NASA @Space_Station Sure. Also, we need to be better at remembering brightness settings.",
          "@JasonHouge @SpaceX @boringcompany These are industrial strength. Not recommended for use at home!",
          "@justinandgreg Yes, and my grandfather was from Minnesota with some Scandinavian/German background. Got to hand it to Norway. That's a great sculpture!",
          "@florentderue That would be so cool!",
          "@FredericLambert It's like looking in a mirror!",
          "@Caseykins421 @justinandgreg Yeah, worked on my cousin's farm for six weeks around my 18th birthday. I was so kewl. https://t.co/XIRzRuXPJZ",
          "@techreview Cool that this is happening on many fronts. Looks like a good design by @Boeing.",
          "Great electric car documentary about early days of Tesla, GM Volt, Nissan Leaf &amp; Gadget. So much has happened since then ... https://t.co/nq2nVjj5w8",
          "@data_over_ideal @Tesla Sure hope that happens",
          "@lexiheft Haha true",
          "@Kristennetten Haha",
          "@vicentes @Robotbeat @tegmark Max Tegmark is great",
          "@Sofiaan @HyperChangeTV @Tesla @say Sure, which ones?",
          "@business Super appreciate Deepak's 11 year history building Tesla &amp; wish him greatest of happiness in retirement! Zach has been outstanding over his 9 year history with Tesla &amp; will build upon Deepak's legacy.",
          "@Erdayastronaut @keego73 To be clear, I'm confident that a stainless steel ship will be lighter than advanced aluminum or carbon fiber, because of strength to weight vs temperature &amp; reduced need for heat shielding",
          "@wonderofscience @Treebeard1671 @Erdayastronaut @keego73 Mostly true",
          "@vincent13031925 @Tesla No plans to do so. Would recommend Model S.",
          "@ukrpravda_news Whoa cool",
          "@joerogan Glad you like it",
          " Mach Diamonds ",
          "Raptor reached 268.9 bar today, exceeding prior record held by the awesome Russian RD-180. Great work by @SpaceX engine/test team! https://t.co/yPrvO0JhyY",
          "@_cgp @SpaceX Propellant was not deep cryo. CH4 &amp; O2 were just barely below liquid temp at 1 bar. In theory, Raptor should do ~300 bar at deep cryo, provided everything holds together, which is far from certain. However, only 250 bar is needed for nominal operation of Starship/Super Heavy.",
          "@John_Gardi @SpaceX But not an extendable nozzle though, as that just saves length. Nozzle diameter is limited by body diameter.",
          "@Robotbeat @John_Gardi @SpaceX This will sound implausible, but I think there's a path to build Starship / Super Heavy for less than Falcon 9",
          "@McMurchie @SPEXcast @Robotbeat @John_Gardi @SpaceX The goodwill of the public is critical to Starship's success",
          "@John_Gardi @w0lfyxD @Robotbeat @SpaceX True",
          "@pewdiepie Sorry  Had a vital mission in Norway  Now I am back",
          "@InsideEVs @28delayslater Some sites maintained an almost daily Tesla deathwatch 11 years ago, reporting with an awful delight. 4000 days later ...",
          "@FredericLambert True, that headline is not exactly going to win a Pulitzer for originality",
          "@TslaTimeCapsule @BMWi @Audi @Cadillac @WSJ @28delayslater Wow, 2013",
          "@teslaownersSV @lifebykateb @Tesla @itsCrippleback It will start out slow to make sure there are no corner case issues and then, if that looks good, speed up next week. We def need to add a \"Request Latest Update\" feature!",
          "@Tesla This is in addition to existing Cabin Overheat Protection, which come on automatically at high temps to ensure any babies or pets in the car are safe",
          "Of course I still love you https://t.co/XNoLRKYnlc",
          "@nextspaceflight It's designed to be way better. We'll see what reality has to say about that.",
          "RT @Tesla: \"My Model S continues to be the best product of any kind that I have ever purchased\" https://t.co/o34E5VOGjS",
          "@xkcdComic Haha true",
          "Great meme review hosted by Will Smith https://t.co/82uuVPDIoC",
          "Fate *loves* irony. Frankly, too much.",
          "Oh hi lol https://t.co/9WvbtTHoxS",
          "@alexmd2 @JPUConn @WSJ Indeed. I have great respect for judges. It's not perfect, but, in general, we should be very glad of the US justice system.",
          "@JaneidyEve Thank you Evelyn, I loved it",
          "@lrocket @Alexis_wwww @katlinegrey Tom did an awesome job leading Merlin, Kestrel, Draco &amp; other engine developments from start through 2014 that were critical to SpaceX's success. Great respect &amp; appreciation!",
          "RT @Erdayastronaut: It's road trips like this 1,400 mile (2250 km) road trip to @NASAKennedy for @NASA and @SpaceX's #DM1 mission that makes me SOOOO thankful for @Tesla's incredible autopilot and supercharger network  thanks for the hard work @elonmusk and team! https://t.co/F95UEkbVlT",
          "@SupremePenguin2 Haha",
          "@IndigoShrimp Yay!",
          "RT @MKBHD: From my IG story: Pretty sure these trucks were trolling me. Thanks anyway @Tesla  https://t.co/An4S5O4tjq",
          "RT @Space_Station: Beautiful view of the @SpaceX #CrewDragon as it successfully undocked from the International Space Station https://t.co/ycnkagpJbx",
          "RT @Commercial_Crew: Successful splashdown of the #CrewDragon right on time at 8:45 a.m. ET. https://t.co/0qHhHzD4Js",
          "@JD_2020 All good, system maintained room temperature within spacecraft",
          "@BarackObama @NASA @SpaceX @Commercial_Crew Thank you on behalf of the people of SpaceX!",
          "@cleantechnica True",
          "@cleantechnica True (sigh)",
          "@MFrunker @cleantechnica Software release later this week should make it better",
          "@Erdayastronaut @somepitch Yeah, it might break",
          "@Jays200 @Tesla Ok",
          "RT @LongDogSecurity: First time using $TSLA mobile service, what a great idea this is, it saves me HOURS of inconvenience and has to save Tesla a lot of money.  This is the future, legacy auto dealership model WILL die. https://t.co/FIhW0pA0At",
          "RT @dodo: This car saves dogs' lives [?] https://t.co/8Okzrtef2c",
          "@teslaownersSV @TeslaGong Best to get a Tesla Powerwall, so you can power your house &amp; also drive",
          "RT @InsideEVs: Top Five Reasons Why Consumers Buy @Tesla Cars: Video Reason #1 - Most Fun to Own --&gt;https://t.co/ryyOyUU27T https://t.co/EHXDteQktR",
          "@S_Padival @CastleRobinson2 @jimcramer Me too! He was so great. Loved Colbert Report too.",
          "@LittleMissFlint @Ryan_Deitsch You're most welcome! Glad to be helpful.",
          "Thank you! https://t.co/vh4zujXiZ4",
          "@thejimos Glad you like it! Navigate on Autopilot hopefully approved for Europe soon.",
          "Hard to appreciate how much Tesla Autopilot improves enjoyment of driving until you try it https://t.co/Giqb2WLVAb",
          "@zachary1978 @Tesla Good point",
          "@Erdayastronaut @NASA @VP I think so. For sure worth giving it our best shot! Would be great to have a competitive, commercial program to build a moon base that is outcome-oriented (not cost-plus), so you only get paid for safe delivery of cargo.",
          "@briantu Super proud of Tesla Autopilot team!",
          "@ialexryan Tax authorities tend to interpret things in their favor, but it sure sounds like you could be right! Will investigate.",
          "@martin_galway Good point",
          "@erinwinick @techreview Super cool!",
          "@nextspaceflight @Erdayastronaut @DiscoverMag Yes. Sensitive propulsion &amp; avionics remained dry. Great work by SpaceX Dragon engineering team. Major improvement over Dragon 1.",
          "@carolineplz Seems fair",
          "@keen_lab Solid work by Keen, as usual",
          "@KarlStrahl Responsible for more deaths than any other chemical! Weirdly, dihydrogen dixoxide, with only one extra oxygen, is not good to drink, but great for changing hair color.",
          "@SherylCrow @Tesla Night mode with 0% brightness is actually too dark during the day. This is ultimately our fault. We will update our software so that 0% brightness is always usable relative to ambient conditions.",
          "@EVLatino @SherylCrow @Tesla Night mode default brightness is actually too high imo. Should be lower &amp; allow below current \"0%\" level. Making that adjustment too.",
          "@SherylCrow @Tesla Glad you like it! Sorry about the trouble earlier. Helpful feedback for improving the car!",
          "@EV_Stevee @Tesla Great name ",
          "@jake_cooley @SnazzyQ Yes, needs to drive best clear path. Lane lines are just one input.",
          "@dave_chung @Tesla Ok",
          "@LeoDotWalsh0x05 Will take care of it",
          "@slye @LivingTesla @Tesla Impressive analysis",
          "@patrickc @Tesla Great work with Stripe btw. Much needed.",
          "@JohnnaCrider1 @patrickc @Tesla Thanks ",
          "@newscientist Please fix your paywall. Your content is great, but your paywall is not.",
          "@transopac @newscientist Good point",
          "RT @Tesla: TeslAtari updates inbound! Look for Super Breakout and more in the latest software update which will begin rolling out later this week  ",
          "@MrTimDunn Love Brunel. Great first name too.",
          "RT @jwolfgram: WOW!! The @Tesla software update performance increase is like getting a NEW CAR... Again. This is the 3rd time I've woken up to a \"new\" car since I bought #Model3 six months ago. Thanks @elonmusk and everyone at Tesla for making the best vehicles on earth! #AMAZED https://t.co/HcHN7ktijh",
          "@bonnienorman @vincent13031925 @Tesla No, it's better",
          "@Capture_10 @greg_wyler @JeffBezos @Rancy2014 @TMFAssociates Haha exactly",
          "@NASAGoddard @SpaceX .@SpaceX team would be so honored to fly this for @NASA!",
          "@GameSyns @Erdayastronaut Engines seem ok, pending inspection",
          "@theRedding @Erdayastronaut Rockets are not yet safe enough to fly over land",
          "@iliketeslas Haha",
          "@natfriedman Sheeps thank you ",
          "@Royaljester62 @Tesla Yeah, will post soon",
          "@xandriteme @scottwww @ValueAnalyst1 @karpathy @Tesla @nvidia On yeah, that too",
          "@martinengwicht @msitver @FrankLuntz Anti-matter def wins on energy density ",
          "@teslaownersSV @jeffleach Thanks, support super appreciated",
          "@Kristennetten @flcnhvy @MoWo91 @mayemusk Once had a Great Dane named Hamlet, because Hamlet was a great Dane",
          "@stevecheney As sure as night follows day",
          "@WorldAndScience So true",
          "OG wisdom https://t.co/zoj8qZDrRV",
          "@HumanVsMachine Sigh",
          "@arctechinc Ok",
          "@komocode @arctechinc Ok",
          "@InsideEVs Wow, how did they take this video!?",
          "@Erdayastronaut @NASASpaceflight The opposite. Any insights gained by one team must be shared with the other, but other team not required to use them.",
          "@sama Thanks Sam!",
          "@cleantechnica Good design imo",
          "@Erdayastronaut @SpaceX Physics favors full flow",
          "@BPSYT1 @Erdayastronaut @SpaceX Hopefully in about 10 days",
          "@_ishanspatil @SPEXcast @13ericralph31 @JaneidyEve @bluemoondance74 @Orion_Sword @Some1gee @Erdayastronaut @SpaceX Aiming for 150 tons useful load in fully reusable configuration, but should be at least 100 tons, allowing for mass growth",
          "@trigomemetry Sure",
          "@flcnhvy @marstronauts @Erdayastronaut @JaneidyEve @13ericralph31 @SPEXcast @bluemoondance74 @Orion_Sword @Some1gee @SpaceX Hopefully, 4 months",
          "RT @Tesla: Important Announcement (unless you like paying for gas): All inventory Model S and Model X cars now come with unlimited free Supercharging. This ends on June 30.",
          "@WillFealey No problem if you want to post the suggestions on this timeline. It's great to get thoughtful criticism.",
          "RT @Teslarati: Elon Musk's Tesla, SpaceX top list of most attractive employers for engineering students https://t.co/QdUKPzyREV",
          "RT @Tesla: It's true  https://t.co/SIyaGM3qeP",
          "@ErlArnoy Super fair criticism. We're putting max resources on this. Hard to hire enough repair technicians in Norway! Please apply if interested.",
          "@Erdayastronaut @SpaceX Fun!",
          "@tesla_truth Yeah, they were a little off the mark https://t.co/yqZhvkbdrt",
          "@pewdiepie Haha",
          "Also $2500 tax credit for California &amp; $500 to $800 utility incentive https://t.co/lmD3ZNFR9M",
          "@vincent13031925 @TeslaMiles @ShadowCatTrash Not sure yet",
          "RT @vincent13031925: Ok, I tried the new game \"Beach Buggy Racing 2 Tesla Edition\" on the Model 3 - it's super fun &amp; cool   And you get to choose : Chill , Performance or  Ludicrous mode Thanks @elonmusk   $TSLA #Tesla #Model3 https://t.co/SrlrRNpkoA",
          "@tmornini @Tesla Tesla is putting significant resources into high-efficiency battery recycling. Makes both environmental &amp; economic sense. Please consider joining if interested in recycling engineering!",
          "@PolyBork @s8n Haha",
          "Anarcho-syndicalism FTW!!",
          "@EvaFoxU Haha",
          "@Erdayastronaut @13ericralph31 @HarryStoltz1 @flcnhvy Other rocket engines were designed for no (or almost no) reuse. Raptor is designed for heavy &amp; immediate reuse, like an aircraft jet engine, with inspections required only after many flights, assuming instrumentation shows it good. Using hydrostatic bearings certainly helps.",
          "@elontimes Yeah, we've been working on curbs a *lot*. Concrete seams too. So glamorous.",
          "@engadget So cool",
          "@bitbased @Antsmash @joseph_preece @Erdayastronaut @SpaceXFan97 @lister6520 @justpaulinelol @MattLBates That's actually kinda true",
          "RT @McJuggerNuggets: The car is driving itself. This is so insane  My MIND is BLOWN. @elonmusk you are my hero and inspiration. DREAMS DO COME TRUE.  https://t.co/w4Wry47Sc1",
          "RT @Tesla: K thx bye  https://t.co/7l1BAybNcc",
          "@juleepam @TheOnion These do seem like wise words",
          "@tomekdrabas @merkinvineyards They have the best merkins",
          "Thanks for the happy birthday wishes! [?][?]",
          "RT @Tesla: Wish granted . New Sketchpad features are rolling out in our next software update.   What will you draw?  https://t.co/eXUm4k24qH",
          "@EforElectric @Tesla Sure. Want to add easy import/export of images from your phone.",
          "@Tesla Fun, little music tool coming later",
          "@CarolineGee8 @NathanBomey @USATODAY @Tesla @mayemusk True",
          "@MTimeTraveller Nice",
          "@iainmckenzie101 @AutonomousHoag @AutonobahnAI @AlexRoy144 @Tweetermeyer @valleyhack Sigh",
          "@kvlly Would be cool if car took you to a random fun place traveled to by other Tesla owners in the area",
          "RT @Tesla: We want to live in a world where you can play in parks while you charge your car on your epic roadtrip https://t.co/hgFdNHwUR1",
          "RT @BenSullins: Is Tesla Autopilot Safe? https://t.co/ETWM8PgZbJ",
          "@FaZe_Rain Absolutely agree, you should be allowed to move your Tesla anywhere in the world, unless it's prevented by government rules. Thanks for letting me know.",
          "@JessicaGottlieb Ok",
          "@JaneidyEve @flcnhvy @Space_Station @Tesla Sure",
          "Motor Trend awards Tesla Model S best Car of the Year ever in their 70 year history!!  https://t.co/TiMsQ3REvH",
          "RT @Tesla: \"No vehicle we've awarded, be it Car of the Year, Import Car of the Year, SUV of the Year, or Truck of the Year, can equal the impact, performance, and engineering excellence that is our Ultimate Car of the Year winner, the 2013 Tesla Model S.\"  https://t.co/1qS3T2zgVj",
          "@EvaFoxU @Tesla Great team",
          "@MartianDays Sure",
          "@joe_mckirdy @13ericralph31 @JHC2718 @StephanieeeeeJ 100mT to 125mT for true useful load to useful orbit (eg Starlink mission), including propellant reserves. 150mT for reference payload compared to other rockets. This is in fully reusable config. About double in fully expendable config, which is hopefully never.",
          "RT @Teslarati: SpaceX's returning Hyperloop champion is looking to reach half the speed of sound in this year's competition https://t.co/t7XhHMdfbw",
          "@antonioregalado @neuralink Sure, will do",
          "@ClaraB_KGBT @SpaceX @kgbt Won't be today, hopefully tomorrow",
          "@wonderofscience True ",
          "@robbystarbuck @Tesla Good point. Getting fixed ...",
          "Starhopper flight successful. Water towers *can* fly haha!!",
          "@yousuck2020 Thanks!",
          "RT @vincent13031925: The Tesla Kettleman City Supercharging station is my favorite SC in California! Incredible lounge and best place to hang out while charging your #Teala.   https://t.co/ms4xXX2mkR",
          "@LobbycastGeoff @teslamodel3fan @Tesla Good idea",
          "Hoping to catch the fairing in a few mins https://t.co/JZSkfQnItX",
          "Fairing caught, video posting soon",
          "@RDAnglePhoto @SciGuySpace @SpaceX @CanonUSA Great shot!",
          "@Erdayastronaut Sure",
          "@bluemoondance74 @Erdayastronaut Ok",
          "@Sofiaan @IIHS_autosafety @atj721 Well said!",
          "@HarryStoltz1 @Sofiaan @IIHS_autosafety @atj721 Good question. NHTSA is great for fundamental structural safety, except for unbelted front passenger occupant factor. Very rare these days for front passenger to be unbelted. NCAP also great, but there are some weird headlight angle factors. Super inside baseball stuff ...",
          "@HarryStoltz1 @Sofiaan @IIHS_autosafety @atj721 Ultimately, however, what really matters is empirical safety. Nothing in life is 100% safe, so optimal figure of merit is how many millions of miles/km per accident.",
          "@brunosilva @vincent13031925 @ResidentSponge @Teslarati @Tesla We're working with EU regulators to improve rules. Spirit of rules is correct, but exact language doesn't quite align with spirit. Navigate on Autopilot working well in rest of world.",
          "@Trailblayzer_ I'd play that game",
          "Trust me, it will be ",
          "@TheOnion Finally, VR that's cool *and* sexy!",
          "@_IAMOtis Would love to, but import duties are extremely high, even for electric vehicles",
          "@PatrickMJanson  Iceland  for sure!",
          "@Sofiaan @flcnhvy @coolsilver @Tesla Yeah, several. Smart Summon most significant.",
          "RT @ParksCanada: Visiting our places in your #ZeroEmission vehicles [?] is getting that much easier! You'll now be able to plug in and enjoy more of our places thanks to @Tesla, who is donating EV charging stations with both Tesla and J1772 connectors to #ParksCanada. https://t.co/UitUO0itVZ",
          "@MikeHudema @GretaThunberg Wow cool",
          "@dStanca Hoping to open in Romania soon!",
          "@justpaulinelol Actually true",
          "@Erdayastronaut @flcnhvy @tarimnazmi For sure",
          "@SpaceXFan97 @Erdayastronaut @KevinKling12 @DJSnM @spaceXcentric Most likely",
          "@kierank_ @Teslarati Looks good",
          "@kimpaquette @Tesla For sure!",
          "@mortchad @TheOnion I'd love to",
          "@SamNazarius @mortchad @TheOnion No, but that was an epic piece at a time when the word was being overrun by demented versions of an otherwise delightful jam container. It was like World War Z, but mason jars ...",
          "DMT FTW https://t.co/DgfQ2teLG2",
          "@alistairmilne But we probably won't try for best lap time this week, as we need to review &amp; tune Model S thoroughly for safety on Nurburgring, especially Flugplatz section",
          "@nichegamer This could be good",
          "@bonnienorman @Model3Owners They're available through the app, but we need to make them easier to find",
          "@BocachicaMaria1 Thanks, I will stop by on the 20th!",
          "@TFM312 @Tesla Glad you're ok!",
          "@28delayslater @Tesla Haha",
          "@HarryStoltz1 @28delayslater @Tesla A little, but this is mostly a design update for those interested",
          "RT @Tesla: Model 3 has earned the IIHS 2019 Top Safety Pick+ Award, earning top scores across all eight tests covering crashworthiness, occupant protection, crash avoidance, and headlight systems.",
          "@fermatslibrary For some reason, I always loved this formula",
          "@EvaFoxU @MemesOfMars @fermatslibrary Nice compression",
          "@tesla_truth Well said",
          "@chrisleehawaii @Tesla Much better chess engine coming",
          "@TeslaMiles @28delayslater @karpathy @Tesla OG Roadster is def helping us out here with 826M miles by itself https://t.co/Pcybhf8jc3",
          "@Mich41V4294 @flcnhvy @28delayslater @karpathy Hoping to open in Slovakia, Croatia, Serbia &amp; most of Eastern Europe early next year. Finally, we will do Nikola Tesla proud by having his cars in his countries of origin!",
          "@annerajb @Jennerator211 @Erdayastronaut With rare exceptions, composites would make Starship heavier. They don't stand up well to high temperatures, but steel does great.",
          "@TeslaGong @teslaownersSV @Teslatunity @Tesla Not sure we could go quite that tight, but we can for sure allow much narrower spaces at user's discretion",
          "@28delayslater @DJSnM Haha awesome",
          "@flcnhvy @28delayslater @DJSnM This is quite a complex beast, but hopefully within a month or so",
          "@Kristennetten @annerajb @Jennerator211 @Erdayastronaut That would be a nice touch",
          "@moyo5150 More like https://t.co/f8BUlz0Xdo",
          "@SpacePadreIsle @SpaceX Wow, it's been 5 years since we started at Boca!",
          "@S_Padival @Tesla @business @liamdenning @josheidelson @danahull @ZekeFaux Good question",
          "@EvaFoxU @DisruptResearch @Tesla @karpathy Cool video!",
          "@TheOnion So true",
          "@HarryStoltz1 In solving for a good Mars climate, we will learn a great deal about how to do so on Earth. It is the inverse problem.",
          "@TrevorMahlmann Haha yes",
          "Production version will be a lot more polished than this prototype, but still fun to see",
          "RT @Erdayastronaut: A conversation with @elonmusk about Starship! Thanks for getting nerdy with me about aerospikes. We should definitely talk about more stuff like those heat shields and stuff next time! https://t.co/JD1zTcvwlm",
          "@KeithMansfield @Erdayastronaut Great summary of the key points!",
          "@HarryStoltz1 Probably Starlink  &amp; some fun things",
          "@browserdotsys Haha true",
          "@pewdiepie Haha",
          "@BnOrdhaug @Gizmodo I hope so",
          "@SciGuySpace We had to reallocate some resources to speed this up &amp; received great support from Airborne, our parachute supplier. I was at their Irvine factory with the SpaceX team on Sat and Sun. We're focusing on the advanced Mk3 chute, which provides highest safety factor for astronauts.",
          "Worth reading \"Human Compatible\" by Stuart Russell (he's great!) about future AI risks &amp; solutions https://t.co/ZCdvZrrcVf",
          "@justpaulinelol I'm in the credits",
          "@Aero_JohnG @Erdayastronaut @SciGuySpace Yeah",
          "@teslaownersSV Thanks for mentioning. Should be enabled on all loaner cars.",
          "RT @Tesla: Caraoke is all fun and games until you alienate your children by knowing every single word to Let It Go.",
          "It's really quite fun!",
          "@_GaryTheBot Even Gary likes it!",
          "@vincent13031925 It's something special",
          "@nate_mccomb @28delayslater @Charalanahzard Yep, good catch",
          "@tesla_truth @annerajb @YogiSC1127 @Tesla True",
          "@NASASpaceflight @IanPineapple Yeah, will be Raptor vertical test stand. Hopefully allows simplification of Raptor design, as pump shaft wear &amp; drainage is better in vertical config. Also, more representive of flight. Test as you fly ...",
          "@Sofiaan @annerajb @tesla_addicted Yeah, great team!",
          "@torybruno @Erdayastronaut @MartianDays @AerojetRdyne This is true. All that matters is number used in [?]v equation. Propellant residuals are incredibly important, often overwhelming engine mass. https://t.co/s2LcEapGAU",
          "@Erdayastronaut @torybruno @MartianDays @AerojetRdyne Oberth effect is not well appreciated. Value of high thrust low in gravity well is not captured in simple delta-v equation. One of the reasons we favor CH4 over H2. https://t.co/LijrUMuJDq",
          "Tesla wins best headlights award  https://t.co/SjvA931B3U https://t.co/8yfeJiXd0N",
          "Tesla Q3 results:  - Shanghai Giga ahead of schedule - Model Y ahead of schedule - Solar installs +48% from Q2 - GAAP profitable - Positive free cash flow",
          "Super proud of Tesla team for great execution &amp; support of Tesla customers greatly appreciated!!",
          "@KlausLovgreen Sure",
          "@GerberKawasaki @Tesla Major FUD incoming for sure ... haha",
          "To be clear, integrated solar tiles only make financial sense for new houses or replacement roofs. If your roof is more than 5 years away from replacement, solar retrofit is recommended https://t.co/mDoPO17YB9",
          "@tobyliiiiiiiiii Haha true",
          "@SnazzyQ @Tesla Sure",
          "@jasondunn So true. Imagine if phones were gasoline powered. Total sales would be like 14 units worldwide! Using oil/gas &amp; being forced to constantly visit toxic chemical dispensing stations will seem so insane in the future!",
          "@MrBeastYT Sounds cool. Where are the trees being planted &amp; what kind of trees?",
          "\"I always like going South; somehow, it feels like going downhill.\"",
          "@RenataKonkoly @MrBeastYT @MKBHD True, my name literally means tree",
          "@johnkrausphotos @NASA @Space_Station Hard to say with high accuracy, but 4 to 6 weeks is my best guess",
          "@NutaIie Haha true",
          "@tobi @chris__lu @MarkRober @MrBeastYT Congrats! Shopify is great btw. Nice work.",
          "Thank for helping grow sustainable energy through solar! https://t.co/zH08AMhVMj",
          "Great work by SpaceX Dragon team &amp; Airborne! To be clear, we've only done 1 multi-parachute test of Mk3 design, so 9 more left to reach 10 successful tests in a row. https://t.co/Q814zVoW4S",
          "@flcnhvy Great poem",
          "@TJ_Cooney Wow, 2011 seems like eons ago! With fairing recovery, Falcon is ~80% reusable, but reflight takes several days &amp; requires boats. Starship will be fully reusable with booster reflight possible every few hours &amp; ship reflight every 8 hours. No boats needed.",
          "RT @SpaceX: The fairing supporting this mission previously flew on Falcon Heavy's Arabsat-6A mission https://t.co/iTgqqtl1pW",
          "Extremism is so fun! (@waitbutwhy) https://t.co/ECACsaqAXR",
          "@cleantechnica True",
          "RT @ray4tesla: Tencent Auto Editor in chief Chang Yan is the first one in  to test drive China-made #Model3. As a model 3 owner himself (delivered back in March), he has a lot to say about the good qualities of his test vehicle. It handles well, smooth, quick, and noticeably quiet. He is impressed. https://t.co/JGCroMiUEc",
          "RT @SpaceX: Fairing has deployed--second time for this particular fairing https://t.co/FdDIAGcHqI",
          "RT @SpaceX: Falcon 9 first stage has landed on the Of Course I Still Love You droneship - the fourth launch and landing of this booster https://t.co/qQvH7pwMDO",
          "RT @SpaceX: Successful deployment of 60 Starlink satellites confirmed! https://t.co/bpBqO9oYR3",
          "@davidtrover Seems likely. [?][?] = hipsters.",
          "@cleantechnica True",
          "@universal_sci True",
          "@slashdot The China space industry is very impressive",
          "@SupaZT @Erdayastronaut That would be cool",
          "@WillFealey @Tesla Fun party guaranteed!",
          "Cybertruck design influenced partly by The Spy Who Loved Me https://t.co/HKBzxFNfzm",
          "@TheWalkingDead @Tesla The finest in apocalypse protection technology! Flamethrower optional.",
          "@ruttenpete @DeviantArt @TheBakaArts Just because he has a flamethrower and I have a flamethrower doesn't mean ... um ... ok fine I'm Hank Scorpio",
          "RT @flcnhvy: On November 21, 2019, @elonmusk unveiled what is largely considered to be the greatest evolution in vehicular fashion &amp; function.   What is this Cybertruck everyone's talking about, you may wonder? Well, here's a quick introduction! As promised -- Cybertruck spec ad  @Tesla https://t.co/PgkeLcWhZB",
          "@NCBirbhan @Erdayastronaut Yeah, it's one of my favorite T-shirts!",
          "@RenataKonkoly @mayemusk They smashed the window to steal the radio, which was worth maybe $20. Got a replacement from junkyard. Btw, great deals available from junkyards! It's pretty fun fixing/upgrading cars.",
          "Kids these days have no respect! https://t.co/lfJTJnqllQ",
          "Math jokes have a small audience",
          "@andrewMcarney @Tesla Sure",
          "If life is a video game, the graphics are great, but the plot is confusing &amp; the tutorial is way too long",
          "@teslaownersSV MCU (infotainment computer) upgrade not recommended imo. Isn't needed for full self-driving &amp; cost is ~$2k for limited entertainment improvements.",
          "@coffeemaestro_ This is a great meme ",
          "Tesla Moth Mode (better late than never) https://t.co/Rcu87A8NkO",
          "Whoa ... the stock is so high lol",
          "RT @SpaceX: Yesterday the team completed the 10th successful multi-chute test in a row of Crew Dragon's upgraded Mark 3 parachute design - one step closer to safely launching and landing @NASA astronauts https://t.co/nfFjnKygB4",
          "RT @Teslarati: Happy Holidays via OTA!  Awesome first look at Tesla's (2019.40.50) software update in action, by @tesla_raj : Text messaging support, voice commands, and more https://t.co/uMtMBU9LZ2",
          "@mikeduncan True",
          "@teslaownersSV @tesla_unplugged @TeslaOwnersofMA @Tesla @disneyplus @BenSullins Merry Christmas  Hope you're enjoying latest software update!",
          "@flcnhvy @Sofiaan @Erdayastronaut It's not that these things can't be done, they just absorb a lot of software engineering time, which has great opportunity cost. There are very few excellent software engineers &amp; merely increasing team size results in awful bloatware.",
          "@KakaroTTo1385 @flcnhvy @Sofiaan @Erdayastronaut It is an honor &amp; a privilege to work with so many great engineers",
          "@GutGutM3 @jamescharles Ok",
          "@teslaownersSV @rhoehn Thanks all Tesla club members for helping out! Looking forward to seeing you there tomorrow. [?]",
          "RT @Teslarati: Tesla Model S gets another 'Car of the Decade' Award: 'Nothing Else Comes Close' https://t.co/m26soDUp0J",
          "@Austen Haha this rocks!",
          "RT @SpaceX: Falcon 9 first stage has landed on the Of Course I Still Love You droneship - SpaceX's 48th successful landing of an orbital class rocket booster https://t.co/wLal1xfsjO",
          "@webtekno Nice ",
          "[?][?] Tesla China Team [?][?]      Such amazing progress!!",
          "@SciGuySpace Densifying hydrogen is difficult, as its liquid temp is close to absolute zero. Much easier with CH4, which is an underappreciated advantage. Cooling O2 is good too, but becomes operationally difficult at N2 liquid temp, as air is ~78% N2. Entire system wants to drip air!",
          "@mstrwilliam00 @Erdayastronaut Aiming for 20 to 30 years, like aircraft",
          "@jameslin123321 @Erdayastronaut Helping to pay for this is why I'm accumulating assets on Earth.",
          "Best place to view is from the beach. Excitement guaranteed! https://t.co/6XSiK5dWEn",
          "@flcnhvy @thirdrowtesla @Gfilche @Sofiaan @Kristennetten @vincent13031925 Great talking with @thirdrowtesla!",
          "@vm_one1 @Exhaustedpengu1 @RationalEtienne Would like to take a moment to thank Michael &amp; Ze'ev for helping Tesla. It was very hard work &amp; both could've just rested on their laurels. Much appreciated .",
          "@detroitnews Yay!",
          "@flcnhvy @amancalledscott @ChrisDungeon @mithunoorath I love that Heart of Gold is moved by Infinite Improbability",
          "@Erdayastronaut Ok",
          "@Everman @Erdayastronaut Yeah, system should adapt to most likely destination &amp; anticipate school, then work, if that's owner preference",
          "Liquid nitrogen cryogenic strength test underway [?] https://t.co/qRPBLInqm0",
          "RT @SpaceX: Falcon 9's first stage has landed on the Of Course I Still Love You droneship - our 49th successful landing of an orbital class booster https://t.co/QyR3zyPcIp",
          "RT @SpaceX: Ms. Tree caught a fairing half - our third successful catch! https://t.co/VJU8asg4gS",
          "@SciGuySpace Tonnage delivered to orbit, normalized to LEO, would be interesting to see",
          "A friend just sent me this excerpt from a Tesla blog I wrote 14 years ago https://t.co/Hr8w52ithY",
          "Be ... cause ... it's ... true",
          "Hope you're enjoying the simulation https://t.co/nj9JTJc4lL",
          "@IamKarenBoBaran @georgezachary Those old ladies are wise https://t.co/f1uxKvCfbB",
          "@vincent13031925 I appreciate the kind words!",
          "RT @thirdrowtesla: With great pleasure, we bring to you @ElonMusk's Story Part 2!!!   Thank you Elon for sharing with us.   We can't wait to do this again!   https://t.co/Pl1SdGDne9",
          "RT @vincent13031925: Tesla Is A Touchdown Among @NFL Players, And It's Just Getting Started  [Video] Listen to the real people, they love #Tesla   $TSLA   https://t.co/wdcT4siG1z",
          "@ajtourville @CathieDWood @ARKInvest Yeah, it looks like a medieval torture device, but is nonetheless currently used in many human studies! Not hard to be way better.",
          "@flcnhvy @Tesla @thirdrowtesla Ok sure  Btw, we recruit great engineers from almost anywhere in the world, so this shouldn't be thought of as USA only. Also, work location can be Bay Area (preferred), but Austin (many of our chip designers are there) or potentially any Tesla Gigafactory.",
          "@CathieDWood @sbarnettARK @jwangARK @ARKInvest First, we need to make it super safe &amp; easy to use, then determine greatest utility vs risk. From initially working to volume production &amp; implantation is a long road. As with vehicle safety, it will be much harder to pass our internal standards than minimum regulatory standards."
         ],
         "marker": {
          "color": "#00CC96"
         },
         "mode": "markers",
         "name": "PositiveTweet",
         "showlegend": true,
         "type": "scatter",
         "x": [
          "2017-12-11",
          "2017-12-11",
          "2017-12-15",
          "2017-12-21",
          "2017-12-21",
          "2017-12-21",
          "2017-12-21",
          "2017-12-21",
          "2018-01-29",
          "2018-01-29",
          "2018-01-29",
          "2018-01-31",
          "2018-02-06",
          "2018-02-07",
          "2018-02-07",
          "2018-02-07",
          "2018-02-22",
          "2018-02-22",
          "2018-02-22",
          "2018-03-07",
          "2018-03-07",
          "2018-03-09",
          "2018-03-09",
          "2018-03-09",
          "2018-03-09",
          "2018-03-12",
          "2018-03-29",
          "2018-04-05",
          "2018-04-18",
          "2018-04-18",
          "2018-05-01",
          "2018-05-04",
          "2018-05-04",
          "2018-05-04",
          "2018-05-09",
          "2018-05-09",
          "2018-05-09",
          "2018-05-09",
          "2018-05-21",
          "2018-05-21",
          "2018-05-21",
          "2018-05-21",
          "2018-05-23",
          "2018-05-23",
          "2018-05-23",
          "2018-05-23",
          "2018-05-23",
          "2018-05-23",
          "2018-05-23",
          "2018-05-23",
          "2018-05-23",
          "2018-05-23",
          "2018-05-23",
          "2018-05-23",
          "2018-05-25",
          "2018-05-25",
          "2018-05-25",
          "2018-05-25",
          "2018-05-25",
          "2018-05-25",
          "2018-05-29",
          "2018-05-29",
          "2018-05-29",
          "2018-05-29",
          "2018-05-29",
          "2018-05-29",
          "2018-05-29",
          "2018-05-29",
          "2018-05-29",
          "2018-05-29",
          "2018-05-29",
          "2018-05-29",
          "2018-05-30",
          "2018-05-30",
          "2018-05-30",
          "2018-05-30",
          "2018-05-30",
          "2018-05-30",
          "2018-06-01",
          "2018-06-01",
          "2018-06-01",
          "2018-06-01",
          "2018-06-04",
          "2018-06-04",
          "2018-06-04",
          "2018-06-11",
          "2018-06-15",
          "2018-06-15",
          "2018-06-15",
          "2018-06-18",
          "2018-06-20",
          "2018-06-20",
          "2018-06-20",
          "2018-06-20",
          "2018-06-20",
          "2018-06-25",
          "2018-06-25",
          "2018-06-25",
          "2018-06-25",
          "2018-06-25",
          "2018-06-25",
          "2018-06-25",
          "2018-06-25",
          "2018-06-25",
          "2018-06-26",
          "2018-06-26",
          "2018-06-26",
          "2018-06-26",
          "2018-06-28",
          "2018-06-28",
          "2018-06-28",
          "2018-06-28",
          "2018-06-28",
          "2018-07-06",
          "2018-07-06",
          "2018-07-06",
          "2018-07-06",
          "2018-07-06",
          "2018-07-09",
          "2018-07-11",
          "2018-07-11",
          "2018-07-11",
          "2018-07-11",
          "2018-07-11",
          "2018-07-11",
          "2018-07-11",
          "2018-07-13",
          "2018-07-13",
          "2018-07-13",
          "2018-07-13",
          "2018-07-13",
          "2018-07-19",
          "2018-07-23",
          "2018-07-23",
          "2018-07-23",
          "2018-07-23",
          "2018-07-23",
          "2018-07-31",
          "2018-07-31",
          "2018-08-01",
          "2018-08-01",
          "2018-08-01",
          "2018-08-01",
          "2018-08-01",
          "2018-08-01",
          "2018-08-07",
          "2018-08-07",
          "2018-08-07",
          "2018-08-07",
          "2018-08-07",
          "2018-08-07",
          "2018-08-10",
          "2018-08-21",
          "2018-08-23",
          "2018-08-23",
          "2018-08-23",
          "2018-08-23",
          "2018-08-23",
          "2018-08-23",
          "2018-08-24",
          "2018-08-27",
          "2018-09-07",
          "2018-09-10",
          "2018-09-10",
          "2018-09-13",
          "2018-09-14",
          "2018-09-14",
          "2018-09-17",
          "2018-09-17",
          "2018-09-17",
          "2018-09-17",
          "2018-09-17",
          "2018-09-17",
          "2018-09-17",
          "2018-09-17",
          "2018-09-19",
          "2018-09-26",
          "2018-10-09",
          "2018-10-09",
          "2018-10-09",
          "2018-10-09",
          "2018-10-15",
          "2018-10-15",
          "2018-10-15",
          "2018-10-16",
          "2018-10-16",
          "2018-10-22",
          "2018-10-22",
          "2018-10-22",
          "2018-10-23",
          "2018-10-23",
          "2018-10-26",
          "2018-10-26",
          "2018-10-26",
          "2018-10-26",
          "2018-10-26",
          "2018-10-26",
          "2018-10-26",
          "2018-10-26",
          "2018-10-31",
          "2018-10-31",
          "2018-10-31",
          "2018-11-01",
          "2018-11-01",
          "2018-11-02",
          "2018-11-02",
          "2018-11-02",
          "2018-11-06",
          "2018-11-06",
          "2018-11-06",
          "2018-11-06",
          "2018-11-08",
          "2018-11-09",
          "2018-11-09",
          "2018-11-09",
          "2018-11-14",
          "2018-11-14",
          "2018-11-15",
          "2018-11-15",
          "2018-11-16",
          "2018-11-16",
          "2018-11-20",
          "2018-11-26",
          "2018-11-26",
          "2018-11-26",
          "2018-11-26",
          "2018-11-27",
          "2018-11-27",
          "2018-12-04",
          "2018-12-13",
          "2018-12-21",
          "2018-12-21",
          "2018-12-26",
          "2018-12-26",
          "2018-12-26",
          "2018-12-26",
          "2018-12-28",
          "2019-01-04",
          "2019-01-07",
          "2019-01-07",
          "2019-01-09",
          "2019-01-09",
          "2019-01-11",
          "2019-01-15",
          "2019-01-16",
          "2019-01-17",
          "2019-01-17",
          "2019-01-17",
          "2019-01-25",
          "2019-01-25",
          "2019-01-25",
          "2019-01-25",
          "2019-01-25",
          "2019-01-25",
          "2019-01-25",
          "2019-01-25",
          "2019-01-28",
          "2019-01-28",
          "2019-01-29",
          "2019-01-30",
          "2019-01-31",
          "2019-01-31",
          "2019-01-31",
          "2019-02-01",
          "2019-02-01",
          "2019-02-01",
          "2019-02-01",
          "2019-02-05",
          "2019-02-05",
          "2019-02-11",
          "2019-02-11",
          "2019-02-11",
          "2019-02-11",
          "2019-02-11",
          "2019-02-11",
          "2019-02-11",
          "2019-02-14",
          "2019-02-14",
          "2019-02-14",
          "2019-02-14",
          "2019-02-14",
          "2019-02-15",
          "2019-02-22",
          "2019-02-22",
          "2019-02-22",
          "2019-02-22",
          "2019-02-25",
          "2019-02-26",
          "2019-02-26",
          "2019-02-26",
          "2019-02-26",
          "2019-02-26",
          "2019-02-27",
          "2019-02-27",
          "2019-02-28",
          "2019-03-08",
          "2019-03-08",
          "2019-03-08",
          "2019-03-08",
          "2019-03-11",
          "2019-03-11",
          "2019-03-11",
          "2019-03-11",
          "2019-03-11",
          "2019-03-13",
          "2019-03-20",
          "2019-03-21",
          "2019-03-21",
          "2019-03-21",
          "2019-03-25",
          "2019-03-26",
          "2019-03-26",
          "2019-03-26",
          "2019-03-26",
          "2019-03-26",
          "2019-03-27",
          "2019-03-29",
          "2019-03-29",
          "2019-03-29",
          "2019-03-29",
          "2019-04-01",
          "2019-04-01",
          "2019-04-03",
          "2019-04-03",
          "2019-04-03",
          "2019-04-04",
          "2019-04-04",
          "2019-04-04",
          "2019-04-04",
          "2019-04-04",
          "2019-04-05",
          "2019-04-05",
          "2019-04-05",
          "2019-04-05",
          "2019-04-05",
          "2019-04-05",
          "2019-04-09",
          "2019-04-09",
          "2019-04-09",
          "2019-04-11",
          "2019-04-11",
          "2019-04-16",
          "2019-04-16",
          "2019-04-16",
          "2019-04-18",
          "2019-04-23",
          "2019-04-23",
          "2019-04-23",
          "2019-04-23",
          "2019-04-29",
          "2019-04-29",
          "2019-04-29",
          "2019-04-29",
          "2019-05-03",
          "2019-05-03",
          "2019-05-03",
          "2019-05-06",
          "2019-05-15",
          "2019-05-21",
          "2019-05-21",
          "2019-05-21",
          "2019-05-21",
          "2019-05-23",
          "2019-05-23",
          "2019-05-23",
          "2019-05-31",
          "2019-06-04",
          "2019-06-10",
          "2019-06-10",
          "2019-06-10",
          "2019-06-13",
          "2019-06-13",
          "2019-06-13",
          "2019-06-14",
          "2019-06-17",
          "2019-06-19",
          "2019-06-21",
          "2019-06-21",
          "2019-06-24",
          "2019-06-24",
          "2019-06-24",
          "2019-06-24",
          "2019-06-24",
          "2019-06-27",
          "2019-06-27",
          "2019-06-28",
          "2019-06-28",
          "2019-06-28",
          "2019-06-28",
          "2019-06-28",
          "2019-06-28",
          "2019-06-28",
          "2019-07-09",
          "2019-07-09",
          "2019-07-09",
          "2019-07-09",
          "2019-07-09",
          "2019-07-10",
          "2019-07-10",
          "2019-07-10",
          "2019-07-11",
          "2019-07-11",
          "2019-07-11",
          "2019-07-12",
          "2019-07-12",
          "2019-07-12",
          "2019-07-15",
          "2019-07-16",
          "2019-07-16",
          "2019-07-23",
          "2019-07-26",
          "2019-07-26",
          "2019-07-26",
          "2019-08-02",
          "2019-08-02",
          "2019-08-07",
          "2019-08-07",
          "2019-08-07",
          "2019-08-07",
          "2019-08-07",
          "2019-08-08",
          "2019-08-08",
          "2019-08-08",
          "2019-08-08",
          "2019-08-16",
          "2019-08-16",
          "2019-08-26",
          "2019-08-29",
          "2019-08-29",
          "2019-09-03",
          "2019-09-06",
          "2019-09-09",
          "2019-09-09",
          "2019-09-09",
          "2019-09-09",
          "2019-09-09",
          "2019-09-10",
          "2019-09-10",
          "2019-09-10",
          "2019-09-10",
          "2019-09-11",
          "2019-09-11",
          "2019-09-11",
          "2019-09-17",
          "2019-09-17",
          "2019-09-17",
          "2019-09-17",
          "2019-09-17",
          "2019-09-19",
          "2019-09-19",
          "2019-09-19",
          "2019-09-19",
          "2019-09-19",
          "2019-09-23",
          "2019-09-23",
          "2019-09-26",
          "2019-09-26",
          "2019-09-26",
          "2019-09-26",
          "2019-09-26",
          "2019-09-26",
          "2019-09-26",
          "2019-10-01",
          "2019-10-01",
          "2019-10-01",
          "2019-10-01",
          "2019-10-01",
          "2019-10-01",
          "2019-10-01",
          "2019-10-01",
          "2019-10-03",
          "2019-10-07",
          "2019-10-07",
          "2019-10-08",
          "2019-10-08",
          "2019-10-08",
          "2019-10-08",
          "2019-10-09",
          "2019-10-09",
          "2019-10-09",
          "2019-10-09",
          "2019-10-09",
          "2019-10-11",
          "2019-10-14",
          "2019-10-14",
          "2019-10-14",
          "2019-10-14",
          "2019-10-14",
          "2019-10-14",
          "2019-10-16",
          "2019-10-23",
          "2019-10-23",
          "2019-10-24",
          "2019-10-24",
          "2019-10-24",
          "2019-10-25",
          "2019-10-28",
          "2019-10-28",
          "2019-10-28",
          "2019-10-30",
          "2019-10-30",
          "2019-10-30",
          "2019-10-30",
          "2019-10-30",
          "2019-10-30",
          "2019-11-04",
          "2019-11-04",
          "2019-11-04",
          "2019-11-06",
          "2019-11-07",
          "2019-11-07",
          "2019-11-08",
          "2019-11-11",
          "2019-11-11",
          "2019-11-11",
          "2019-11-14",
          "2019-11-14",
          "2019-11-19",
          "2019-11-19",
          "2019-11-19",
          "2019-11-21",
          "2019-11-21",
          "2019-11-27",
          "2019-11-27",
          "2019-12-03",
          "2019-12-09",
          "2019-12-10",
          "2019-12-12",
          "2019-12-12",
          "2019-12-12",
          "2019-12-12",
          "2019-12-18",
          "2019-12-18",
          "2019-12-19",
          "2019-12-23",
          "2019-12-24",
          "2019-12-24",
          "2019-12-24",
          "2019-12-26",
          "2019-12-26",
          "2019-12-26",
          "2019-12-26",
          "2019-12-31",
          "2019-12-31",
          "2020-01-07",
          "2020-01-07",
          "2020-01-07",
          "2020-01-08",
          "2020-01-16",
          "2020-01-17",
          "2020-01-17",
          "2020-01-17",
          "2020-01-21",
          "2020-01-21",
          "2020-01-21",
          "2020-01-23",
          "2020-01-23",
          "2020-01-23",
          "2020-01-29",
          "2020-01-29",
          "2020-01-29",
          "2020-01-29",
          "2020-01-29",
          "2020-01-31",
          "2020-01-31",
          "2020-01-31",
          "2020-01-31",
          "2020-01-31",
          "2020-02-03",
          "2020-02-03",
          "2020-02-03",
          "2020-02-03"
         ],
         "y": [
          328.91,
          328.91,
          343.45,
          331.66,
          331.66,
          331.66,
          331.66,
          331.66,
          349.53,
          349.53,
          349.53,
          354.31,
          333.97,
          345,
          345,
          345,
          346.17,
          346.17,
          346.17,
          332.3,
          332.3,
          327.17,
          327.17,
          327.17,
          327.17,
          345.51,
          266.13,
          305.72,
          293.35,
          293.35,
          299.92,
          294.09,
          294.09,
          294.09,
          306.85,
          306.85,
          306.85,
          306.85,
          284.49,
          284.49,
          284.49,
          284.49,
          279.07,
          279.07,
          279.07,
          279.07,
          279.07,
          279.07,
          279.07,
          279.07,
          279.07,
          279.07,
          279.07,
          279.07,
          278.85,
          278.85,
          278.85,
          278.85,
          278.85,
          278.85,
          283.76,
          283.76,
          283.76,
          283.76,
          283.76,
          283.76,
          283.76,
          283.76,
          283.76,
          283.76,
          283.76,
          283.76,
          291.72,
          291.72,
          291.72,
          291.72,
          291.72,
          291.72,
          291.82,
          291.82,
          291.82,
          291.82,
          296.74,
          296.74,
          296.74,
          332.1,
          358.17,
          358.17,
          358.17,
          370.83,
          362.22,
          362.22,
          362.22,
          362.22,
          362.22,
          333.01,
          333.01,
          333.01,
          333.01,
          333.01,
          333.01,
          333.01,
          333.01,
          333.01,
          342,
          342,
          342,
          342,
          349.93,
          349.93,
          349.93,
          349.93,
          349.93,
          308.9,
          308.9,
          308.9,
          308.9,
          308.9,
          318.51,
          318.96,
          318.96,
          318.96,
          318.96,
          318.96,
          318.96,
          318.96,
          318.87,
          318.87,
          318.87,
          318.87,
          318.87,
          320.23,
          303.2,
          303.2,
          303.2,
          303.2,
          303.2,
          298.14,
          298.14,
          300.84,
          300.84,
          300.84,
          300.84,
          300.84,
          300.84,
          379.57,
          379.57,
          379.57,
          379.57,
          379.57,
          379.57,
          355.49,
          321.9,
          320.1,
          320.1,
          320.1,
          320.1,
          320.1,
          320.1,
          322.82,
          319.27,
          263.24,
          285.5,
          285.5,
          289.46,
          295.2,
          295.2,
          294.84,
          294.84,
          294.84,
          294.84,
          294.84,
          294.84,
          294.84,
          294.84,
          299.02,
          309.58,
          262.8,
          262.8,
          262.8,
          262.8,
          259.59,
          259.59,
          259.59,
          276.59,
          276.59,
          260.95,
          260.95,
          260.95,
          294.14,
          294.14,
          330.9,
          330.9,
          330.9,
          330.9,
          330.9,
          330.9,
          330.9,
          330.9,
          337.32,
          337.32,
          337.32,
          344.28,
          344.28,
          346.41,
          346.41,
          346.41,
          341.06,
          341.06,
          341.06,
          341.06,
          351.4,
          350.51,
          350.51,
          350.51,
          344,
          344,
          348.44,
          348.44,
          354.31,
          354.31,
          347.49,
          346,
          346,
          346,
          346,
          343.92,
          343.92,
          359.7,
          376.79,
          319.77,
          319.77,
          326.09,
          326.09,
          326.09,
          326.09,
          333.87,
          317.69,
          334.96,
          334.96,
          338.53,
          338.53,
          347.26,
          344.43,
          346.05,
          347.31,
          347.31,
          347.31,
          297.04,
          297.04,
          297.04,
          297.04,
          297.04,
          297.04,
          297.04,
          297.04,
          296.38,
          296.38,
          297.46,
          308.77,
          307.02,
          307.02,
          307.02,
          312.21,
          312.21,
          312.21,
          312.21,
          321.35,
          321.35,
          312.84,
          312.84,
          312.84,
          312.84,
          312.84,
          312.84,
          312.84,
          303.77,
          303.77,
          303.77,
          303.77,
          303.77,
          307.88,
          294.71,
          294.71,
          294.71,
          294.71,
          298.77,
          297.86,
          297.86,
          297.86,
          297.86,
          297.86,
          314.74,
          314.74,
          319.88,
          284.14,
          284.14,
          284.14,
          284.14,
          290.92,
          290.92,
          290.92,
          290.92,
          290.92,
          288.96,
          273.6,
          274.02,
          274.02,
          274.02,
          260.42,
          267.77,
          267.77,
          267.77,
          267.77,
          267.77,
          274.83,
          279.86,
          279.86,
          279.86,
          279.86,
          289.18,
          289.18,
          291.81,
          291.81,
          291.81,
          267.78,
          267.78,
          267.78,
          267.78,
          267.78,
          274.96,
          274.96,
          274.96,
          274.96,
          274.96,
          274.96,
          272.31,
          272.31,
          272.31,
          268.42,
          268.42,
          273.36,
          273.36,
          273.36,
          273.26,
          263.9,
          263.9,
          263.9,
          263.9,
          241.47,
          241.47,
          241.47,
          241.47,
          255.03,
          255.03,
          255.03,
          255.34,
          231.95,
          205.08,
          205.08,
          205.08,
          205.08,
          195.49,
          195.49,
          195.49,
          185.16,
          193.6,
          212.88,
          212.88,
          212.88,
          213.91,
          213.91,
          213.91,
          214.92,
          225.03,
          226.43,
          221.86,
          221.86,
          223.64,
          223.64,
          223.64,
          223.64,
          223.64,
          222.84,
          222.84,
          223.46,
          223.46,
          223.46,
          223.46,
          223.46,
          223.46,
          223.46,
          230.06,
          230.06,
          230.06,
          230.06,
          230.06,
          238.92,
          238.92,
          238.92,
          238.6,
          238.6,
          238.6,
          245.08,
          245.08,
          245.08,
          253.5,
          252.38,
          252.38,
          260.17,
          228.04,
          228.04,
          228.04,
          234.34,
          234.34,
          233.42,
          233.42,
          233.42,
          233.42,
          233.42,
          238.3,
          238.3,
          238.3,
          238.3,
          219.94,
          219.94,
          215,
          221.71,
          221.71,
          225.01,
          227.45,
          231.79,
          231.79,
          231.79,
          231.79,
          231.79,
          235.54,
          235.54,
          235.54,
          235.54,
          247.1,
          247.1,
          247.1,
          244.79,
          244.79,
          244.79,
          244.79,
          244.79,
          246.6,
          246.6,
          246.6,
          246.6,
          246.6,
          241.23,
          241.23,
          242.56,
          242.56,
          242.56,
          242.56,
          242.56,
          242.56,
          242.56,
          244.69,
          244.69,
          244.69,
          244.69,
          244.69,
          244.69,
          244.69,
          244.69,
          233.03,
          237.72,
          237.72,
          240.05,
          240.05,
          240.05,
          240.05,
          244.53,
          244.53,
          244.53,
          244.53,
          244.53,
          247.89,
          256.96,
          256.96,
          256.96,
          256.96,
          256.96,
          256.96,
          259.75,
          254.68,
          254.68,
          299.68,
          299.68,
          299.68,
          328.13,
          327.71,
          327.71,
          327.71,
          315.01,
          315.01,
          315.01,
          315.01,
          315.01,
          315.01,
          317.47,
          317.47,
          317.47,
          326.58,
          335.54,
          335.54,
          337.14,
          345.09,
          345.09,
          345.09,
          349.35,
          349.35,
          359.52,
          359.52,
          359.52,
          354.83,
          354.83,
          331.29,
          331.29,
          336.2,
          339.53,
          348.84,
          359.68,
          359.68,
          359.68,
          359.68,
          393.15,
          393.15,
          404.04,
          419.22,
          425.25,
          425.25,
          425.25,
          430.94,
          430.94,
          430.94,
          430.94,
          418.33,
          418.33,
          469.06,
          469.06,
          469.06,
          492.14,
          513.49,
          510.5,
          510.5,
          510.5,
          547.2,
          547.2,
          547.2,
          572.2,
          572.2,
          572.2,
          580.99,
          580.99,
          580.99,
          580.99,
          580.99,
          650.57,
          650.57,
          650.57,
          650.57,
          650.57,
          780,
          780,
          780,
          780
         ]
        },
        {
         "hoverinfo": "text",
         "hovertext": [
          "@ClickHole Hate it when that happens. Some people are so rude!",
          "All flamethrowers will ship with a complimentary boring fire extinguisher",
          "@doug_ellison @dsfpspacefl1ght Found the source of the problem. The NASA database has the Falcon Block 1 performance. Version currently in production and set to fly in a few months is Block 5. SpaceX GNC team is submitting updated numbers.",
          "If anyone is curious, the name was inspired by The Fault in Our Stars",
          "@TheOnion Your cruel taunts cut me deep. Deep. But, I love you too.",
          "No technology is too advanced for The Boring Company! https://t.co/r3EJYpcpkO",
          "@Bryson_M @RMac18 @serdarsprofile @brianacton Definitely. Looks lame anyway.",
          "@kerrymflynn Yeah, my fault for being an idiot. We did give them a free launch to make up for it and I think they had some insurance.",
          "@VentureBeat @kharijohnson We've never advertised with FB. None of my companies buy advertising or pay famous people to fake endorse. Product lives or dies on its own merits.",
          "@vegamontesino @NoceraBV @WSJ @Tesla We release as soon as we have the data. Good timeline, bad timing. Doesn't matter.",
          "RT @Tesla: Batteries cut costs and respond to major power problems quicker than coal, gas or hydro generators https://t.co/g3BhJbW4Rq https://t.co/zHJxLqfbLx",
          "@existentialcoms No use arguing with chimp. You're blocked.",
          "@arstechnica Fair criticism, but we're fixing it fast. Hackathon going on right now to fix 2 worst robot production chokepoints. Looks promising.",
          "RT @SpaceX: More photos from the first flight of Falcon 9 Block 5 - https://t.co/095WHWMtKp https://t.co/4gZsAc01Bg",
          "@TalkTesla @Techmeme @timkhiggins According to NHTSA, there was an automotive fatality every 86M miles in 2017 (~40,000 deaths). Tesla was every 320M miles. It's not possible to be zero, but probability of fatality is much lower in a Tesla. We will be reporting updated safety numbers after each quarter.",
          "It's super messed up that a Tesla crash resulting in a broken ankle is front page news and the ~40,000 people who died in US auto accidents alone in past year get almost no coverage https://t.co/6gD8MzD6VU",
          "What's actually amazing about this accident is that a Model S hit a fire truck at 60mph and the driver only broke an ankle. An impact at that speed usually results in severe injury or death.",
          "@camgfrost @DMC_Ryan @loganthefirst Stop, you're making me blush [?]",
          "@rrosenbl @ElectrekCo @FredericLambert @Tesla Have been meaning to get around to talking to him. Some of his criticisms are valid, but, on the higher body/chassis weight front, he wasn't fully appreciating that we were going for much higher crash safety levels than other cars.",
          "@SarahKnuckey @JeffBezos @Oprah @kobebryant @richardbranson @shanesmith30 No problem",
          "@ericbrownzzz @dmatkins137 @ShayneRarma @NASA No, UAW does that. They want divisiveness &amp; enforcement of 2 class \"lords &amp; commoners\" system. That sucks. US fought War of Independence to get *rid* of a 2 class system! Managers &amp; workers shd be equal w easy movement either way. Managing sucks btw. Hate doing it so much.",
          "@ericbrownzzz @dmatkins137 @ShayneRarma @NASA But ya know what, let's test that theory. Maybe we do want UAW back, even tho UAW betrayed us 8 years ago &amp; left us here to rot. Maybe we want UAW back even tho injury rate today is 1/2 what it was with them &amp; wages were lower. Maybe. Let's hold a vote &amp; find out.",
          "Hell of a week https://t.co/jKsfykkG55",
          "Difficult, but necessary Tesla reorg underway. My email to the company has already leaked to media. Here it is unfiltered: https://t.co/4LToWoxScx",
          "@scottlynch78 @jenphalian You're welcome, bad fiction writer 78 https://t.co/ypglGbdEse",
          "@horn Vielleicht muss ich die Kirche im Dorf verlassen?",
          "@Zuckerberger @horn Das war ein unbeabsichtigter Witz [?]  ",
          "@LudaLisl @horn Die frohliche Wissenschaft und Eristische Dialektik: Die Kunst, Recht zu Behalten",
          "@light00bringer @horn Original Star Wars",
          "@jacobinmag Stop being such a Jacobin [?]",
          "@clprenz @JoeyOstrander I hate whole idea of brands and branding. So much bs. I hope it messes with our brand. Brands suck.",
          "@himanshu_ragtah @Gizmodo If the rules force defeat, the rules must change",
          "@WillFealey @Tesla @RadioFlyer No problem, happy to donate some personally",
          "@ICannot_Enough @SimRiyat @gawwy @aperezposada @Reuters @sal19 Strange. @cnbc, is it true that you are putting on analysts with such low ratings &amp; extremely bad prediction records? Are your viewers informed about an analyst's track record before hearing their opinion.",
          "@LanceUlanoff @BBCWorld Good for rescuing vulnerable patients in dangerous environments, particularly if water, toxic gas or dangerous bacteria/viruses present, as patient would remain dry &amp; at std air pressure entire time.",
          "RT @adamchavez: Finally a thorough piece of reporting on the @elonmusk Thai submarine fiasco. By a non-reporter.   Journalism is dead. But if we can fight to distribute pieces like this, with high-signal-to-noise ratio, we can resurrect.  https://t.co/3hZEvG3kKZ",
          "@physorg_com @ETH_en @PNASNews ETH beam heh heh",
          "Defeating traffic is the ultimate boss battle",
          "@alexmd2 @Techmeme @CatherineShu It's coming, I swear",
          "@McMurchie @alexmd2 @Techmeme @CatherineShu At this point, I want ETH even if it is a scam",
          "@Scobleizer @Tesla Sorry about the typo. That was unforgivable. Why would they be upset about their mission? It's what they do.",
          "@FCalciu @derekGUMB @Scobleizer @Tesla @SEC_Enforcement Exactly. Short-sellers are value destroyers. Should definitely be illegal.",
          "@annerajb @KishavanBhola @enn_nafnlaus @ElonBachman The CIO of a major pension fund is the one who deserves credit for uncovering this scam",
          "@annerajb @KishavanBhola @enn_nafnlaus @ElonBachman The big funds can &amp; will, as they're suffering a net loss. Index managers like Blackrock pocket make excessive profit from short lending while pretending to charge low rates for \"passive\" index tracking.",
          "@EndyO_ Then the hell with science!",
          "Boring breakthrough @BoringCompany https://t.co/pSflhZadwC",
          "@lgebman I'm dying to make a pickup truck so bad ... we might have a prototype to unveil next year",
          "@jeffects01 God Fire",
          "RT @boringcompany: The Boring Company Loop system https://t.co/xVpDHzZKXB",
          "@nextspaceflight @Teslarati I just heard. 50 mph winds broke the mooring blocks late last night &amp; fairing was blown over. Will take a few weeks to repair.",
          "RT @cleantechnica: Sweden Will Ban Sale Of Gasoline &amp; Diesel Cars After 2030. Germany Lags Behind https://t.co/eIKVQ9lNYF https://t.co/YD3o0a7r67",
          "@TheRock Oh stop, you'll make me blush [?]",
          "@universal_sci What could possibly go wrong?",
          "@annerajb @PeteSauerbier Mobile can do it no problem",
          "@jasonsellspa Starship will land on a ring of fire",
          "@FalkenstrKent That's odd. Will look into it.",
          "And yet people ask what could possibly go wrong with AI https://t.co/CRxQCCDEca",
          "@savannahseymour Of 14M futures, 13.9M were simply death by boredom",
          "@alzslabyrinth @UberFacts In recent years, hours were much higher. Don't recommend though -- bad for health &amp; happiness. But no choice or Tesla would die. Hope to reduce to 80 hours next year.",
          "@nichegamer @EV_Stevee @flcnhvy @Model3DLR @mortchad @Tesla Mein Herz brennt isboss fight song",
          "Oh stop teasing, Jeff  https://t.co/wuWPENcSE1",
          ".@cgpgrey drives a Tesla across the loneliest road in America https://t.co/UAovEHY4SE",
          "GoT season finale leaked https://t.co/wMoLFDSsbt",
          "@MrRobCapewell @Tesla @Apple @ValueAnalyst1 Yeah, feels like something is messed up with Apple news app. Almost only ever shows negative news. Nickname is \"the hate stream\" ",
          "@maggiejuang1 Sure is. I live here. Air quality is especially bad near highways. https://t.co/XeBB5iP7mo",
          "@tesla_truth Ironically, same publications will attack me for compensation tied to Tesla tripling in value and imply Tesla is worthless. They can't *both* be true!",
          "@Erdayastronaut @rmarcilhoo @kimitalvitie @SpaceXNow @ChrisG_NSF @NASASpaceflight Exactly. We're on the wrong planet for SSTO. No problem on Mars or any of the moons.",
          "@kimitalvitie @Erdayastronaut @SpaceXNow @ChrisG_NSF @NASASpaceflight Not bad",
          "@arenpageler Storm Watch was active for hundreds of Powerwall customers this weekend as a result of @NWS Red Flag Fire Warnings in California, and we will continue to activate it whenever there advance awareness of a potential power outage or physical danger",
          "@BillGates Fear (and memes) get clicks",
          "@28delayslater Missed you too [?]",
          "@justpaulinelol @MattLBates @Erdayastronaut High entry force &amp; heat breached engine bay &amp; center engine TVC failed",
          "@C3LT_Games @SciGuySpace There will be no Block 6. Moving to Starship architecture.",
          "@d0nahue27 Death Note",
          "RT @InsideEVs: 2019 Tesla Model S Long Range: Don't Let Its Looks Fool You https://t.co/oVbltbXvhC via @insideevs.com",
          "@DMC_Ryan @Tesla No problem",
          "@cleantechnica Odd",
          "@moyo5150  tough",
          "heh heh https://t.co/UbHul2wgjM",
          "@CazzRS Stop posting my password on twitter!",
          "@PPathole @Teslarati Yes, rather embarrassing tbh",
          "@Tesla In close traffic, poisonous gas spewing from the car in front of you goes straight into your AC intake. Good thing gas/diesel carmakers didn't cheat on their emissions or we'd be in real trouble ",
          "@wonderofscience Damn ...",
          "Told you AI was dangerous!!  https://t.co/BBTEYJP0Qz",
          "@nytimes You have been warned https://t.co/11CHFHUdr1",
          "Some secrets are too dangerous to be free https://t.co/g547UdmiJ7",
          "@rafaelcr @OfWudan Would be odd to expect anything else",
          "@Teslarati Even Toyota, who made the Prius. That is sad.",
          "@TeslaTested So many reporters gave Chanos airtime when he called Tesla a worthless fraud. Now that he has been proven wrong, silence ...",
          "@DiscoverMag Please stop spamming bleak links into a paywall",
          "@cleantechnica The less code, the better! 1 point for adding a line of code, but 2 points for deleting a line. Bloatware is the devil.",
          "@cleantechnica Also, I hate deeply nested classes in C++. Had to be said.",
          "@ICannot_Enough @thirdrowtesla Explains the sad lack of progress in candy research!"
         ],
         "marker": {
          "color": "#E45756"
         },
         "mode": "markers",
         "name": "NegativeTweet",
         "showlegend": true,
         "type": "scatter",
         "x": [
          "2017-12-20",
          "2018-02-01",
          "2018-02-12",
          "2018-02-21",
          "2018-03-15",
          "2018-03-23",
          "2018-03-23",
          "2018-03-23",
          "2018-03-23",
          "2018-04-02",
          "2018-04-13",
          "2018-05-11",
          "2018-05-14",
          "2018-05-14",
          "2018-05-14",
          "2018-05-14",
          "2018-05-14",
          "2018-05-22",
          "2018-05-22",
          "2018-05-22",
          "2018-05-22",
          "2018-05-22",
          "2018-05-31",
          "2018-06-12",
          "2018-06-19",
          "2018-06-19",
          "2018-06-19",
          "2018-06-19",
          "2018-06-19",
          "2018-06-22",
          "2018-06-27",
          "2018-06-29",
          "2018-07-02",
          "2018-07-05",
          "2018-07-10",
          "2018-07-18",
          "2018-08-13",
          "2018-08-16",
          "2018-08-28",
          "2018-08-28",
          "2018-10-04",
          "2018-10-04",
          "2018-10-05",
          "2018-10-05",
          "2018-10-25",
          "2018-11-29",
          "2018-12-11",
          "2018-12-14",
          "2018-12-19",
          "2019-01-23",
          "2019-01-23",
          "2019-03-06",
          "2019-04-02",
          "2019-04-08",
          "2019-04-15",
          "2019-04-26",
          "2019-04-30",
          "2019-04-30",
          "2019-05-07",
          "2019-05-09",
          "2019-05-10",
          "2019-05-10",
          "2019-05-13",
          "2019-05-17",
          "2019-05-17",
          "2019-05-24",
          "2019-05-30",
          "2019-05-30",
          "2019-06-11",
          "2019-06-11",
          "2019-06-18",
          "2019-06-26",
          "2019-06-26",
          "2019-07-02",
          "2019-07-03",
          "2019-07-08",
          "2019-07-22",
          "2019-07-22",
          "2019-08-15",
          "2019-08-15",
          "2019-08-27",
          "2019-09-04",
          "2019-09-16",
          "2019-09-18",
          "2019-09-20",
          "2019-09-24",
          "2019-11-05",
          "2019-11-18",
          "2019-11-20",
          "2019-12-27",
          "2019-12-30",
          "2019-12-30",
          "2020-01-22"
         ],
         "y": [
          328.98,
          349.25,
          315.73,
          333.3,
          325.6,
          301.54,
          301.54,
          301.54,
          301.54,
          252.48,
          300.34,
          301.06,
          291.97,
          291.97,
          291.97,
          291.97,
          291.97,
          275.01,
          275.01,
          275.01,
          275.01,
          275.01,
          284.73,
          342.77,
          352.55,
          352.55,
          352.55,
          352.55,
          352.55,
          333.63,
          344.5,
          342.95,
          335.07,
          309.16,
          322.47,
          323.85,
          356.41,
          335.45,
          311.86,
          311.86,
          281.83,
          281.83,
          261.95,
          261.95,
          314.86,
          341.17,
          366.76,
          365.71,
          332.97,
          287.59,
          287.59,
          276.24,
          285.88,
          273.2,
          266.38,
          235.14,
          238.69,
          238.69,
          247.06,
          241.98,
          239.52,
          239.52,
          227.01,
          211.03,
          211.03,
          190.63,
          188.22,
          188.22,
          217.1,
          217.1,
          224.74,
          219.27,
          219.27,
          224.55,
          234.9,
          230.34,
          255.68,
          255.68,
          215.64,
          215.64,
          214.08,
          220.68,
          242.81,
          243.49,
          240.62,
          223.21,
          317.22,
          349.99,
          352.22,
          430.38,
          414.7,
          414.7,
          569.56
         ]
        }
       ],
       "layout": {
        "template": {
         "data": {
          "bar": [
           {
            "error_x": {
             "color": "#2a3f5f"
            },
            "error_y": {
             "color": "#2a3f5f"
            },
            "marker": {
             "line": {
              "color": "#E5ECF6",
              "width": 0.5
             }
            },
            "type": "bar"
           }
          ],
          "barpolar": [
           {
            "marker": {
             "line": {
              "color": "#E5ECF6",
              "width": 0.5
             }
            },
            "type": "barpolar"
           }
          ],
          "carpet": [
           {
            "aaxis": {
             "endlinecolor": "#2a3f5f",
             "gridcolor": "white",
             "linecolor": "white",
             "minorgridcolor": "white",
             "startlinecolor": "#2a3f5f"
            },
            "baxis": {
             "endlinecolor": "#2a3f5f",
             "gridcolor": "white",
             "linecolor": "white",
             "minorgridcolor": "white",
             "startlinecolor": "#2a3f5f"
            },
            "type": "carpet"
           }
          ],
          "choropleth": [
           {
            "colorbar": {
             "outlinewidth": 0,
             "ticks": ""
            },
            "type": "choropleth"
           }
          ],
          "contour": [
           {
            "colorbar": {
             "outlinewidth": 0,
             "ticks": ""
            },
            "colorscale": [
             [
              0,
              "#0d0887"
             ],
             [
              0.1111111111111111,
              "#46039f"
             ],
             [
              0.2222222222222222,
              "#7201a8"
             ],
             [
              0.3333333333333333,
              "#9c179e"
             ],
             [
              0.4444444444444444,
              "#bd3786"
             ],
             [
              0.5555555555555556,
              "#d8576b"
             ],
             [
              0.6666666666666666,
              "#ed7953"
             ],
             [
              0.7777777777777778,
              "#fb9f3a"
             ],
             [
              0.8888888888888888,
              "#fdca26"
             ],
             [
              1,
              "#f0f921"
             ]
            ],
            "type": "contour"
           }
          ],
          "contourcarpet": [
           {
            "colorbar": {
             "outlinewidth": 0,
             "ticks": ""
            },
            "type": "contourcarpet"
           }
          ],
          "heatmap": [
           {
            "colorbar": {
             "outlinewidth": 0,
             "ticks": ""
            },
            "colorscale": [
             [
              0,
              "#0d0887"
             ],
             [
              0.1111111111111111,
              "#46039f"
             ],
             [
              0.2222222222222222,
              "#7201a8"
             ],
             [
              0.3333333333333333,
              "#9c179e"
             ],
             [
              0.4444444444444444,
              "#bd3786"
             ],
             [
              0.5555555555555556,
              "#d8576b"
             ],
             [
              0.6666666666666666,
              "#ed7953"
             ],
             [
              0.7777777777777778,
              "#fb9f3a"
             ],
             [
              0.8888888888888888,
              "#fdca26"
             ],
             [
              1,
              "#f0f921"
             ]
            ],
            "type": "heatmap"
           }
          ],
          "heatmapgl": [
           {
            "colorbar": {
             "outlinewidth": 0,
             "ticks": ""
            },
            "colorscale": [
             [
              0,
              "#0d0887"
             ],
             [
              0.1111111111111111,
              "#46039f"
             ],
             [
              0.2222222222222222,
              "#7201a8"
             ],
             [
              0.3333333333333333,
              "#9c179e"
             ],
             [
              0.4444444444444444,
              "#bd3786"
             ],
             [
              0.5555555555555556,
              "#d8576b"
             ],
             [
              0.6666666666666666,
              "#ed7953"
             ],
             [
              0.7777777777777778,
              "#fb9f3a"
             ],
             [
              0.8888888888888888,
              "#fdca26"
             ],
             [
              1,
              "#f0f921"
             ]
            ],
            "type": "heatmapgl"
           }
          ],
          "histogram": [
           {
            "marker": {
             "colorbar": {
              "outlinewidth": 0,
              "ticks": ""
             }
            },
            "type": "histogram"
           }
          ],
          "histogram2d": [
           {
            "colorbar": {
             "outlinewidth": 0,
             "ticks": ""
            },
            "colorscale": [
             [
              0,
              "#0d0887"
             ],
             [
              0.1111111111111111,
              "#46039f"
             ],
             [
              0.2222222222222222,
              "#7201a8"
             ],
             [
              0.3333333333333333,
              "#9c179e"
             ],
             [
              0.4444444444444444,
              "#bd3786"
             ],
             [
              0.5555555555555556,
              "#d8576b"
             ],
             [
              0.6666666666666666,
              "#ed7953"
             ],
             [
              0.7777777777777778,
              "#fb9f3a"
             ],
             [
              0.8888888888888888,
              "#fdca26"
             ],
             [
              1,
              "#f0f921"
             ]
            ],
            "type": "histogram2d"
           }
          ],
          "histogram2dcontour": [
           {
            "colorbar": {
             "outlinewidth": 0,
             "ticks": ""
            },
            "colorscale": [
             [
              0,
              "#0d0887"
             ],
             [
              0.1111111111111111,
              "#46039f"
             ],
             [
              0.2222222222222222,
              "#7201a8"
             ],
             [
              0.3333333333333333,
              "#9c179e"
             ],
             [
              0.4444444444444444,
              "#bd3786"
             ],
             [
              0.5555555555555556,
              "#d8576b"
             ],
             [
              0.6666666666666666,
              "#ed7953"
             ],
             [
              0.7777777777777778,
              "#fb9f3a"
             ],
             [
              0.8888888888888888,
              "#fdca26"
             ],
             [
              1,
              "#f0f921"
             ]
            ],
            "type": "histogram2dcontour"
           }
          ],
          "mesh3d": [
           {
            "colorbar": {
             "outlinewidth": 0,
             "ticks": ""
            },
            "type": "mesh3d"
           }
          ],
          "parcoords": [
           {
            "line": {
             "colorbar": {
              "outlinewidth": 0,
              "ticks": ""
             }
            },
            "type": "parcoords"
           }
          ],
          "pie": [
           {
            "automargin": true,
            "type": "pie"
           }
          ],
          "scatter": [
           {
            "marker": {
             "colorbar": {
              "outlinewidth": 0,
              "ticks": ""
             }
            },
            "type": "scatter"
           }
          ],
          "scatter3d": [
           {
            "line": {
             "colorbar": {
              "outlinewidth": 0,
              "ticks": ""
             }
            },
            "marker": {
             "colorbar": {
              "outlinewidth": 0,
              "ticks": ""
             }
            },
            "type": "scatter3d"
           }
          ],
          "scattercarpet": [
           {
            "marker": {
             "colorbar": {
              "outlinewidth": 0,
              "ticks": ""
             }
            },
            "type": "scattercarpet"
           }
          ],
          "scattergeo": [
           {
            "marker": {
             "colorbar": {
              "outlinewidth": 0,
              "ticks": ""
             }
            },
            "type": "scattergeo"
           }
          ],
          "scattergl": [
           {
            "marker": {
             "colorbar": {
              "outlinewidth": 0,
              "ticks": ""
             }
            },
            "type": "scattergl"
           }
          ],
          "scattermapbox": [
           {
            "marker": {
             "colorbar": {
              "outlinewidth": 0,
              "ticks": ""
             }
            },
            "type": "scattermapbox"
           }
          ],
          "scatterpolar": [
           {
            "marker": {
             "colorbar": {
              "outlinewidth": 0,
              "ticks": ""
             }
            },
            "type": "scatterpolar"
           }
          ],
          "scatterpolargl": [
           {
            "marker": {
             "colorbar": {
              "outlinewidth": 0,
              "ticks": ""
             }
            },
            "type": "scatterpolargl"
           }
          ],
          "scatterternary": [
           {
            "marker": {
             "colorbar": {
              "outlinewidth": 0,
              "ticks": ""
             }
            },
            "type": "scatterternary"
           }
          ],
          "surface": [
           {
            "colorbar": {
             "outlinewidth": 0,
             "ticks": ""
            },
            "colorscale": [
             [
              0,
              "#0d0887"
             ],
             [
              0.1111111111111111,
              "#46039f"
             ],
             [
              0.2222222222222222,
              "#7201a8"
             ],
             [
              0.3333333333333333,
              "#9c179e"
             ],
             [
              0.4444444444444444,
              "#bd3786"
             ],
             [
              0.5555555555555556,
              "#d8576b"
             ],
             [
              0.6666666666666666,
              "#ed7953"
             ],
             [
              0.7777777777777778,
              "#fb9f3a"
             ],
             [
              0.8888888888888888,
              "#fdca26"
             ],
             [
              1,
              "#f0f921"
             ]
            ],
            "type": "surface"
           }
          ],
          "table": [
           {
            "cells": {
             "fill": {
              "color": "#EBF0F8"
             },
             "line": {
              "color": "white"
             }
            },
            "header": {
             "fill": {
              "color": "#C8D4E3"
             },
             "line": {
              "color": "white"
             }
            },
            "type": "table"
           }
          ]
         },
         "layout": {
          "annotationdefaults": {
           "arrowcolor": "#2a3f5f",
           "arrowhead": 0,
           "arrowwidth": 1
          },
          "coloraxis": {
           "colorbar": {
            "outlinewidth": 0,
            "ticks": ""
           }
          },
          "colorscale": {
           "diverging": [
            [
             0,
             "#8e0152"
            ],
            [
             0.1,
             "#c51b7d"
            ],
            [
             0.2,
             "#de77ae"
            ],
            [
             0.3,
             "#f1b6da"
            ],
            [
             0.4,
             "#fde0ef"
            ],
            [
             0.5,
             "#f7f7f7"
            ],
            [
             0.6,
             "#e6f5d0"
            ],
            [
             0.7,
             "#b8e186"
            ],
            [
             0.8,
             "#7fbc41"
            ],
            [
             0.9,
             "#4d9221"
            ],
            [
             1,
             "#276419"
            ]
           ],
           "sequential": [
            [
             0,
             "#0d0887"
            ],
            [
             0.1111111111111111,
             "#46039f"
            ],
            [
             0.2222222222222222,
             "#7201a8"
            ],
            [
             0.3333333333333333,
             "#9c179e"
            ],
            [
             0.4444444444444444,
             "#bd3786"
            ],
            [
             0.5555555555555556,
             "#d8576b"
            ],
            [
             0.6666666666666666,
             "#ed7953"
            ],
            [
             0.7777777777777778,
             "#fb9f3a"
            ],
            [
             0.8888888888888888,
             "#fdca26"
            ],
            [
             1,
             "#f0f921"
            ]
           ],
           "sequentialminus": [
            [
             0,
             "#0d0887"
            ],
            [
             0.1111111111111111,
             "#46039f"
            ],
            [
             0.2222222222222222,
             "#7201a8"
            ],
            [
             0.3333333333333333,
             "#9c179e"
            ],
            [
             0.4444444444444444,
             "#bd3786"
            ],
            [
             0.5555555555555556,
             "#d8576b"
            ],
            [
             0.6666666666666666,
             "#ed7953"
            ],
            [
             0.7777777777777778,
             "#fb9f3a"
            ],
            [
             0.8888888888888888,
             "#fdca26"
            ],
            [
             1,
             "#f0f921"
            ]
           ]
          },
          "colorway": [
           "#636efa",
           "#EF553B",
           "#00cc96",
           "#ab63fa",
           "#FFA15A",
           "#19d3f3",
           "#FF6692",
           "#B6E880",
           "#FF97FF",
           "#FECB52"
          ],
          "font": {
           "color": "#2a3f5f"
          },
          "geo": {
           "bgcolor": "white",
           "lakecolor": "white",
           "landcolor": "#E5ECF6",
           "showlakes": true,
           "showland": true,
           "subunitcolor": "white"
          },
          "hoverlabel": {
           "align": "left"
          },
          "hovermode": "closest",
          "mapbox": {
           "style": "light"
          },
          "paper_bgcolor": "white",
          "plot_bgcolor": "#E5ECF6",
          "polar": {
           "angularaxis": {
            "gridcolor": "white",
            "linecolor": "white",
            "ticks": ""
           },
           "bgcolor": "#E5ECF6",
           "radialaxis": {
            "gridcolor": "white",
            "linecolor": "white",
            "ticks": ""
           }
          },
          "scene": {
           "xaxis": {
            "backgroundcolor": "#E5ECF6",
            "gridcolor": "white",
            "gridwidth": 2,
            "linecolor": "white",
            "showbackground": true,
            "ticks": "",
            "zerolinecolor": "white"
           },
           "yaxis": {
            "backgroundcolor": "#E5ECF6",
            "gridcolor": "white",
            "gridwidth": 2,
            "linecolor": "white",
            "showbackground": true,
            "ticks": "",
            "zerolinecolor": "white"
           },
           "zaxis": {
            "backgroundcolor": "#E5ECF6",
            "gridcolor": "white",
            "gridwidth": 2,
            "linecolor": "white",
            "showbackground": true,
            "ticks": "",
            "zerolinecolor": "white"
           }
          },
          "shapedefaults": {
           "line": {
            "color": "#2a3f5f"
           }
          },
          "ternary": {
           "aaxis": {
            "gridcolor": "white",
            "linecolor": "white",
            "ticks": ""
           },
           "baxis": {
            "gridcolor": "white",
            "linecolor": "white",
            "ticks": ""
           },
           "bgcolor": "#E5ECF6",
           "caxis": {
            "gridcolor": "white",
            "linecolor": "white",
            "ticks": ""
           }
          },
          "title": {
           "x": 0.05
          },
          "xaxis": {
           "automargin": true,
           "gridcolor": "white",
           "linecolor": "white",
           "ticks": "",
           "title": {
            "standoff": 15
           },
           "zerolinecolor": "white",
           "zerolinewidth": 2
          },
          "yaxis": {
           "automargin": true,
           "gridcolor": "white",
           "linecolor": "white",
           "ticks": "",
           "title": {
            "standoff": 15
           },
           "zerolinecolor": "white",
           "zerolinewidth": 2
          }
         }
        },
        "title": {
         "text": "Tesla Stock Prices v/s Elon Musk Tweets Sentiments"
        }
       }
      },
      "text/html": [
       "<div>\n",
       "        \n",
       "        \n",
       "            <div id=\"8e22c093-691e-48f3-ae48-3747af456962\" class=\"plotly-graph-div\" style=\"height:525px; width:100%;\"></div>\n",
       "            <script type=\"text/javascript\">\n",
       "                require([\"plotly\"], function(Plotly) {\n",
       "                    window.PLOTLYENV=window.PLOTLYENV || {};\n",
       "                    \n",
       "                if (document.getElementById(\"8e22c093-691e-48f3-ae48-3747af456962\")) {\n",
       "                    Plotly.newPlot(\n",
       "                        '8e22c093-691e-48f3-ae48-3747af456962',\n",
       "                        [{\"line\": {\"color\": \"rgb(102,102,102)\"}, \"mode\": \"lines\", \"name\": \"Tesla Stock Price\", \"type\": \"scatter\", \"x\": [\"2017-12-04\", \"2017-12-05\", \"2017-12-06\", \"2017-12-07\", \"2017-12-08\", \"2017-12-11\", \"2017-12-12\", \"2017-12-13\", \"2017-12-14\", \"2017-12-15\", \"2017-12-18\", \"2017-12-19\", \"2017-12-20\", \"2017-12-21\", \"2017-12-22\", \"2017-12-26\", \"2017-12-27\", \"2017-12-28\", \"2017-12-29\", \"2018-01-02\", \"2018-01-03\", \"2018-01-04\", \"2018-01-05\", \"2018-01-08\", \"2018-01-09\", \"2018-01-10\", \"2018-01-11\", \"2018-01-12\", \"2018-01-16\", \"2018-01-17\", \"2018-01-18\", \"2018-01-19\", \"2018-01-22\", \"2018-01-23\", \"2018-01-24\", \"2018-01-25\", \"2018-01-26\", \"2018-01-29\", \"2018-01-30\", \"2018-01-31\", \"2018-02-01\", \"2018-02-02\", \"2018-02-05\", \"2018-02-06\", \"2018-02-07\", \"2018-02-08\", \"2018-02-09\", \"2018-02-12\", \"2018-02-13\", \"2018-02-14\", \"2018-02-15\", \"2018-02-16\", \"2018-02-20\", \"2018-02-21\", \"2018-02-22\", \"2018-02-23\", \"2018-02-26\", \"2018-02-27\", \"2018-02-28\", \"2018-03-01\", \"2018-03-02\", \"2018-03-05\", \"2018-03-06\", \"2018-03-07\", \"2018-03-08\", \"2018-03-09\", \"2018-03-12\", \"2018-03-13\", \"2018-03-14\", \"2018-03-15\", \"2018-03-16\", \"2018-03-19\", \"2018-03-20\", \"2018-03-21\", \"2018-03-22\", \"2018-03-23\", \"2018-03-26\", \"2018-03-27\", \"2018-03-28\", \"2018-03-29\", \"2018-04-02\", \"2018-04-03\", \"2018-04-04\", \"2018-04-05\", \"2018-04-06\", \"2018-04-09\", \"2018-04-10\", \"2018-04-11\", \"2018-04-12\", \"2018-04-13\", \"2018-04-16\", \"2018-04-17\", \"2018-04-18\", \"2018-04-19\", \"2018-04-20\", \"2018-04-23\", \"2018-04-24\", \"2018-04-25\", \"2018-04-26\", \"2018-04-27\", \"2018-04-30\", \"2018-05-01\", \"2018-05-02\", \"2018-05-03\", \"2018-05-04\", \"2018-05-07\", \"2018-05-08\", \"2018-05-09\", \"2018-05-10\", \"2018-05-11\", \"2018-05-14\", \"2018-05-15\", \"2018-05-16\", \"2018-05-17\", \"2018-05-18\", \"2018-05-21\", \"2018-05-22\", \"2018-05-23\", \"2018-05-24\", \"2018-05-25\", \"2018-05-29\", \"2018-05-30\", \"2018-05-31\", \"2018-06-01\", \"2018-06-04\", \"2018-06-05\", \"2018-06-06\", \"2018-06-07\", \"2018-06-08\", \"2018-06-11\", \"2018-06-12\", \"2018-06-13\", \"2018-06-14\", \"2018-06-15\", \"2018-06-18\", \"2018-06-19\", \"2018-06-20\", \"2018-06-21\", \"2018-06-22\", \"2018-06-25\", \"2018-06-26\", \"2018-06-27\", \"2018-06-28\", \"2018-06-29\", \"2018-07-02\", \"2018-07-03\", \"2018-07-05\", \"2018-07-06\", \"2018-07-09\", \"2018-07-10\", \"2018-07-11\", \"2018-07-12\", \"2018-07-13\", \"2018-07-16\", \"2018-07-17\", \"2018-07-18\", \"2018-07-19\", \"2018-07-20\", \"2018-07-23\", \"2018-07-24\", \"2018-07-25\", \"2018-07-26\", \"2018-07-27\", \"2018-07-30\", \"2018-07-31\", \"2018-08-01\", \"2018-08-02\", \"2018-08-03\", \"2018-08-06\", \"2018-08-07\", \"2018-08-08\", \"2018-08-09\", \"2018-08-10\", \"2018-08-13\", \"2018-08-14\", \"2018-08-15\", \"2018-08-16\", \"2018-08-17\", \"2018-08-20\", \"2018-08-21\", \"2018-08-22\", \"2018-08-23\", \"2018-08-24\", \"2018-08-27\", \"2018-08-28\", \"2018-08-29\", \"2018-08-30\", \"2018-08-31\", \"2018-09-04\", \"2018-09-05\", \"2018-09-06\", \"2018-09-07\", \"2018-09-10\", \"2018-09-11\", \"2018-09-12\", \"2018-09-13\", \"2018-09-14\", \"2018-09-17\", \"2018-09-18\", \"2018-09-19\", \"2018-09-20\", \"2018-09-21\", \"2018-09-24\", \"2018-09-25\", \"2018-09-26\", \"2018-09-27\", \"2018-09-28\", \"2018-10-01\", \"2018-10-02\", \"2018-10-03\", \"2018-10-04\", \"2018-10-05\", \"2018-10-08\", \"2018-10-09\", \"2018-10-10\", \"2018-10-11\", \"2018-10-12\", \"2018-10-15\", \"2018-10-16\", \"2018-10-17\", \"2018-10-18\", \"2018-10-19\", \"2018-10-22\", \"2018-10-23\", \"2018-10-24\", \"2018-10-25\", \"2018-10-26\", \"2018-10-29\", \"2018-10-30\", \"2018-10-31\", \"2018-11-01\", \"2018-11-02\", \"2018-11-05\", \"2018-11-06\", \"2018-11-07\", \"2018-11-08\", \"2018-11-09\", \"2018-11-12\", \"2018-11-13\", \"2018-11-14\", \"2018-11-15\", \"2018-11-16\", \"2018-11-19\", \"2018-11-20\", \"2018-11-21\", \"2018-11-23\", \"2018-11-26\", \"2018-11-27\", \"2018-11-28\", \"2018-11-29\", \"2018-11-30\", \"2018-12-03\", \"2018-12-04\", \"2018-12-06\", \"2018-12-07\", \"2018-12-10\", \"2018-12-11\", \"2018-12-12\", \"2018-12-13\", \"2018-12-14\", \"2018-12-17\", \"2018-12-18\", \"2018-12-19\", \"2018-12-20\", \"2018-12-21\", \"2018-12-24\", \"2018-12-26\", \"2018-12-27\", \"2018-12-28\", \"2018-12-31\", \"2019-01-02\", \"2019-01-03\", \"2019-01-04\", \"2019-01-07\", \"2019-01-08\", \"2019-01-09\", \"2019-01-10\", \"2019-01-11\", \"2019-01-14\", \"2019-01-15\", \"2019-01-16\", \"2019-01-17\", \"2019-01-18\", \"2019-01-22\", \"2019-01-23\", \"2019-01-24\", \"2019-01-25\", \"2019-01-28\", \"2019-01-29\", \"2019-01-30\", \"2019-01-31\", \"2019-02-01\", \"2019-02-04\", \"2019-02-05\", \"2019-02-06\", \"2019-02-07\", \"2019-02-08\", \"2019-02-11\", \"2019-02-12\", \"2019-02-13\", \"2019-02-14\", \"2019-02-15\", \"2019-02-19\", \"2019-02-20\", \"2019-02-21\", \"2019-02-22\", \"2019-02-25\", \"2019-02-26\", \"2019-02-27\", \"2019-02-28\", \"2019-03-01\", \"2019-03-04\", \"2019-03-05\", \"2019-03-06\", \"2019-03-07\", \"2019-03-08\", \"2019-03-11\", \"2019-03-12\", \"2019-03-13\", \"2019-03-14\", \"2019-03-15\", \"2019-03-18\", \"2019-03-19\", \"2019-03-20\", \"2019-03-21\", \"2019-03-22\", \"2019-03-25\", \"2019-03-26\", \"2019-03-27\", \"2019-03-28\", \"2019-03-29\", \"2019-04-01\", \"2019-04-02\", \"2019-04-03\", \"2019-04-04\", \"2019-04-05\", \"2019-04-08\", \"2019-04-09\", \"2019-04-10\", \"2019-04-11\", \"2019-04-12\", \"2019-04-15\", \"2019-04-16\", \"2019-04-17\", \"2019-04-18\", \"2019-04-22\", \"2019-04-23\", \"2019-04-24\", \"2019-04-25\", \"2019-04-26\", \"2019-04-29\", \"2019-04-30\", \"2019-05-01\", \"2019-05-02\", \"2019-05-03\", \"2019-05-06\", \"2019-05-07\", \"2019-05-08\", \"2019-05-09\", \"2019-05-10\", \"2019-05-13\", \"2019-05-14\", \"2019-05-15\", \"2019-05-16\", \"2019-05-17\", \"2019-05-20\", \"2019-05-21\", \"2019-05-22\", \"2019-05-23\", \"2019-05-24\", \"2019-05-28\", \"2019-05-29\", \"2019-05-30\", \"2019-05-31\", \"2019-06-03\", \"2019-06-04\", \"2019-06-05\", \"2019-06-06\", \"2019-06-07\", \"2019-06-10\", \"2019-06-11\", \"2019-06-12\", \"2019-06-13\", \"2019-06-14\", \"2019-06-17\", \"2019-06-18\", \"2019-06-19\", \"2019-06-20\", \"2019-06-21\", \"2019-06-24\", \"2019-06-25\", \"2019-06-26\", \"2019-06-27\", \"2019-06-28\", \"2019-07-01\", \"2019-07-02\", \"2019-07-03\", \"2019-07-05\", \"2019-07-08\", \"2019-07-09\", \"2019-07-10\", \"2019-07-11\", \"2019-07-12\", \"2019-07-15\", \"2019-07-16\", \"2019-07-17\", \"2019-07-18\", \"2019-07-19\", \"2019-07-22\", \"2019-07-23\", \"2019-07-24\", \"2019-07-25\", \"2019-07-26\", \"2019-07-29\", \"2019-07-30\", \"2019-07-31\", \"2019-08-01\", \"2019-08-02\", \"2019-08-05\", \"2019-08-06\", \"2019-08-07\", \"2019-08-08\", \"2019-08-09\", \"2019-08-12\", \"2019-08-13\", \"2019-08-14\", \"2019-08-15\", \"2019-08-16\", \"2019-08-19\", \"2019-08-20\", \"2019-08-21\", \"2019-08-22\", \"2019-08-23\", \"2019-08-26\", \"2019-08-27\", \"2019-08-28\", \"2019-08-29\", \"2019-08-30\", \"2019-09-03\", \"2019-09-04\", \"2019-09-05\", \"2019-09-06\", \"2019-09-09\", \"2019-09-10\", \"2019-09-11\", \"2019-09-12\", \"2019-09-13\", \"2019-09-16\", \"2019-09-17\", \"2019-09-18\", \"2019-09-19\", \"2019-09-20\", \"2019-09-23\", \"2019-09-24\", \"2019-09-25\", \"2019-09-26\", \"2019-09-27\", \"2019-09-30\", \"2019-10-01\", \"2019-10-02\", \"2019-10-03\", \"2019-10-04\", \"2019-10-07\", \"2019-10-08\", \"2019-10-09\", \"2019-10-10\", \"2019-10-11\", \"2019-10-14\", \"2019-10-15\", \"2019-10-16\", \"2019-10-17\", \"2019-10-18\", \"2019-10-21\", \"2019-10-22\", \"2019-10-23\", \"2019-10-24\", \"2019-10-25\", \"2019-10-28\", \"2019-10-29\", \"2019-10-30\", \"2019-10-31\", \"2019-11-01\", \"2019-11-04\", \"2019-11-05\", \"2019-11-06\", \"2019-11-07\", \"2019-11-08\", \"2019-11-11\", \"2019-11-12\", \"2019-11-13\", \"2019-11-14\", \"2019-11-15\", \"2019-11-18\", \"2019-11-19\", \"2019-11-20\", \"2019-11-21\", \"2019-11-22\", \"2019-11-25\", \"2019-11-26\", \"2019-11-27\", \"2019-11-29\", \"2019-12-02\", \"2019-12-03\", \"2019-12-04\", \"2019-12-05\", \"2019-12-06\", \"2019-12-09\", \"2019-12-10\", \"2019-12-11\", \"2019-12-12\", \"2019-12-13\", \"2019-12-16\", \"2019-12-17\", \"2019-12-18\", \"2019-12-19\", \"2019-12-20\", \"2019-12-23\", \"2019-12-24\", \"2019-12-26\", \"2019-12-27\", \"2019-12-30\", \"2019-12-31\", \"2020-01-02\", \"2020-01-03\", \"2020-01-06\", \"2020-01-07\", \"2020-01-08\", \"2020-01-09\", \"2020-01-10\", \"2020-01-13\", \"2020-01-14\", \"2020-01-15\", \"2020-01-16\", \"2020-01-17\", \"2020-01-21\", \"2020-01-22\", \"2020-01-23\", \"2020-01-24\", \"2020-01-27\", \"2020-01-28\", \"2020-01-29\", \"2020-01-30\", \"2020-01-31\", \"2020-02-03\"], \"y\": [305.2, 303.7, 313.26, 311.24, 315.13, 328.91, 341.03, 339.03, 337.89, 343.45, 338.87, 331.1, 328.98, 331.66, 325.2, 317.29, 311.64, 315.36, 311.35, 320.53, 317.25, 314.62, 316.58, 336.41, 333.69, 334.8, 337.95, 336.22, 340.06, 347.16, 344.57, 350.02, 351.56, 352.79, 345.89, 337.64, 342.85, 349.53, 345.82, 354.31, 349.25, 343.75, 333.13, 333.97, 345.0, 315.23, 310.42, 315.73, 323.66, 322.31, 334.07, 335.49, 334.77, 333.3, 346.17, 352.05, 357.42, 350.99, 343.06, 330.93, 335.12, 333.35, 328.2, 332.3, 329.1, 327.17, 345.51, 341.84, 326.63, 325.6, 321.35, 313.56, 310.55, 316.53, 309.1, 301.54, 304.18, 279.18, 257.78, 266.13, 252.48, 267.53, 286.94, 305.72, 299.3, 289.66, 304.7, 300.93, 294.08, 300.34, 291.21, 287.69, 293.35, 300.08, 290.24, 283.37, 283.46, 280.69, 285.48, 294.08, 293.9, 299.92, 301.15, 284.45, 294.09, 302.77, 301.97, 306.85, 305.02, 301.06, 291.97, 284.18, 286.48, 284.54, 276.82, 284.49, 275.01, 279.07, 277.85, 278.85, 283.76, 291.72, 284.73, 291.82, 296.74, 291.13, 319.5, 316.09, 317.66, 332.1, 342.77, 344.78, 357.72, 358.17, 370.83, 352.55, 362.22, 347.51, 333.63, 333.01, 342.0, 344.5, 349.93, 342.95, 335.07, 310.86, 309.16, 308.9, 318.51, 322.47, 318.96, 316.71, 318.87, 310.1, 322.69, 323.85, 320.23, 313.58, 303.2, 297.43, 308.74, 306.65, 297.18, 290.17, 298.14, 300.84, 349.54, 348.17, 341.99, 379.57, 370.34, 352.45, 355.49, 356.41, 347.64, 338.69, 335.45, 305.5, 308.44, 321.9, 321.64, 320.1, 322.82, 319.27, 311.86, 305.01, 303.15, 301.66, 288.95, 280.74, 280.95, 263.24, 285.5, 279.44, 290.54, 289.46, 295.2, 294.84, 284.96, 299.02, 298.33, 299.1, 299.68, 300.99, 309.58, 307.52, 264.77, 310.7, 301.02, 294.8, 281.83, 261.95, 250.56, 262.8, 256.88, 252.23, 258.78, 259.59, 276.59, 271.78, 263.91, 260.0, 260.95, 294.14, 288.5, 314.86, 330.9, 334.85, 329.9, 337.32, 344.28, 346.41, 341.4, 341.06, 348.16, 351.4, 350.51, 331.28, 338.73, 344.0, 348.44, 354.31, 353.47, 347.49, 338.19, 325.83, 346.0, 343.92, 347.87, 341.17, 350.48, 358.49, 359.7, 363.06, 357.97, 365.15, 366.76, 366.6, 376.79, 365.71, 348.42, 337.03, 332.97, 315.38, 319.77, 295.39, 326.09, 316.13, 333.87, 332.8, 310.12, 300.36, 317.69, 334.96, 335.35, 338.53, 344.97, 347.26, 334.4, 344.43, 346.05, 347.31, 302.26, 298.92, 287.59, 291.51, 297.04, 296.38, 297.46, 308.77, 307.02, 312.21, 312.89, 321.35, 317.22, 307.51, 305.8, 312.84, 311.81, 308.17, 303.77, 307.88, 305.64, 302.56, 291.23, 294.71, 298.77, 297.86, 314.74, 319.88, 294.79, 285.36, 276.54, 276.24, 276.59, 284.14, 290.92, 283.36, 288.96, 289.96, 275.43, 269.49, 267.47, 273.6, 274.02, 264.53, 260.42, 267.77, 274.83, 278.62, 279.86, 289.18, 285.88, 291.81, 267.78, 274.96, 273.2, 272.31, 276.06, 268.42, 267.7, 266.38, 273.36, 271.23, 273.26, 262.75, 263.9, 258.66, 247.63, 235.14, 241.47, 238.69, 234.01, 244.1, 255.03, 255.34, 247.06, 244.84, 241.98, 239.52, 227.01, 232.31, 231.95, 228.33, 211.03, 205.36, 205.08, 192.73, 195.49, 190.63, 188.7, 189.86, 188.22, 185.16, 178.97, 193.6, 196.59, 205.95, 204.5, 212.88, 217.1, 209.26, 213.91, 214.92, 225.03, 224.74, 226.43, 219.62, 221.86, 223.64, 219.76, 219.27, 222.84, 223.46, 227.17, 224.55, 234.9, 233.1, 230.34, 230.06, 238.92, 238.6, 245.08, 253.5, 252.38, 254.86, 253.54, 258.18, 255.68, 260.17, 264.88, 228.82, 228.04, 235.77, 242.26, 241.61, 233.85, 234.34, 228.32, 230.75, 233.42, 238.3, 235.01, 229.01, 235.0, 219.62, 215.64, 219.94, 226.83, 225.86, 220.83, 222.15, 211.4, 215.0, 214.08, 215.59, 221.71, 225.61, 225.01, 220.68, 229.58, 227.45, 231.79, 235.54, 247.1, 245.87, 245.2, 242.81, 244.79, 243.49, 246.6, 240.62, 241.23, 223.21, 228.7, 242.56, 242.13, 240.87, 244.69, 243.13, 233.03, 231.43, 237.72, 240.05, 244.53, 244.74, 247.89, 256.96, 257.89, 259.75, 261.97, 256.95, 253.5, 255.58, 254.68, 299.68, 328.13, 327.71, 316.22, 315.01, 314.92, 313.31, 317.47, 317.22, 326.58, 335.54, 337.14, 345.09, 349.93, 346.11, 349.35, 352.17, 349.99, 359.52, 352.22, 354.83, 333.04, 336.34, 328.92, 331.29, 329.94, 334.87, 336.2, 333.03, 330.37, 335.89, 339.53, 348.84, 352.7, 359.68, 358.39, 381.5, 378.99, 393.15, 404.04, 405.59, 419.22, 425.25, 430.94, 430.38, 414.7, 418.33, 430.26, 443.01, 451.54, 469.06, 492.14, 481.34, 478.15, 524.86, 537.92, 518.5, 513.49, 510.5, 547.2, 569.56, 572.2, 564.82, 558.02, 566.9, 580.99, 640.81, 650.57, 780.0]}, {\"hoverinfo\": \"text\", \"hovertext\": [\"I know it's a little off-brand, but kids love it\", \"@Justin_Levy04 Safest flamethrower ever\", \"RT @SpaceX: Dragon confirmed in good orbit.\", \"@nickwadlow Sorry about that. Thanks for letting me know. Will get it fixed.\", \"Glad to see that Tesla owners are having a good experience. Working to improve further. Some cool software updates coming soon. https://t.co/16NabnHeuD\", \"@paulkrugman For the record, I actually love trains, most subways and London buses.\", \"@ben_made_new @paulkrugman I would only call someone an idiot if people were mistakenly under the impression that the person was smart\", \"I love Twitter\", \"But wait, there's more: the flamethrower is sentient, its safe word is \\\"cryptocurrency\\\" and it comes with a free blockchain\", \"@DuvalMagic Sure\", \"@HarisCelic For sure, and it keeps you warm at the same time\", \"RT @SpaceX: Successful deployment of GovSat-1 to a Geostationary Transfer Orbit confirmed. https://t.co/0D3h7hR7YF\", \"About 2.5 hours to T-0 for Falcon Heavy. Watch sim for highlight reel of what we hope happens. Car actually takes 6 months to cover 200M+ miles to Mars https://t.co/tC3B26r651\", \"RT @TheFavoritist: Ohh my god @ChrisG_NSF &amp; @NASASpaceflight! Remote number one from Falcon Heavy! https://t.co/aj4ly8Cr5r\", \"@VP @SpaceX Thank you on behalf of SpaceX\", \"Third burn successful. Exceeded Mars orbit and kept going to the Asteroid Belt. https://t.co/bKhRN73WHF\", \"@DeadlyBananas @MichaelAVaughn Not sure. I let @jack know, but it's still going. I literally own zero cryptocurrency, apart from .25 BTC that a friend sent me many years ago.\", \"@journoanirban @Uber @dkhos @HyperloopOne @hyperlooptt @vccircle @vccstartups If you love drones above your house, you'll really love vast numbers of \\\"cars\\\" flying over your head that are 1000 times bigger and noisier and blow away anything that isn't nailed down when they land\", \"RT @SpaceX: Successful deployment of PAZ satellite to low-Earth orbit confirmed. https://t.co/xOEuyaFrcZ\", \"I just realized there is a jazz hands emoji \", \"@jeremyburge Literally, if you type \\\"jazz hands\\\", iOS shows this emoji \", \"@realDonaldTrump To be clear, I think a fair outcome for all is quite likely. China has already shown a willingness to open their markets and I believe they will do the right thing.\", \"RT @TechCrunch: The @Tesla Model 3 is a love letter to the road (by @etherington) https://t.co/Nd9KXftYbJ https://t.co/qmfymUiaZa\", \"@kronayne Heavy sigh\", \"Better video coming soon, but it would look a bit like this: https://t.co/C0iJPi8b4U\", \"@prof_wsoff Great idea!\", \"RT @Tesla: Model 3 is Popular Mechanics' Car of the Year https://t.co/k0a9c4X6Wq\", \"My secret to looking good is staying in shape and knowing my angles https://t.co/20WIZnGiyy\", \"@arstechnica @SciGuySpace Russia has great rocket technology &amp; talent. Much respect. Would encourage focus on reusability. Single-use rockets cannot be competitive any more than single-use aircraft.\", \"@vincechen Doing our best\", \"@Gfilche @Tesla Ok\", \"@MKBHD @HyperChangeTV To be clear, I'm a big fan of MKBHD, but this is an important clarification\", \"Please ignore this thread unless you're interested in a tedious discussion about Tesla stock\", \"@ThePhoenixFlare @MKBHD @HyperChangeTV Yeah, news is actually super good. Model S &amp; X are producing major positive cash flow &amp; Model 3 is about to do same.\", \"@Grimezsz Love Powerglide too  https://t.co/l07YbZLdIG\", \"@WeDragonSlayers Flesh without Blood &amp; Kill V Maim on Art Angels album https://t.co/MycGWvbYGk\", \"@NannySoleil @CatherineUllo We sketched concept together &amp; worked w a trusted team to make it\", \"@ablack82 Definitely not a logo of any kind\", \"@marshall5912 @buckycovington @MacTechGenius Yeah, \\\"Reveal\\\" was carefully constructed propaganda with a name that wd make Orwell proud. Workplace injury rate of our factory when it was UAW w Toyota/GM was twice as high as today's non-union.\", \"@MacTechGenius @marshall5912 @buckycovington Exactly ! That will be really fun &amp; shed light on what's happening. Hoping to start that later this year after we become profitable. Difficult to justify before then.\", \"@georgechang @Tesla For sure before snowfall this year\", \"@MrsYomaddy @dmatkins137 @ShayneRarma @NASA Gwynne's awesome. Been SpaceX prez for 10 years. Super love working with her.\", \"@AustinOnSocial Great idea!\", \"@bevvscott Thanks. Not super fun right now \", \"@mashable Was sad to see G getting tons of undeserved flak because of me, so I'm glad there's some good too [?]. Her music is incredible.\", \"@JohnBirmingham @mashable I am not cool\", \"@girllovesbread @ZainRaz4 @mashable This will sound super obvious, but Genesis &amp; Oblivion\", \"@AntVenom Maybe some good people from those orgs who would join\", \"@DetroitVictoria Enough of the public does care about the truth. I have faith in the people.\", \"Even if some of the public doesn't care about the credibility score, the journalists, editors &amp; publications will. It is how they define themselves.\", \"@JessicaHuseman @reveal No, they're just some rich kids in Berkeley who took their political science prof too seriously\", \"@scottwww @JessicaHuseman It is strange that big auto companies literally have thousands more factory injuries than Tesla &amp; millions more auto deaths, but somehow get less coverage. We are not perfect, but we're doing our best to make clean energy real &amp; be a good company.\", \"@PolitiFact Yeah, I think you do great work\", \"@southtopia Thank you! I thought it was so obvious ...\", \"@weinbergersa Wow, you're ignorant. Don't remember you, but disclosing classified US missile technology to hostile nations would violate ITAR law &amp; land you in jail. I didn't review it, but my team did. Obviously nobody cared about what your article said. Please.\", \"@amywestervelt @Billsocalif @RMac18 @weinbergersa I've just had it with sanctimonious journalists who appoint themselves protectors of the public interest &amp; yet believe that same public is too stupid &amp; immoral to assess their credibility. It's amazing that you don't understand how insufferably hypocritical that is. Wow.\", \"@evepeyser @broderick This is going to help journalism, not harm it. Please be so kind as to hold your fire until you actually see it.\", \"@nilgirian Worth a shot\", \"RT @MattLevinson: Thank you @elonmusk and @tesla for by FAR the best consumer product I have ever used. Day one is a 6 hour road trip to cape cod. Autopilot is a GAME CHANGER especially on highway and stop &amp; go traffic. $tsla https://t.co/gUDmhlGXqn\", \"@erinbiba I have never attacked science. Definitely attacked misleading journalism like yours though.\", \"@StarVenge @ChiTownMadison @JohnnaSabri @joshuatopolsky @oneunderscore__ @ParkerMolloy @2sunsky @ashleyfeinberg Had a great time with my kids\", \"Thank you for the lovely letter https://t.co/xGNMj5FOhg\", \"@nealcol Good school\", \"@annerajb @LikeTeslaKim A dream that wd prob be a nightmare in reality. Cup holder that auto adjusted for size &amp; stiffness of cup/bottle, maintained cold or hot temp &amp; dried off water condensation. Or I cd work on getting humanity to Mars. Tough choice.\", \"@WorldAndScience You have so many great pics &amp; factoids!\", \"@amasad @Sra_Mister Second best answer to the Fermi Paradox after the simulation argument\", \"@amasad @Sra_Mister Yeah\", \"@JohnnaSabri @Sra_Mister Which part? Love their cuisine. And the views are amazing.\", \"@amasad @its_a_massacre @fung9815 @israrayyaz @Sra_Mister @waitbutwhy Great book. Read it when it came out.\", \"RT @mayemusk: .@elonmusk You have grown up with female scientists around you all your life. We are honest, intelligent, and work hard to do good, unlike @erinbiba And @NoahShachtman shame on you for making this a female issue. https://t.co/36sCQKoBzI\", \"@ClaytonGoobert Love the space cowboy esthetic\", \"@annerajb @eli_schiff Good progress. Really proud of this design &amp; SpaceX propulsion team. This engine is something special.\", \"@yoyovinzi Would love to be in India. Some challenging government regulations, unfortunately. Deepak Ahuja, our CFO, is from India. Tesla will be there as soon as he believes we should.\", \"Like you guys too   https://t.co/PVQVyR1nXY\", \"@MacTechGenius @v_g_fischer @ConsumerReports Braking &amp; UI upgrades apply to all Model 3s. Improved windshield for aero noise &amp; suspension for ride comfort are major ops. Unless you're really bothered by them, don't replace. Best way to improve ride is drop tire pressure to ~39 psi. 45 psi is best range, but lower comfort.\", \"@v_g_fischer @ConsumerReports Yeah, absolutely\", \"RT @elonmusk: @MacTechGenius @v_g_fischer @ConsumerReports Braking &amp; UI upgrades apply to all Model 3s. Improved windshield for aero noise &amp; suspension for ride comfort are major ops. Unless you're really bothered by them, don't replace. Best way to improve ride is drop tire pressure to ~39 psi. 45 psi is best range, but lower comfort.\", \"@ElectrekCo @FredericLambert Ride comfort &amp; aero/road noise already better than CR car, which was early production. Wish we could make the car perfect from day 1, but there's always room for improvement. Highly recommend dropping tire pressure 10% below max to ~39 psi for comfort. Only affects range by ~2%.\", \"Filters bacteria, viruses, spores, pollen &amp; particulate of almost any kind https://t.co/dlQHJfKdpU\", \"@Arkved78 Model 3 should be second best in world after Model S/X. Still super good, but we went a little  on S/X.\", \"@nashlib That sounds like a fun adventure!\", \"Glad you're ok! https://t.co/zuuYCUIKus\", \"RT @SpaceX: Successful deployment of SES-12 to a geostationary transfer orbit confirmed.\", \"@sonic_hedgehog Good morning, Sonic. Not sure how to break it to you, but ... https://t.co/RPpOchBMKJ\", \"Am def not under any illusion that this will end illiteracy, but I hope it helps at least a little https://t.co/06IA9Xy6bL\", \"@joerogan @Off_thewalls @MKBHD Thanks! Have heard universally great things about your podcasts.\", \"@PaulVerstegen1 I love Banks. Best books in recent years imo are Iain Banks &amp; George Martin.\", \"@FernandoGords68 @BillNye @neiltyson Strongly disagree. I love humanity.\", \"Those who proclaim themselves \\\"socialists\\\" are usually depressing, have no sense of humor &amp; attended an expensive college. Fate loves irony.\", \"@Keith_Wasserman @Jason @Beyonce @warriors Thanks, good advice\", \"Cool video https://t.co/FW24TRL687\", \"@EvilCorpGame Great name. A little on the nose.\", \"@vplikeTRUMP @jorendewachter @xJawz @joerogan @MazzucatoM Yes, consumption tax is way better. Also, higher estate tax better than income/cap gains tax. Probability of progeny being equally excellent at capital allocation is not high.\", \"@vplikeTRUMP @jorendewachter @xJawz @joerogan @MazzucatoM Also think there should be a universal basic income that doesn't change even if you get a job. Productivity should be rewarded.\", \"@Money23Green Thanks for coming by our car factory with @westcoastbill. Tesla team was super fired up to see you! Congrats on your victory!!\", \"@JohnnaSabri @kerra_henke @Kennnaughty Thanks!\", \"@DMC_Ryan @tkraenze @Tesla Critical autonomous safety features like emergency braking are standard, but convenience features like active cruise control are not\", \"@Rossputin Life is good\", \"@DMC_Ryan @tkraenze @Tesla Good news coming soon\", \"@lazarusrang Humanity is not perfect, but it's all we've got\", \"@RehearsalLot @guiscaesar @surfersnout @aedmondsauthor @barbiesway @TwitterMoments @RepMaxineWaters @PolitiFact This Washington Post article seems good https://t.co/R1d9ixg179\", \"@JohnnaSabri @RehearsalLot @guiscaesar @surfersnout @aedmondsauthor @barbiesway @TwitterMoments @RepMaxineWaters @PolitiFact True\", \"@coremwm Hopefully in V9.0 release in a few months\", \"@RationalEtienne @PPathole @RehearsalLot @guiscaesar @surfersnout @aedmondsauthor @barbiesway @TwitterMoments @RepMaxineWaters @PolitiFact We must aspire to truth\", \"RT @Tesla: Tesla team celebrates Pride Month [?] https://t.co/O3PTdWbPeg\", \"@EV20018 @justwidle2 @Tesla \\\"Virtue signaling\\\" is super annoying &amp; there are lots of phoneys who are actually huge jerks, but jump on every social cause du jour. But I'm really proud of the fact that # of changes Tesla had to make to achieve 100/100 (before even knowing about the LGBTQ index) was zero.\", \"What would you love to see in a Tesla pickup truck? I have a few things in mind, but what do you think are small, but important nuances &amp; what would be seriously next level?\", \"@justinfiaschett @EV20018 @justwidle2 @Tesla Good question\", \"Appreciate all the good wishes. First bday I've spent in the factory, but it's somehow the best.\", \"@mathetes76 @jules_su We need more &amp; better emojis now!!Seriously. So little to work with.\", \"@KiannaFierce Oh, I love trap. Good suggestions welcome!\", \"@daveydo2000 @jules_su @EricIdle That's cool. One of my favorite lines! Monty Python is so brilliant.\", \"@westcoastbill Thanks Bill\", \"@JamesWorldSpace Inflatable tubes &amp; pods being made out of Kevlar for better abrasion resistance. A SpaceX engineer happens to be in Thailand &amp; is headed there now. Could one of the divers DM me? Need approx contour of most difficult sections for tube fab.\", \"@thanr @JamesWorldSpace Great, thanks\", \"@bonnienorman @TeslaBull @trippedover Interesting\", \"@erikveen I would def recommend this\", \"@ArkadiuszKula @JL2579 @MattyIce4412 @thanr @JamesWorldSpace Good idea\", \"@Noizey_Man @JaneidyEve That would be cool. I wonder what it's like under all that ice.\", \"@DonAndrewBailey @haydentiff @TheFerris_Wheel @100K_Ideas @GotchuW Please lmk contamination levels of any kind when you test the water\", \"@ZainRaz4 Yes, and springy, like a highly damped trampoline\", \"@KirklandJones Good point\", \"@jack Great move\", \"@StarFire2258 You're right on both counts. Most houses in Flint have safe water, but they've lost faith in govt test results. Some houses are still outliers. Will organize a weekend in Flint to add filters to those houses with issues &amp; hopefully fix perception of those that are actually good.\", \"@jonodiener Maybe rewarding to organize a barnstorming weekend for water filter installation?\", \"@d20_highroller Yeah\", \"RT @LittleMissFlint: Hey world. Let's set the record straight. My team has been working with @elonmusk and his team for over a week to figure out the best solution to help #Flint with the #FlintwaterCrisis Extremely grateful for him and all he has done so far.\", \"@itsMikeSki If you have cool arrows, you're in\", \"@Malala @MalalaFund Happy birthday, Malala! Happy to support.\", \"Interesting read https://t.co/6vvIEtYPiY\", \"@Tesla Whether you plan to buy a Dual Motor Performance Model 3 or not, take it for a test drive anyway. It's like having pure fun jacked straight into your brain whenever you want.\", \"RT @WSJ: The Tesla brand has its share of haters, but none have driven the new Model 3 Performance--until now. @DanNeilWSJ calls the car \\\"magnificent\\\" in its first-ever review. https://t.co/54lAEiJWl0\", \"RT @Hyperloop: Congratulations to @WARR_Hyperloop for winning the 2018 Hyperloop Pod Competition with a peak speed of 290 mph!\", \"@arstechnica Haha\", \"@WillFealey @Tesla @TeslaOwnersUK Wow, that's really awesome. Thank you! [?]@TeslaOwnersUK\", \"@westcoastbill Yeah. Never seen it so high ever.\", \"@appljd We're trying to get rid of contracts completely. Should just be \\\"tap here &amp; you get your car\\\". Then, if you don't like it for any reason, just return it like any other product.\", \"Not having a big gas guzzler engine in front means there's room for trunks in front &amp; back, plus longer crumple zone for best safety of any midsize car https://t.co/oStk7oUidV\", \"@AndredAlmeida Yeah, Model 3 is designed to fit 6'4\\\"  adults comfortably in both front &amp; rear seats at same time\", \"Some of best classic @Atari games coming as Easter eggs in Tesla V9.0 release in about 4 weeks. Thanks @Atari!\", \"@jlgolson @atari Hoping to include last three in this release, with pole position linked to actual car steering wheel (while stationary tbc haha)\", \"@Model3Owners @atari Good idea &amp; thanks for Supercharger trophy reminder. Really want to make the car as fun as possible!\", \"If you're into video game development, consider applying to Tesla. We want to make super fun games that integrate the center touch screen, phone &amp; car irl.\", \"@MobiiliMika @atari Cool idea!\", \"@SadCookieCrisp Something like that, but more of an adults in cars anime vibe\", \"Good morning \", \"@Gfilche My hope is *all* current investors remain with Tesla even if we're private. Would create special purpose fund enabling anyone to stay with Tesla. Already do this with Fidelity's SpaceX investment.\", \"RT @elonmusk: @Gfilche My hope is *all* current investors remain with Tesla even if we're private. Would create special purpose fund enabling anyone to stay with Tesla. Already do this with Fidelity's SpaceX investment.\", \"@heydave7 Absolutely. Am super appreciative of Tesla shareholders. Will ensure their prosperity in any scenario.\", \"RT @elonmusk: @heydave7 Absolutely. Am super appreciative of Tesla shareholders. Will ensure their prosperity in any scenario.\", \"Investor support is confirmed. Only reason why this is not certain is that it's contingent on a shareholder vote. https://t.co/bIH4Td5fED\", \"@JohnnaSabri @Medium Love this from P&amp;P: \\\"One has got all the goodness, and the other all the appearance of it.\\\" Reminds me so of my Nana, who was very stern &amp; strict &amp; yet kindest of all. Believe in good.\", \"@wuhfel Didn't \\\"like\\\" it\", \"@CathieDWood Thank you for the thoughtful letter\", \"@tldtoday @Tesla Thanks for buying our car! Would highly recommend performance version. It's really good &amp; I don't say that lightly. Nothing will give you greater joy. Full refund, no hard feelings if not.\", \"@tldtoday @Tesla Cool, lmk if you have suggestions for improvement after you drive it\", \"@VoxPolitico So many saved drafts. So ... so many.\", \"Love born in the brain is more spirited, doubtless, than true love, but it has only flashes of enthusiasm; it knows itself too well, it criticizes itself incessantly; so far from banishing thought, it is itself reared only upon a structure of thought. The Red and The Black[?]\", \"@Model3Owners Ok\", \"@AshleyEsqueda Tesla Car Karaoke hopefully ready in OTA software update version 10. Just played Missile Command, Asteroids &amp; Lunar Lander in V9. Really fun!\", \"@jwiechers @SwiftOnSecurity I want that outfit\", \"Good times with @JoeRogan ... https://t.co/8uZUsEJoq1\", \"RT @SpaceX: Successful deployment of Telstar 18 VANTAGE to a geostationary transfer orbit confirmed. https://t.co/nlRgxoILJ9\", \"RT @Tesla: \\\"It's almost as if time slows down... it's a pleasure and a marvel to experience\\\" @caranddriver https://t.co/XsHTpsfYqM\", \"Bricks will be free if used for affordable housing projects\", \"@mcwm Haha \", \"@mcwm The muskrat is like a beaver with small ideas, but it has a certain quiet dignity ...\", \"@AntVenom Ok\", \"@FalconGridFin Good catch. They are there in the flight design, but we forgot to put them in this render.\", \"@SwiftOnSecurity Maybe the scammers will just get tired of winning eventually\", \"@SpaceX My fav tweet ever\", \"Top SpaceX priority is and will remain supporting @NASA crewed spaceflight and National Security missions\", \"Due to some Tesla owners encountering system issues yesterday, the free Supercharging referral program will be extended until tomorrow night https://t.co/Hbb7KTE685\", \"@martinengwicht Very interesting\", \"@cleantechnica Will be interesting to see how this evolves over time\", \"True  https://t.co/CS6semhKm6\", \"@Agent_KO @Starflightgame @SpaceX @starcontrolgame What would be great is original Elite\", \"@justinemusk You're most welcome, glad I could be helpful! Thanks for letting me know about it.\", \"RT @justinemusk: Very pleased + proud that my ex -- you might have heard of him -- helped get this documentary made about (one of my heroines) Eve Ensler + V-day's work in the Congo with women who survived horrific violence. Thank you @elonmusk https://t.co/7t7YLolV8o\", \"@wonderofscience It sure does. Very reliable.\", \"@thomaspower @mvolpe Punctuality is not my strong suit\", \"@TTfue @Tesla What are some of the most fun games we could have on a Tesla? Classic Atari is just the start.\", \"@AlguireTim @Tesla Haha. It is actually my fav game on Tesla cars right now \", \"Works best if you play games full screen &amp; use steering wheel scroller balls for control https://t.co/fE51cCC5lx\", \"@ElectrekCo @FredericLambert To be clear, actual NN improvement is significantly overestimated in this article. V9.0 vs V8.1 is more like a ~400% increase in useful ops/sec due to enabling integrated GPU &amp; better use of discrete GPU.\", \"@ID_AA_Carmack Thanks John, really admire you too! I think you're one of the best engineers ever. Hope you return to working on rockets one day.\", \"@Erdayastronaut Opening event that night &amp; free rides for the public next day\", \"@mayemusk @cleantechnica @nytimes @Tesla @businessinsider @business @TheStreet @CNBC @Forbes Interesting\", \"@Erdayastronaut @nextspaceflight Good point ...\", \"Twitter thought I got hacked &amp; locked my account haha\", \"@houmanhemmati @FredericLambert There have been hundreds of improvements to fit &amp; finish over the years, but no major step change in this regard. Seats, especially, are dramatically better now than in the past.\", \"RT @elonmusk: @Model3Owners Love Tesla supporters so much!![?][?][?][?][?][?][?][?] [?]       [?][?][?]        [?]                 [?][?]                   [?]                   [?]                   [?]                   [?]\", \"@NewYorker Love the Concorde\", \"Flies like an arrow, but fruit flies like a banana\", \"@ElDuderinoGG Ok\", \"Making progress ...\", \"@Eifiea @ianelantzy @SEC_Enforcement I wish\", \"@bosterogriego @Tesla @mayemusk @WSJ Good question\", \"@PopularEthics @Tesla S is better, but rear seat folds down in Model 3, so bikes can fit in trunk\", \"@rarelyserious @Tesla Cool haha\", \"@rarelyserious @Tesla For those unfamiliar, this uses Tesla Autopark/Summon. Slightly smarter version hopefully ready soon. By next year, a Tesla should be able to drive around a parking lot, find an empty spot, read signs to confirm it's valid &amp; park.\", \"RT @elonmusk: @rarelyserious @Tesla For those unfamiliar, this uses Tesla Autopark/Summon. Slightly smarter version hopefully ready soon. By next year, a Tesla should be able to drive around a parking lot, find an empty spot, read signs to confirm it's valid &amp; park.\", \"@wordcipher Maybe AI will make me follow it, laugh like a demon &amp; say who's the pet now ...\", \"@sheslulu Hahaha &lt;ahem&gt;\", \"@ChipdTooth Haha\", \"@AMAZlNGNATURE cute\", \"@veldeth_ @AMAZlNGNATURE v true\", \"Oh hi guys ... lol https://t.co/TX10I0Ecrn\", \"Love Oumuamua jokes\", \"@bri_the_cheesy True\", \"@Benioff @boringcompany Sure, we can do it\", \"@Tesla Would like to thank Robyn for joining the team. Great respect. Very much look forward to working together.\", \"@exzacklyright @MKBHD @austinnotduncan @Tesla Cool\", \"Please lmk what you'd most like improved/fixed about your Tesla. Thanks!\", \"@tizmagik @TeslaSupport Fair point, will reenable\", \"Congratulations @SpaceX team! Thanks @NASA, much appreciated. https://t.co/6aiWbh8F6V\", \"@nichegamer Would be fun to add to Tesla\", \"Skipping rail saves over a month for East Coast deliveries. All things considered, it's better to use trucks. Single load/unload &amp; direct to owner location.\", \"Looking back at the sun from upper stage &amp; Falcon 9  landed on drone ship Of Course I Still Love You https://t.co/sg3FXIDQJL\", \"@_TomCross_ @SpaceX Haha \", \"Sure hope this isn't true. It is the non-linearities, such as Siberian permafrost melting or ocean currents changing, that are most difficult to predict. https://t.co/k0eSzDZHwR\", \"Technically, two parts: Starship is the spaceship/upper stage &amp; Super Heavy is the rocket booster needed to escape Earth's deep gravity well (not needed for other planets or moons)\", \"@jessedh @Tesla Yeah, good idea to offer that as a setting\", \"@PLAYERUNKNOWN Ah yes fair point\", \"For those worried about running out of fresh water, it may help to know that desalination only costs 0.1 cents per liter or half a cent per gallon\", \"@NASA @NASAInSight Congratulations! What an amazing track record of success with Mars!\", \"But if you love what you do, it (mostly) doesn't feel like work\", \"@anandmahindra Engineers, artists &amp; creators of all kinds. There is so much to build.\", \"@mattbeckman Us too sigh\", \"@businessinsider This part is true. I was trying to explain that we don't want our cars to have a \\\"tinny\\\" sound. https://t.co/VxO9rR1uAf\", \"@Taraustralis Needs a warmup\", \"@chrinder Haha\", \"Most importantly, every electric car, Tesla or otherwise, matters to the environment we all share. Every time someone chooses electric, the future gets a little bit brighter!  If not Tesla, please take a look at these other options: https://t.co/FZVNlGWYgA\", \"@JP_Cautillo Wow!\", \"@magoo5042 @Tesla Ok\", \"@JimJimroger Yep\", \"@NutmegTheRed @Tesla Ok\", \"@enjikaka @Tesla @adamomras Ok\", \"Good sign that almost no Model 3 owners want to sell their cars! https://t.co/tAFIrvX0lC\", \"@ChrisEvans Great thread \", \"The new Roadster will actually do something like this https://t.co/fIsTAYa4x8\", \"@FredericLambert Good idea\", \"@mjensen007 Haha\", \"Glad you like it https://t.co/7FbQc0M9M5\", \"@mcannonbrookes Haha you're welcome! Hope you're doing well.\", \"@MKBHD @BenSullins @cleantechnica I think some of them should combine forces. Talent is spread too thin.\", \"The Tesla customer referral program will end on Feb 1. If you want to refer a friend to buy a Tesla &amp; give them 6 months of free Supercharging, please do so before then.\", \"RT @engadget: AI is better at bluffing than professional gamblers https://t.co/q9EGVvD5Uk\", \"@farismahdawi @NASA @Space_Station The youth love em\", \"@annerajb @farismahdawi @NASA @Space_Station Sure. Also, we need to be better at remembering brightness settings.\", \"@JasonHouge @SpaceX @boringcompany These are industrial strength. Not recommended for use at home!\", \"@justinandgreg Yes, and my grandfather was from Minnesota with some Scandinavian/German background. Got to hand it to Norway. That's a great sculpture!\", \"@florentderue That would be so cool!\", \"@FredericLambert It's like looking in a mirror!\", \"@Caseykins421 @justinandgreg Yeah, worked on my cousin's farm for six weeks around my 18th birthday. I was so kewl. https://t.co/XIRzRuXPJZ\", \"@techreview Cool that this is happening on many fronts. Looks like a good design by @Boeing.\", \"Great electric car documentary about early days of Tesla, GM Volt, Nissan Leaf &amp; Gadget. So much has happened since then ... https://t.co/nq2nVjj5w8\", \"@data_over_ideal @Tesla Sure hope that happens\", \"@lexiheft Haha true\", \"@Kristennetten Haha\", \"@vicentes @Robotbeat @tegmark Max Tegmark is great\", \"@Sofiaan @HyperChangeTV @Tesla @say Sure, which ones?\", \"@business Super appreciate Deepak's 11 year history building Tesla &amp; wish him greatest of happiness in retirement! Zach has been outstanding over his 9 year history with Tesla &amp; will build upon Deepak's legacy.\", \"@Erdayastronaut @keego73 To be clear, I'm confident that a stainless steel ship will be lighter than advanced aluminum or carbon fiber, because of strength to weight vs temperature &amp; reduced need for heat shielding\", \"@wonderofscience @Treebeard1671 @Erdayastronaut @keego73 Mostly true\", \"@vincent13031925 @Tesla No plans to do so. Would recommend Model S.\", \"@ukrpravda_news Whoa cool\", \"@joerogan Glad you like it\", \" Mach Diamonds \", \"Raptor reached 268.9 bar today, exceeding prior record held by the awesome Russian RD-180. Great work by @SpaceX engine/test team! https://t.co/yPrvO0JhyY\", \"@_cgp @SpaceX Propellant was not deep cryo. CH4 &amp; O2 were just barely below liquid temp at 1 bar. In theory, Raptor should do ~300 bar at deep cryo, provided everything holds together, which is far from certain. However, only 250 bar is needed for nominal operation of Starship/Super Heavy.\", \"@John_Gardi @SpaceX But not an extendable nozzle though, as that just saves length. Nozzle diameter is limited by body diameter.\", \"@Robotbeat @John_Gardi @SpaceX This will sound implausible, but I think there's a path to build Starship / Super Heavy for less than Falcon 9\", \"@McMurchie @SPEXcast @Robotbeat @John_Gardi @SpaceX The goodwill of the public is critical to Starship's success\", \"@John_Gardi @w0lfyxD @Robotbeat @SpaceX True\", \"@pewdiepie Sorry  Had a vital mission in Norway  Now I am back\", \"@InsideEVs @28delayslater Some sites maintained an almost daily Tesla deathwatch 11 years ago, reporting with an awful delight. 4000 days later ...\", \"@FredericLambert True, that headline is not exactly going to win a Pulitzer for originality\", \"@TslaTimeCapsule @BMWi @Audi @Cadillac @WSJ @28delayslater Wow, 2013\", \"@teslaownersSV @lifebykateb @Tesla @itsCrippleback It will start out slow to make sure there are no corner case issues and then, if that looks good, speed up next week. We def need to add a \\\"Request Latest Update\\\" feature!\", \"@Tesla This is in addition to existing Cabin Overheat Protection, which come on automatically at high temps to ensure any babies or pets in the car are safe\", \"Of course I still love you https://t.co/XNoLRKYnlc\", \"@nextspaceflight It's designed to be way better. We'll see what reality has to say about that.\", \"RT @Tesla: \\\"My Model S continues to be the best product of any kind that I have ever purchased\\\" https://t.co/o34E5VOGjS\", \"@xkcdComic Haha true\", \"Great meme review hosted by Will Smith https://t.co/82uuVPDIoC\", \"Fate *loves* irony. Frankly, too much.\", \"Oh hi lol https://t.co/9WvbtTHoxS\", \"@alexmd2 @JPUConn @WSJ Indeed. I have great respect for judges. It's not perfect, but, in general, we should be very glad of the US justice system.\", \"@JaneidyEve Thank you Evelyn, I loved it\", \"@lrocket @Alexis_wwww @katlinegrey Tom did an awesome job leading Merlin, Kestrel, Draco &amp; other engine developments from start through 2014 that were critical to SpaceX's success. Great respect &amp; appreciation!\", \"RT @Erdayastronaut: It's road trips like this 1,400 mile (2250 km) road trip to @NASAKennedy for @NASA and @SpaceX's #DM1 mission that makes me SOOOO thankful for @Tesla's incredible autopilot and supercharger network  thanks for the hard work @elonmusk and team! https://t.co/F95UEkbVlT\", \"@SupremePenguin2 Haha\", \"@IndigoShrimp Yay!\", \"RT @MKBHD: From my IG story: Pretty sure these trucks were trolling me. Thanks anyway @Tesla  https://t.co/An4S5O4tjq\", \"RT @Space_Station: Beautiful view of the @SpaceX #CrewDragon as it successfully undocked from the International Space Station https://t.co/ycnkagpJbx\", \"RT @Commercial_Crew: Successful splashdown of the #CrewDragon right on time at 8:45 a.m. ET. https://t.co/0qHhHzD4Js\", \"@JD_2020 All good, system maintained room temperature within spacecraft\", \"@BarackObama @NASA @SpaceX @Commercial_Crew Thank you on behalf of the people of SpaceX!\", \"@cleantechnica True\", \"@cleantechnica True (sigh)\", \"@MFrunker @cleantechnica Software release later this week should make it better\", \"@Erdayastronaut @somepitch Yeah, it might break\", \"@Jays200 @Tesla Ok\", \"RT @LongDogSecurity: First time using $TSLA mobile service, what a great idea this is, it saves me HOURS of inconvenience and has to save Tesla a lot of money.  This is the future, legacy auto dealership model WILL die. https://t.co/FIhW0pA0At\", \"RT @dodo: This car saves dogs' lives [?] https://t.co/8Okzrtef2c\", \"@teslaownersSV @TeslaGong Best to get a Tesla Powerwall, so you can power your house &amp; also drive\", \"RT @InsideEVs: Top Five Reasons Why Consumers Buy @Tesla Cars: Video Reason #1 - Most Fun to Own --&gt;https://t.co/ryyOyUU27T https://t.co/EHXDteQktR\", \"@S_Padival @CastleRobinson2 @jimcramer Me too! He was so great. Loved Colbert Report too.\", \"@LittleMissFlint @Ryan_Deitsch You're most welcome! Glad to be helpful.\", \"Thank you! https://t.co/vh4zujXiZ4\", \"@thejimos Glad you like it! Navigate on Autopilot hopefully approved for Europe soon.\", \"Hard to appreciate how much Tesla Autopilot improves enjoyment of driving until you try it https://t.co/Giqb2WLVAb\", \"@zachary1978 @Tesla Good point\", \"@Erdayastronaut @NASA @VP I think so. For sure worth giving it our best shot! Would be great to have a competitive, commercial program to build a moon base that is outcome-oriented (not cost-plus), so you only get paid for safe delivery of cargo.\", \"@briantu Super proud of Tesla Autopilot team!\", \"@ialexryan Tax authorities tend to interpret things in their favor, but it sure sounds like you could be right! Will investigate.\", \"@martin_galway Good point\", \"@erinwinick @techreview Super cool!\", \"@nextspaceflight @Erdayastronaut @DiscoverMag Yes. Sensitive propulsion &amp; avionics remained dry. Great work by SpaceX Dragon engineering team. Major improvement over Dragon 1.\", \"@carolineplz Seems fair\", \"@keen_lab Solid work by Keen, as usual\", \"@KarlStrahl Responsible for more deaths than any other chemical! Weirdly, dihydrogen dixoxide, with only one extra oxygen, is not good to drink, but great for changing hair color.\", \"@SherylCrow @Tesla Night mode with 0% brightness is actually too dark during the day. This is ultimately our fault. We will update our software so that 0% brightness is always usable relative to ambient conditions.\", \"@EVLatino @SherylCrow @Tesla Night mode default brightness is actually too high imo. Should be lower &amp; allow below current \\\"0%\\\" level. Making that adjustment too.\", \"@SherylCrow @Tesla Glad you like it! Sorry about the trouble earlier. Helpful feedback for improving the car!\", \"@EV_Stevee @Tesla Great name \", \"@jake_cooley @SnazzyQ Yes, needs to drive best clear path. Lane lines are just one input.\", \"@dave_chung @Tesla Ok\", \"@LeoDotWalsh0x05 Will take care of it\", \"@slye @LivingTesla @Tesla Impressive analysis\", \"@patrickc @Tesla Great work with Stripe btw. Much needed.\", \"@JohnnaCrider1 @patrickc @Tesla Thanks \", \"@newscientist Please fix your paywall. Your content is great, but your paywall is not.\", \"@transopac @newscientist Good point\", \"RT @Tesla: TeslAtari updates inbound! Look for Super Breakout and more in the latest software update which will begin rolling out later this week  \", \"@MrTimDunn Love Brunel. Great first name too.\", \"RT @jwolfgram: WOW!! The @Tesla software update performance increase is like getting a NEW CAR... Again. This is the 3rd time I've woken up to a \\\"new\\\" car since I bought #Model3 six months ago. Thanks @elonmusk and everyone at Tesla for making the best vehicles on earth! #AMAZED https://t.co/HcHN7ktijh\", \"@bonnienorman @vincent13031925 @Tesla No, it's better\", \"@Capture_10 @greg_wyler @JeffBezos @Rancy2014 @TMFAssociates Haha exactly\", \"@NASAGoddard @SpaceX .@SpaceX team would be so honored to fly this for @NASA!\", \"@GameSyns @Erdayastronaut Engines seem ok, pending inspection\", \"@theRedding @Erdayastronaut Rockets are not yet safe enough to fly over land\", \"@iliketeslas Haha\", \"@natfriedman Sheeps thank you \", \"@Royaljester62 @Tesla Yeah, will post soon\", \"@xandriteme @scottwww @ValueAnalyst1 @karpathy @Tesla @nvidia On yeah, that too\", \"@martinengwicht @msitver @FrankLuntz Anti-matter def wins on energy density \", \"@teslaownersSV @jeffleach Thanks, support super appreciated\", \"@Kristennetten @flcnhvy @MoWo91 @mayemusk Once had a Great Dane named Hamlet, because Hamlet was a great Dane\", \"@stevecheney As sure as night follows day\", \"@WorldAndScience So true\", \"OG wisdom https://t.co/zoj8qZDrRV\", \"@HumanVsMachine Sigh\", \"@arctechinc Ok\", \"@komocode @arctechinc Ok\", \"@InsideEVs Wow, how did they take this video!?\", \"@Erdayastronaut @NASASpaceflight The opposite. Any insights gained by one team must be shared with the other, but other team not required to use them.\", \"@sama Thanks Sam!\", \"@cleantechnica Good design imo\", \"@Erdayastronaut @SpaceX Physics favors full flow\", \"@BPSYT1 @Erdayastronaut @SpaceX Hopefully in about 10 days\", \"@_ishanspatil @SPEXcast @13ericralph31 @JaneidyEve @bluemoondance74 @Orion_Sword @Some1gee @Erdayastronaut @SpaceX Aiming for 150 tons useful load in fully reusable configuration, but should be at least 100 tons, allowing for mass growth\", \"@trigomemetry Sure\", \"@flcnhvy @marstronauts @Erdayastronaut @JaneidyEve @13ericralph31 @SPEXcast @bluemoondance74 @Orion_Sword @Some1gee @SpaceX Hopefully, 4 months\", \"RT @Tesla: Important Announcement (unless you like paying for gas): All inventory Model S and Model X cars now come with unlimited free Supercharging. This ends on June 30.\", \"@WillFealey No problem if you want to post the suggestions on this timeline. It's great to get thoughtful criticism.\", \"RT @Teslarati: Elon Musk's Tesla, SpaceX top list of most attractive employers for engineering students https://t.co/QdUKPzyREV\", \"RT @Tesla: It's true  https://t.co/SIyaGM3qeP\", \"@ErlArnoy Super fair criticism. We're putting max resources on this. Hard to hire enough repair technicians in Norway! Please apply if interested.\", \"@Erdayastronaut @SpaceX Fun!\", \"@tesla_truth Yeah, they were a little off the mark https://t.co/yqZhvkbdrt\", \"@pewdiepie Haha\", \"Also $2500 tax credit for California &amp; $500 to $800 utility incentive https://t.co/lmD3ZNFR9M\", \"@vincent13031925 @TeslaMiles @ShadowCatTrash Not sure yet\", \"RT @vincent13031925: Ok, I tried the new game \\\"Beach Buggy Racing 2 Tesla Edition\\\" on the Model 3 - it's super fun &amp; cool   And you get to choose : Chill , Performance or  Ludicrous mode Thanks @elonmusk   $TSLA #Tesla #Model3 https://t.co/SrlrRNpkoA\", \"@tmornini @Tesla Tesla is putting significant resources into high-efficiency battery recycling. Makes both environmental &amp; economic sense. Please consider joining if interested in recycling engineering!\", \"@PolyBork @s8n Haha\", \"Anarcho-syndicalism FTW!!\", \"@EvaFoxU Haha\", \"@Erdayastronaut @13ericralph31 @HarryStoltz1 @flcnhvy Other rocket engines were designed for no (or almost no) reuse. Raptor is designed for heavy &amp; immediate reuse, like an aircraft jet engine, with inspections required only after many flights, assuming instrumentation shows it good. Using hydrostatic bearings certainly helps.\", \"@elontimes Yeah, we've been working on curbs a *lot*. Concrete seams too. So glamorous.\", \"@engadget So cool\", \"@bitbased @Antsmash @joseph_preece @Erdayastronaut @SpaceXFan97 @lister6520 @justpaulinelol @MattLBates That's actually kinda true\", \"RT @McJuggerNuggets: The car is driving itself. This is so insane  My MIND is BLOWN. @elonmusk you are my hero and inspiration. DREAMS DO COME TRUE.  https://t.co/w4Wry47Sc1\", \"RT @Tesla: K thx bye  https://t.co/7l1BAybNcc\", \"@juleepam @TheOnion These do seem like wise words\", \"@tomekdrabas @merkinvineyards They have the best merkins\", \"Thanks for the happy birthday wishes! [?][?]\", \"RT @Tesla: Wish granted . New Sketchpad features are rolling out in our next software update.   What will you draw?  https://t.co/eXUm4k24qH\", \"@EforElectric @Tesla Sure. Want to add easy import/export of images from your phone.\", \"@Tesla Fun, little music tool coming later\", \"@CarolineGee8 @NathanBomey @USATODAY @Tesla @mayemusk True\", \"@MTimeTraveller Nice\", \"@iainmckenzie101 @AutonomousHoag @AutonobahnAI @AlexRoy144 @Tweetermeyer @valleyhack Sigh\", \"@kvlly Would be cool if car took you to a random fun place traveled to by other Tesla owners in the area\", \"RT @Tesla: We want to live in a world where you can play in parks while you charge your car on your epic roadtrip https://t.co/hgFdNHwUR1\", \"RT @BenSullins: Is Tesla Autopilot Safe? https://t.co/ETWM8PgZbJ\", \"@FaZe_Rain Absolutely agree, you should be allowed to move your Tesla anywhere in the world, unless it's prevented by government rules. Thanks for letting me know.\", \"@JessicaGottlieb Ok\", \"@JaneidyEve @flcnhvy @Space_Station @Tesla Sure\", \"Motor Trend awards Tesla Model S best Car of the Year ever in their 70 year history!!  https://t.co/TiMsQ3REvH\", \"RT @Tesla: \\\"No vehicle we've awarded, be it Car of the Year, Import Car of the Year, SUV of the Year, or Truck of the Year, can equal the impact, performance, and engineering excellence that is our Ultimate Car of the Year winner, the 2013 Tesla Model S.\\\"  https://t.co/1qS3T2zgVj\", \"@EvaFoxU @Tesla Great team\", \"@MartianDays Sure\", \"@joe_mckirdy @13ericralph31 @JHC2718 @StephanieeeeeJ 100mT to 125mT for true useful load to useful orbit (eg Starlink mission), including propellant reserves. 150mT for reference payload compared to other rockets. This is in fully reusable config. About double in fully expendable config, which is hopefully never.\", \"RT @Teslarati: SpaceX's returning Hyperloop champion is looking to reach half the speed of sound in this year's competition https://t.co/t7XhHMdfbw\", \"@antonioregalado @neuralink Sure, will do\", \"@ClaraB_KGBT @SpaceX @kgbt Won't be today, hopefully tomorrow\", \"@wonderofscience True \", \"@robbystarbuck @Tesla Good point. Getting fixed ...\", \"Starhopper flight successful. Water towers *can* fly haha!!\", \"@yousuck2020 Thanks!\", \"RT @vincent13031925: The Tesla Kettleman City Supercharging station is my favorite SC in California! Incredible lounge and best place to hang out while charging your #Teala.   https://t.co/ms4xXX2mkR\", \"@LobbycastGeoff @teslamodel3fan @Tesla Good idea\", \"Hoping to catch the fairing in a few mins https://t.co/JZSkfQnItX\", \"Fairing caught, video posting soon\", \"@RDAnglePhoto @SciGuySpace @SpaceX @CanonUSA Great shot!\", \"@Erdayastronaut Sure\", \"@bluemoondance74 @Erdayastronaut Ok\", \"@Sofiaan @IIHS_autosafety @atj721 Well said!\", \"@HarryStoltz1 @Sofiaan @IIHS_autosafety @atj721 Good question. NHTSA is great for fundamental structural safety, except for unbelted front passenger occupant factor. Very rare these days for front passenger to be unbelted. NCAP also great, but there are some weird headlight angle factors. Super inside baseball stuff ...\", \"@HarryStoltz1 @Sofiaan @IIHS_autosafety @atj721 Ultimately, however, what really matters is empirical safety. Nothing in life is 100% safe, so optimal figure of merit is how many millions of miles/km per accident.\", \"@brunosilva @vincent13031925 @ResidentSponge @Teslarati @Tesla We're working with EU regulators to improve rules. Spirit of rules is correct, but exact language doesn't quite align with spirit. Navigate on Autopilot working well in rest of world.\", \"@Trailblayzer_ I'd play that game\", \"Trust me, it will be \", \"@TheOnion Finally, VR that's cool *and* sexy!\", \"@_IAMOtis Would love to, but import duties are extremely high, even for electric vehicles\", \"@PatrickMJanson  Iceland  for sure!\", \"@Sofiaan @flcnhvy @coolsilver @Tesla Yeah, several. Smart Summon most significant.\", \"RT @ParksCanada: Visiting our places in your #ZeroEmission vehicles [?] is getting that much easier! You'll now be able to plug in and enjoy more of our places thanks to @Tesla, who is donating EV charging stations with both Tesla and J1772 connectors to #ParksCanada. https://t.co/UitUO0itVZ\", \"@MikeHudema @GretaThunberg Wow cool\", \"@dStanca Hoping to open in Romania soon!\", \"@justpaulinelol Actually true\", \"@Erdayastronaut @flcnhvy @tarimnazmi For sure\", \"@SpaceXFan97 @Erdayastronaut @KevinKling12 @DJSnM @spaceXcentric Most likely\", \"@kierank_ @Teslarati Looks good\", \"@kimpaquette @Tesla For sure!\", \"@mortchad @TheOnion I'd love to\", \"@SamNazarius @mortchad @TheOnion No, but that was an epic piece at a time when the word was being overrun by demented versions of an otherwise delightful jam container. It was like World War Z, but mason jars ...\", \"DMT FTW https://t.co/DgfQ2teLG2\", \"@alistairmilne But we probably won't try for best lap time this week, as we need to review &amp; tune Model S thoroughly for safety on Nurburgring, especially Flugplatz section\", \"@nichegamer This could be good\", \"@bonnienorman @Model3Owners They're available through the app, but we need to make them easier to find\", \"@BocachicaMaria1 Thanks, I will stop by on the 20th!\", \"@TFM312 @Tesla Glad you're ok!\", \"@28delayslater @Tesla Haha\", \"@HarryStoltz1 @28delayslater @Tesla A little, but this is mostly a design update for those interested\", \"RT @Tesla: Model 3 has earned the IIHS 2019 Top Safety Pick+ Award, earning top scores across all eight tests covering crashworthiness, occupant protection, crash avoidance, and headlight systems.\", \"@fermatslibrary For some reason, I always loved this formula\", \"@EvaFoxU @MemesOfMars @fermatslibrary Nice compression\", \"@tesla_truth Well said\", \"@chrisleehawaii @Tesla Much better chess engine coming\", \"@TeslaMiles @28delayslater @karpathy @Tesla OG Roadster is def helping us out here with 826M miles by itself https://t.co/Pcybhf8jc3\", \"@Mich41V4294 @flcnhvy @28delayslater @karpathy Hoping to open in Slovakia, Croatia, Serbia &amp; most of Eastern Europe early next year. Finally, we will do Nikola Tesla proud by having his cars in his countries of origin!\", \"@annerajb @Jennerator211 @Erdayastronaut With rare exceptions, composites would make Starship heavier. They don't stand up well to high temperatures, but steel does great.\", \"@TeslaGong @teslaownersSV @Teslatunity @Tesla Not sure we could go quite that tight, but we can for sure allow much narrower spaces at user's discretion\", \"@28delayslater @DJSnM Haha awesome\", \"@flcnhvy @28delayslater @DJSnM This is quite a complex beast, but hopefully within a month or so\", \"@Kristennetten @annerajb @Jennerator211 @Erdayastronaut That would be a nice touch\", \"@moyo5150 More like https://t.co/f8BUlz0Xdo\", \"@SpacePadreIsle @SpaceX Wow, it's been 5 years since we started at Boca!\", \"@S_Padival @Tesla @business @liamdenning @josheidelson @danahull @ZekeFaux Good question\", \"@EvaFoxU @DisruptResearch @Tesla @karpathy Cool video!\", \"@TheOnion So true\", \"@HarryStoltz1 In solving for a good Mars climate, we will learn a great deal about how to do so on Earth. It is the inverse problem.\", \"@TrevorMahlmann Haha yes\", \"Production version will be a lot more polished than this prototype, but still fun to see\", \"RT @Erdayastronaut: A conversation with @elonmusk about Starship! Thanks for getting nerdy with me about aerospikes. We should definitely talk about more stuff like those heat shields and stuff next time! https://t.co/JD1zTcvwlm\", \"@KeithMansfield @Erdayastronaut Great summary of the key points!\", \"@HarryStoltz1 Probably Starlink  &amp; some fun things\", \"@browserdotsys Haha true\", \"@pewdiepie Haha\", \"@BnOrdhaug @Gizmodo I hope so\", \"@SciGuySpace We had to reallocate some resources to speed this up &amp; received great support from Airborne, our parachute supplier. I was at their Irvine factory with the SpaceX team on Sat and Sun. We're focusing on the advanced Mk3 chute, which provides highest safety factor for astronauts.\", \"Worth reading \\\"Human Compatible\\\" by Stuart Russell (he's great!) about future AI risks &amp; solutions https://t.co/ZCdvZrrcVf\", \"@justpaulinelol I'm in the credits\", \"@Aero_JohnG @Erdayastronaut @SciGuySpace Yeah\", \"@teslaownersSV Thanks for mentioning. Should be enabled on all loaner cars.\", \"RT @Tesla: Caraoke is all fun and games until you alienate your children by knowing every single word to Let It Go.\", \"It's really quite fun!\", \"@_GaryTheBot Even Gary likes it!\", \"@vincent13031925 It's something special\", \"@nate_mccomb @28delayslater @Charalanahzard Yep, good catch\", \"@tesla_truth @annerajb @YogiSC1127 @Tesla True\", \"@NASASpaceflight @IanPineapple Yeah, will be Raptor vertical test stand. Hopefully allows simplification of Raptor design, as pump shaft wear &amp; drainage is better in vertical config. Also, more representive of flight. Test as you fly ...\", \"@Sofiaan @annerajb @tesla_addicted Yeah, great team!\", \"@torybruno @Erdayastronaut @MartianDays @AerojetRdyne This is true. All that matters is number used in [?]v equation. Propellant residuals are incredibly important, often overwhelming engine mass. https://t.co/s2LcEapGAU\", \"@Erdayastronaut @torybruno @MartianDays @AerojetRdyne Oberth effect is not well appreciated. Value of high thrust low in gravity well is not captured in simple delta-v equation. One of the reasons we favor CH4 over H2. https://t.co/LijrUMuJDq\", \"Tesla wins best headlights award  https://t.co/SjvA931B3U https://t.co/8yfeJiXd0N\", \"Tesla Q3 results:  - Shanghai Giga ahead of schedule - Model Y ahead of schedule - Solar installs +48% from Q2 - GAAP profitable - Positive free cash flow\", \"Super proud of Tesla team for great execution &amp; support of Tesla customers greatly appreciated!!\", \"@KlausLovgreen Sure\", \"@GerberKawasaki @Tesla Major FUD incoming for sure ... haha\", \"To be clear, integrated solar tiles only make financial sense for new houses or replacement roofs. If your roof is more than 5 years away from replacement, solar retrofit is recommended https://t.co/mDoPO17YB9\", \"@tobyliiiiiiiiii Haha true\", \"@SnazzyQ @Tesla Sure\", \"@jasondunn So true. Imagine if phones were gasoline powered. Total sales would be like 14 units worldwide! Using oil/gas &amp; being forced to constantly visit toxic chemical dispensing stations will seem so insane in the future!\", \"@MrBeastYT Sounds cool. Where are the trees being planted &amp; what kind of trees?\", \"\\\"I always like going South; somehow, it feels like going downhill.\\\"\", \"@RenataKonkoly @MrBeastYT @MKBHD True, my name literally means tree\", \"@johnkrausphotos @NASA @Space_Station Hard to say with high accuracy, but 4 to 6 weeks is my best guess\", \"@NutaIie Haha true\", \"@tobi @chris__lu @MarkRober @MrBeastYT Congrats! Shopify is great btw. Nice work.\", \"Thank for helping grow sustainable energy through solar! https://t.co/zH08AMhVMj\", \"Great work by SpaceX Dragon team &amp; Airborne! To be clear, we've only done 1 multi-parachute test of Mk3 design, so 9 more left to reach 10 successful tests in a row. https://t.co/Q814zVoW4S\", \"@flcnhvy Great poem\", \"@TJ_Cooney Wow, 2011 seems like eons ago! With fairing recovery, Falcon is ~80% reusable, but reflight takes several days &amp; requires boats. Starship will be fully reusable with booster reflight possible every few hours &amp; ship reflight every 8 hours. No boats needed.\", \"RT @SpaceX: The fairing supporting this mission previously flew on Falcon Heavy's Arabsat-6A mission https://t.co/iTgqqtl1pW\", \"Extremism is so fun! (@waitbutwhy) https://t.co/ECACsaqAXR\", \"@cleantechnica True\", \"RT @ray4tesla: Tencent Auto Editor in chief Chang Yan is the first one in  to test drive China-made #Model3. As a model 3 owner himself (delivered back in March), he has a lot to say about the good qualities of his test vehicle. It handles well, smooth, quick, and noticeably quiet. He is impressed. https://t.co/JGCroMiUEc\", \"RT @SpaceX: Fairing has deployed--second time for this particular fairing https://t.co/FdDIAGcHqI\", \"RT @SpaceX: Falcon 9 first stage has landed on the Of Course I Still Love You droneship - the fourth launch and landing of this booster https://t.co/qQvH7pwMDO\", \"RT @SpaceX: Successful deployment of 60 Starlink satellites confirmed! https://t.co/bpBqO9oYR3\", \"@davidtrover Seems likely. [?][?] = hipsters.\", \"@cleantechnica True\", \"@universal_sci True\", \"@slashdot The China space industry is very impressive\", \"@SupaZT @Erdayastronaut That would be cool\", \"@WillFealey @Tesla Fun party guaranteed!\", \"Cybertruck design influenced partly by The Spy Who Loved Me https://t.co/HKBzxFNfzm\", \"@TheWalkingDead @Tesla The finest in apocalypse protection technology! Flamethrower optional.\", \"@ruttenpete @DeviantArt @TheBakaArts Just because he has a flamethrower and I have a flamethrower doesn't mean ... um ... ok fine I'm Hank Scorpio\", \"RT @flcnhvy: On November 21, 2019, @elonmusk unveiled what is largely considered to be the greatest evolution in vehicular fashion &amp; function.   What is this Cybertruck everyone's talking about, you may wonder? Well, here's a quick introduction! As promised -- Cybertruck spec ad  @Tesla https://t.co/PgkeLcWhZB\", \"@NCBirbhan @Erdayastronaut Yeah, it's one of my favorite T-shirts!\", \"@RenataKonkoly @mayemusk They smashed the window to steal the radio, which was worth maybe $20. Got a replacement from junkyard. Btw, great deals available from junkyards! It's pretty fun fixing/upgrading cars.\", \"Kids these days have no respect! https://t.co/lfJTJnqllQ\", \"Math jokes have a small audience\", \"@andrewMcarney @Tesla Sure\", \"If life is a video game, the graphics are great, but the plot is confusing &amp; the tutorial is way too long\", \"@teslaownersSV MCU (infotainment computer) upgrade not recommended imo. Isn't needed for full self-driving &amp; cost is ~$2k for limited entertainment improvements.\", \"@coffeemaestro_ This is a great meme \", \"Tesla Moth Mode (better late than never) https://t.co/Rcu87A8NkO\", \"Whoa ... the stock is so high lol\", \"RT @SpaceX: Yesterday the team completed the 10th successful multi-chute test in a row of Crew Dragon's upgraded Mark 3 parachute design - one step closer to safely launching and landing @NASA astronauts https://t.co/nfFjnKygB4\", \"RT @Teslarati: Happy Holidays via OTA!  Awesome first look at Tesla's (2019.40.50) software update in action, by @tesla_raj : Text messaging support, voice commands, and more https://t.co/uMtMBU9LZ2\", \"@mikeduncan True\", \"@teslaownersSV @tesla_unplugged @TeslaOwnersofMA @Tesla @disneyplus @BenSullins Merry Christmas  Hope you're enjoying latest software update!\", \"@flcnhvy @Sofiaan @Erdayastronaut It's not that these things can't be done, they just absorb a lot of software engineering time, which has great opportunity cost. There are very few excellent software engineers &amp; merely increasing team size results in awful bloatware.\", \"@KakaroTTo1385 @flcnhvy @Sofiaan @Erdayastronaut It is an honor &amp; a privilege to work with so many great engineers\", \"@GutGutM3 @jamescharles Ok\", \"@teslaownersSV @rhoehn Thanks all Tesla club members for helping out! Looking forward to seeing you there tomorrow. [?]\", \"RT @Teslarati: Tesla Model S gets another 'Car of the Decade' Award: 'Nothing Else Comes Close' https://t.co/m26soDUp0J\", \"@Austen Haha this rocks!\", \"RT @SpaceX: Falcon 9 first stage has landed on the Of Course I Still Love You droneship - SpaceX's 48th successful landing of an orbital class rocket booster https://t.co/wLal1xfsjO\", \"@webtekno Nice \", \"[?][?] Tesla China Team [?][?]      Such amazing progress!!\", \"@SciGuySpace Densifying hydrogen is difficult, as its liquid temp is close to absolute zero. Much easier with CH4, which is an underappreciated advantage. Cooling O2 is good too, but becomes operationally difficult at N2 liquid temp, as air is ~78% N2. Entire system wants to drip air!\", \"@mstrwilliam00 @Erdayastronaut Aiming for 20 to 30 years, like aircraft\", \"@jameslin123321 @Erdayastronaut Helping to pay for this is why I'm accumulating assets on Earth.\", \"Best place to view is from the beach. Excitement guaranteed! https://t.co/6XSiK5dWEn\", \"@flcnhvy @thirdrowtesla @Gfilche @Sofiaan @Kristennetten @vincent13031925 Great talking with @thirdrowtesla!\", \"@vm_one1 @Exhaustedpengu1 @RationalEtienne Would like to take a moment to thank Michael &amp; Ze'ev for helping Tesla. It was very hard work &amp; both could've just rested on their laurels. Much appreciated .\", \"@detroitnews Yay!\", \"@flcnhvy @amancalledscott @ChrisDungeon @mithunoorath I love that Heart of Gold is moved by Infinite Improbability\", \"@Erdayastronaut Ok\", \"@Everman @Erdayastronaut Yeah, system should adapt to most likely destination &amp; anticipate school, then work, if that's owner preference\", \"Liquid nitrogen cryogenic strength test underway [?] https://t.co/qRPBLInqm0\", \"RT @SpaceX: Falcon 9's first stage has landed on the Of Course I Still Love You droneship - our 49th successful landing of an orbital class booster https://t.co/QyR3zyPcIp\", \"RT @SpaceX: Ms. Tree caught a fairing half - our third successful catch! https://t.co/VJU8asg4gS\", \"@SciGuySpace Tonnage delivered to orbit, normalized to LEO, would be interesting to see\", \"A friend just sent me this excerpt from a Tesla blog I wrote 14 years ago https://t.co/Hr8w52ithY\", \"Be ... cause ... it's ... true\", \"Hope you're enjoying the simulation https://t.co/nj9JTJc4lL\", \"@IamKarenBoBaran @georgezachary Those old ladies are wise https://t.co/f1uxKvCfbB\", \"@vincent13031925 I appreciate the kind words!\", \"RT @thirdrowtesla: With great pleasure, we bring to you @ElonMusk's Story Part 2!!!   Thank you Elon for sharing with us.   We can't wait to do this again!   https://t.co/Pl1SdGDne9\", \"RT @vincent13031925: Tesla Is A Touchdown Among @NFL Players, And It's Just Getting Started  [Video] Listen to the real people, they love #Tesla   $TSLA   https://t.co/wdcT4siG1z\", \"@ajtourville @CathieDWood @ARKInvest Yeah, it looks like a medieval torture device, but is nonetheless currently used in many human studies! Not hard to be way better.\", \"@flcnhvy @Tesla @thirdrowtesla Ok sure  Btw, we recruit great engineers from almost anywhere in the world, so this shouldn't be thought of as USA only. Also, work location can be Bay Area (preferred), but Austin (many of our chip designers are there) or potentially any Tesla Gigafactory.\", \"@CathieDWood @sbarnettARK @jwangARK @ARKInvest First, we need to make it super safe &amp; easy to use, then determine greatest utility vs risk. From initially working to volume production &amp; implantation is a long road. As with vehicle safety, it will be much harder to pass our internal standards than minimum regulatory standards.\"], \"marker\": {\"color\": \"#00CC96\"}, \"mode\": \"markers\", \"name\": \"PositiveTweet\", \"showlegend\": true, \"type\": \"scatter\", \"x\": [\"2017-12-11\", \"2017-12-11\", \"2017-12-15\", \"2017-12-21\", \"2017-12-21\", \"2017-12-21\", \"2017-12-21\", \"2017-12-21\", \"2018-01-29\", \"2018-01-29\", \"2018-01-29\", \"2018-01-31\", \"2018-02-06\", \"2018-02-07\", \"2018-02-07\", \"2018-02-07\", \"2018-02-22\", \"2018-02-22\", \"2018-02-22\", \"2018-03-07\", \"2018-03-07\", \"2018-03-09\", \"2018-03-09\", \"2018-03-09\", \"2018-03-09\", \"2018-03-12\", \"2018-03-29\", \"2018-04-05\", \"2018-04-18\", \"2018-04-18\", \"2018-05-01\", \"2018-05-04\", \"2018-05-04\", \"2018-05-04\", \"2018-05-09\", \"2018-05-09\", \"2018-05-09\", \"2018-05-09\", \"2018-05-21\", \"2018-05-21\", \"2018-05-21\", \"2018-05-21\", \"2018-05-23\", \"2018-05-23\", \"2018-05-23\", \"2018-05-23\", \"2018-05-23\", \"2018-05-23\", \"2018-05-23\", \"2018-05-23\", \"2018-05-23\", \"2018-05-23\", \"2018-05-23\", \"2018-05-23\", \"2018-05-25\", \"2018-05-25\", \"2018-05-25\", \"2018-05-25\", \"2018-05-25\", \"2018-05-25\", \"2018-05-29\", \"2018-05-29\", \"2018-05-29\", \"2018-05-29\", \"2018-05-29\", \"2018-05-29\", \"2018-05-29\", \"2018-05-29\", \"2018-05-29\", \"2018-05-29\", \"2018-05-29\", \"2018-05-29\", \"2018-05-30\", \"2018-05-30\", \"2018-05-30\", \"2018-05-30\", \"2018-05-30\", \"2018-05-30\", \"2018-06-01\", \"2018-06-01\", \"2018-06-01\", \"2018-06-01\", \"2018-06-04\", \"2018-06-04\", \"2018-06-04\", \"2018-06-11\", \"2018-06-15\", \"2018-06-15\", \"2018-06-15\", \"2018-06-18\", \"2018-06-20\", \"2018-06-20\", \"2018-06-20\", \"2018-06-20\", \"2018-06-20\", \"2018-06-25\", \"2018-06-25\", \"2018-06-25\", \"2018-06-25\", \"2018-06-25\", \"2018-06-25\", \"2018-06-25\", \"2018-06-25\", \"2018-06-25\", \"2018-06-26\", \"2018-06-26\", \"2018-06-26\", \"2018-06-26\", \"2018-06-28\", \"2018-06-28\", \"2018-06-28\", \"2018-06-28\", \"2018-06-28\", \"2018-07-06\", \"2018-07-06\", \"2018-07-06\", \"2018-07-06\", \"2018-07-06\", \"2018-07-09\", \"2018-07-11\", \"2018-07-11\", \"2018-07-11\", \"2018-07-11\", \"2018-07-11\", \"2018-07-11\", \"2018-07-11\", \"2018-07-13\", \"2018-07-13\", \"2018-07-13\", \"2018-07-13\", \"2018-07-13\", \"2018-07-19\", \"2018-07-23\", \"2018-07-23\", \"2018-07-23\", \"2018-07-23\", \"2018-07-23\", \"2018-07-31\", \"2018-07-31\", \"2018-08-01\", \"2018-08-01\", \"2018-08-01\", \"2018-08-01\", \"2018-08-01\", \"2018-08-01\", \"2018-08-07\", \"2018-08-07\", \"2018-08-07\", \"2018-08-07\", \"2018-08-07\", \"2018-08-07\", \"2018-08-10\", \"2018-08-21\", \"2018-08-23\", \"2018-08-23\", \"2018-08-23\", \"2018-08-23\", \"2018-08-23\", \"2018-08-23\", \"2018-08-24\", \"2018-08-27\", \"2018-09-07\", \"2018-09-10\", \"2018-09-10\", \"2018-09-13\", \"2018-09-14\", \"2018-09-14\", \"2018-09-17\", \"2018-09-17\", \"2018-09-17\", \"2018-09-17\", \"2018-09-17\", \"2018-09-17\", \"2018-09-17\", \"2018-09-17\", \"2018-09-19\", \"2018-09-26\", \"2018-10-09\", \"2018-10-09\", \"2018-10-09\", \"2018-10-09\", \"2018-10-15\", \"2018-10-15\", \"2018-10-15\", \"2018-10-16\", \"2018-10-16\", \"2018-10-22\", \"2018-10-22\", \"2018-10-22\", \"2018-10-23\", \"2018-10-23\", \"2018-10-26\", \"2018-10-26\", \"2018-10-26\", \"2018-10-26\", \"2018-10-26\", \"2018-10-26\", \"2018-10-26\", \"2018-10-26\", \"2018-10-31\", \"2018-10-31\", \"2018-10-31\", \"2018-11-01\", \"2018-11-01\", \"2018-11-02\", \"2018-11-02\", \"2018-11-02\", \"2018-11-06\", \"2018-11-06\", \"2018-11-06\", \"2018-11-06\", \"2018-11-08\", \"2018-11-09\", \"2018-11-09\", \"2018-11-09\", \"2018-11-14\", \"2018-11-14\", \"2018-11-15\", \"2018-11-15\", \"2018-11-16\", \"2018-11-16\", \"2018-11-20\", \"2018-11-26\", \"2018-11-26\", \"2018-11-26\", \"2018-11-26\", \"2018-11-27\", \"2018-11-27\", \"2018-12-04\", \"2018-12-13\", \"2018-12-21\", \"2018-12-21\", \"2018-12-26\", \"2018-12-26\", \"2018-12-26\", \"2018-12-26\", \"2018-12-28\", \"2019-01-04\", \"2019-01-07\", \"2019-01-07\", \"2019-01-09\", \"2019-01-09\", \"2019-01-11\", \"2019-01-15\", \"2019-01-16\", \"2019-01-17\", \"2019-01-17\", \"2019-01-17\", \"2019-01-25\", \"2019-01-25\", \"2019-01-25\", \"2019-01-25\", \"2019-01-25\", \"2019-01-25\", \"2019-01-25\", \"2019-01-25\", \"2019-01-28\", \"2019-01-28\", \"2019-01-29\", \"2019-01-30\", \"2019-01-31\", \"2019-01-31\", \"2019-01-31\", \"2019-02-01\", \"2019-02-01\", \"2019-02-01\", \"2019-02-01\", \"2019-02-05\", \"2019-02-05\", \"2019-02-11\", \"2019-02-11\", \"2019-02-11\", \"2019-02-11\", \"2019-02-11\", \"2019-02-11\", \"2019-02-11\", \"2019-02-14\", \"2019-02-14\", \"2019-02-14\", \"2019-02-14\", \"2019-02-14\", \"2019-02-15\", \"2019-02-22\", \"2019-02-22\", \"2019-02-22\", \"2019-02-22\", \"2019-02-25\", \"2019-02-26\", \"2019-02-26\", \"2019-02-26\", \"2019-02-26\", \"2019-02-26\", \"2019-02-27\", \"2019-02-27\", \"2019-02-28\", \"2019-03-08\", \"2019-03-08\", \"2019-03-08\", \"2019-03-08\", \"2019-03-11\", \"2019-03-11\", \"2019-03-11\", \"2019-03-11\", \"2019-03-11\", \"2019-03-13\", \"2019-03-20\", \"2019-03-21\", \"2019-03-21\", \"2019-03-21\", \"2019-03-25\", \"2019-03-26\", \"2019-03-26\", \"2019-03-26\", \"2019-03-26\", \"2019-03-26\", \"2019-03-27\", \"2019-03-29\", \"2019-03-29\", \"2019-03-29\", \"2019-03-29\", \"2019-04-01\", \"2019-04-01\", \"2019-04-03\", \"2019-04-03\", \"2019-04-03\", \"2019-04-04\", \"2019-04-04\", \"2019-04-04\", \"2019-04-04\", \"2019-04-04\", \"2019-04-05\", \"2019-04-05\", \"2019-04-05\", \"2019-04-05\", \"2019-04-05\", \"2019-04-05\", \"2019-04-09\", \"2019-04-09\", \"2019-04-09\", \"2019-04-11\", \"2019-04-11\", \"2019-04-16\", \"2019-04-16\", \"2019-04-16\", \"2019-04-18\", \"2019-04-23\", \"2019-04-23\", \"2019-04-23\", \"2019-04-23\", \"2019-04-29\", \"2019-04-29\", \"2019-04-29\", \"2019-04-29\", \"2019-05-03\", \"2019-05-03\", \"2019-05-03\", \"2019-05-06\", \"2019-05-15\", \"2019-05-21\", \"2019-05-21\", \"2019-05-21\", \"2019-05-21\", \"2019-05-23\", \"2019-05-23\", \"2019-05-23\", \"2019-05-31\", \"2019-06-04\", \"2019-06-10\", \"2019-06-10\", \"2019-06-10\", \"2019-06-13\", \"2019-06-13\", \"2019-06-13\", \"2019-06-14\", \"2019-06-17\", \"2019-06-19\", \"2019-06-21\", \"2019-06-21\", \"2019-06-24\", \"2019-06-24\", \"2019-06-24\", \"2019-06-24\", \"2019-06-24\", \"2019-06-27\", \"2019-06-27\", \"2019-06-28\", \"2019-06-28\", \"2019-06-28\", \"2019-06-28\", \"2019-06-28\", \"2019-06-28\", \"2019-06-28\", \"2019-07-09\", \"2019-07-09\", \"2019-07-09\", \"2019-07-09\", \"2019-07-09\", \"2019-07-10\", \"2019-07-10\", \"2019-07-10\", \"2019-07-11\", \"2019-07-11\", \"2019-07-11\", \"2019-07-12\", \"2019-07-12\", \"2019-07-12\", \"2019-07-15\", \"2019-07-16\", \"2019-07-16\", \"2019-07-23\", \"2019-07-26\", \"2019-07-26\", \"2019-07-26\", \"2019-08-02\", \"2019-08-02\", \"2019-08-07\", \"2019-08-07\", \"2019-08-07\", \"2019-08-07\", \"2019-08-07\", \"2019-08-08\", \"2019-08-08\", \"2019-08-08\", \"2019-08-08\", \"2019-08-16\", \"2019-08-16\", \"2019-08-26\", \"2019-08-29\", \"2019-08-29\", \"2019-09-03\", \"2019-09-06\", \"2019-09-09\", \"2019-09-09\", \"2019-09-09\", \"2019-09-09\", \"2019-09-09\", \"2019-09-10\", \"2019-09-10\", \"2019-09-10\", \"2019-09-10\", \"2019-09-11\", \"2019-09-11\", \"2019-09-11\", \"2019-09-17\", \"2019-09-17\", \"2019-09-17\", \"2019-09-17\", \"2019-09-17\", \"2019-09-19\", \"2019-09-19\", \"2019-09-19\", \"2019-09-19\", \"2019-09-19\", \"2019-09-23\", \"2019-09-23\", \"2019-09-26\", \"2019-09-26\", \"2019-09-26\", \"2019-09-26\", \"2019-09-26\", \"2019-09-26\", \"2019-09-26\", \"2019-10-01\", \"2019-10-01\", \"2019-10-01\", \"2019-10-01\", \"2019-10-01\", \"2019-10-01\", \"2019-10-01\", \"2019-10-01\", \"2019-10-03\", \"2019-10-07\", \"2019-10-07\", \"2019-10-08\", \"2019-10-08\", \"2019-10-08\", \"2019-10-08\", \"2019-10-09\", \"2019-10-09\", \"2019-10-09\", \"2019-10-09\", \"2019-10-09\", \"2019-10-11\", \"2019-10-14\", \"2019-10-14\", \"2019-10-14\", \"2019-10-14\", \"2019-10-14\", \"2019-10-14\", \"2019-10-16\", \"2019-10-23\", \"2019-10-23\", \"2019-10-24\", \"2019-10-24\", \"2019-10-24\", \"2019-10-25\", \"2019-10-28\", \"2019-10-28\", \"2019-10-28\", \"2019-10-30\", \"2019-10-30\", \"2019-10-30\", \"2019-10-30\", \"2019-10-30\", \"2019-10-30\", \"2019-11-04\", \"2019-11-04\", \"2019-11-04\", \"2019-11-06\", \"2019-11-07\", \"2019-11-07\", \"2019-11-08\", \"2019-11-11\", \"2019-11-11\", \"2019-11-11\", \"2019-11-14\", \"2019-11-14\", \"2019-11-19\", \"2019-11-19\", \"2019-11-19\", \"2019-11-21\", \"2019-11-21\", \"2019-11-27\", \"2019-11-27\", \"2019-12-03\", \"2019-12-09\", \"2019-12-10\", \"2019-12-12\", \"2019-12-12\", \"2019-12-12\", \"2019-12-12\", \"2019-12-18\", \"2019-12-18\", \"2019-12-19\", \"2019-12-23\", \"2019-12-24\", \"2019-12-24\", \"2019-12-24\", \"2019-12-26\", \"2019-12-26\", \"2019-12-26\", \"2019-12-26\", \"2019-12-31\", \"2019-12-31\", \"2020-01-07\", \"2020-01-07\", \"2020-01-07\", \"2020-01-08\", \"2020-01-16\", \"2020-01-17\", \"2020-01-17\", \"2020-01-17\", \"2020-01-21\", \"2020-01-21\", \"2020-01-21\", \"2020-01-23\", \"2020-01-23\", \"2020-01-23\", \"2020-01-29\", \"2020-01-29\", \"2020-01-29\", \"2020-01-29\", \"2020-01-29\", \"2020-01-31\", \"2020-01-31\", \"2020-01-31\", \"2020-01-31\", \"2020-01-31\", \"2020-02-03\", \"2020-02-03\", \"2020-02-03\", \"2020-02-03\"], \"y\": [328.91, 328.91, 343.45, 331.66, 331.66, 331.66, 331.66, 331.66, 349.53, 349.53, 349.53, 354.31, 333.97, 345.0, 345.0, 345.0, 346.17, 346.17, 346.17, 332.3, 332.3, 327.17, 327.17, 327.17, 327.17, 345.51, 266.13, 305.72, 293.35, 293.35, 299.92, 294.09, 294.09, 294.09, 306.85, 306.85, 306.85, 306.85, 284.49, 284.49, 284.49, 284.49, 279.07, 279.07, 279.07, 279.07, 279.07, 279.07, 279.07, 279.07, 279.07, 279.07, 279.07, 279.07, 278.85, 278.85, 278.85, 278.85, 278.85, 278.85, 283.76, 283.76, 283.76, 283.76, 283.76, 283.76, 283.76, 283.76, 283.76, 283.76, 283.76, 283.76, 291.72, 291.72, 291.72, 291.72, 291.72, 291.72, 291.82, 291.82, 291.82, 291.82, 296.74, 296.74, 296.74, 332.1, 358.17, 358.17, 358.17, 370.83, 362.22, 362.22, 362.22, 362.22, 362.22, 333.01, 333.01, 333.01, 333.01, 333.01, 333.01, 333.01, 333.01, 333.01, 342.0, 342.0, 342.0, 342.0, 349.93, 349.93, 349.93, 349.93, 349.93, 308.9, 308.9, 308.9, 308.9, 308.9, 318.51, 318.96, 318.96, 318.96, 318.96, 318.96, 318.96, 318.96, 318.87, 318.87, 318.87, 318.87, 318.87, 320.23, 303.2, 303.2, 303.2, 303.2, 303.2, 298.14, 298.14, 300.84, 300.84, 300.84, 300.84, 300.84, 300.84, 379.57, 379.57, 379.57, 379.57, 379.57, 379.57, 355.49, 321.9, 320.1, 320.1, 320.1, 320.1, 320.1, 320.1, 322.82, 319.27, 263.24, 285.5, 285.5, 289.46, 295.2, 295.2, 294.84, 294.84, 294.84, 294.84, 294.84, 294.84, 294.84, 294.84, 299.02, 309.58, 262.8, 262.8, 262.8, 262.8, 259.59, 259.59, 259.59, 276.59, 276.59, 260.95, 260.95, 260.95, 294.14, 294.14, 330.9, 330.9, 330.9, 330.9, 330.9, 330.9, 330.9, 330.9, 337.32, 337.32, 337.32, 344.28, 344.28, 346.41, 346.41, 346.41, 341.06, 341.06, 341.06, 341.06, 351.4, 350.51, 350.51, 350.51, 344.0, 344.0, 348.44, 348.44, 354.31, 354.31, 347.49, 346.0, 346.0, 346.0, 346.0, 343.92, 343.92, 359.7, 376.79, 319.77, 319.77, 326.09, 326.09, 326.09, 326.09, 333.87, 317.69, 334.96, 334.96, 338.53, 338.53, 347.26, 344.43, 346.05, 347.31, 347.31, 347.31, 297.04, 297.04, 297.04, 297.04, 297.04, 297.04, 297.04, 297.04, 296.38, 296.38, 297.46, 308.77, 307.02, 307.02, 307.02, 312.21, 312.21, 312.21, 312.21, 321.35, 321.35, 312.84, 312.84, 312.84, 312.84, 312.84, 312.84, 312.84, 303.77, 303.77, 303.77, 303.77, 303.77, 307.88, 294.71, 294.71, 294.71, 294.71, 298.77, 297.86, 297.86, 297.86, 297.86, 297.86, 314.74, 314.74, 319.88, 284.14, 284.14, 284.14, 284.14, 290.92, 290.92, 290.92, 290.92, 290.92, 288.96, 273.6, 274.02, 274.02, 274.02, 260.42, 267.77, 267.77, 267.77, 267.77, 267.77, 274.83, 279.86, 279.86, 279.86, 279.86, 289.18, 289.18, 291.81, 291.81, 291.81, 267.78, 267.78, 267.78, 267.78, 267.78, 274.96, 274.96, 274.96, 274.96, 274.96, 274.96, 272.31, 272.31, 272.31, 268.42, 268.42, 273.36, 273.36, 273.36, 273.26, 263.9, 263.9, 263.9, 263.9, 241.47, 241.47, 241.47, 241.47, 255.03, 255.03, 255.03, 255.34, 231.95, 205.08, 205.08, 205.08, 205.08, 195.49, 195.49, 195.49, 185.16, 193.6, 212.88, 212.88, 212.88, 213.91, 213.91, 213.91, 214.92, 225.03, 226.43, 221.86, 221.86, 223.64, 223.64, 223.64, 223.64, 223.64, 222.84, 222.84, 223.46, 223.46, 223.46, 223.46, 223.46, 223.46, 223.46, 230.06, 230.06, 230.06, 230.06, 230.06, 238.92, 238.92, 238.92, 238.6, 238.6, 238.6, 245.08, 245.08, 245.08, 253.5, 252.38, 252.38, 260.17, 228.04, 228.04, 228.04, 234.34, 234.34, 233.42, 233.42, 233.42, 233.42, 233.42, 238.3, 238.3, 238.3, 238.3, 219.94, 219.94, 215.0, 221.71, 221.71, 225.01, 227.45, 231.79, 231.79, 231.79, 231.79, 231.79, 235.54, 235.54, 235.54, 235.54, 247.1, 247.1, 247.1, 244.79, 244.79, 244.79, 244.79, 244.79, 246.6, 246.6, 246.6, 246.6, 246.6, 241.23, 241.23, 242.56, 242.56, 242.56, 242.56, 242.56, 242.56, 242.56, 244.69, 244.69, 244.69, 244.69, 244.69, 244.69, 244.69, 244.69, 233.03, 237.72, 237.72, 240.05, 240.05, 240.05, 240.05, 244.53, 244.53, 244.53, 244.53, 244.53, 247.89, 256.96, 256.96, 256.96, 256.96, 256.96, 256.96, 259.75, 254.68, 254.68, 299.68, 299.68, 299.68, 328.13, 327.71, 327.71, 327.71, 315.01, 315.01, 315.01, 315.01, 315.01, 315.01, 317.47, 317.47, 317.47, 326.58, 335.54, 335.54, 337.14, 345.09, 345.09, 345.09, 349.35, 349.35, 359.52, 359.52, 359.52, 354.83, 354.83, 331.29, 331.29, 336.2, 339.53, 348.84, 359.68, 359.68, 359.68, 359.68, 393.15, 393.15, 404.04, 419.22, 425.25, 425.25, 425.25, 430.94, 430.94, 430.94, 430.94, 418.33, 418.33, 469.06, 469.06, 469.06, 492.14, 513.49, 510.5, 510.5, 510.5, 547.2, 547.2, 547.2, 572.2, 572.2, 572.2, 580.99, 580.99, 580.99, 580.99, 580.99, 650.57, 650.57, 650.57, 650.57, 650.57, 780.0, 780.0, 780.0, 780.0]}, {\"hoverinfo\": \"text\", \"hovertext\": [\"@ClickHole Hate it when that happens. Some people are so rude!\", \"All flamethrowers will ship with a complimentary boring fire extinguisher\", \"@doug_ellison @dsfpspacefl1ght Found the source of the problem. The NASA database has the Falcon Block 1 performance. Version currently in production and set to fly in a few months is Block 5. SpaceX GNC team is submitting updated numbers.\", \"If anyone is curious, the name was inspired by The Fault in Our Stars\", \"@TheOnion Your cruel taunts cut me deep. Deep. But, I love you too.\", \"No technology is too advanced for The Boring Company! https://t.co/r3EJYpcpkO\", \"@Bryson_M @RMac18 @serdarsprofile @brianacton Definitely. Looks lame anyway.\", \"@kerrymflynn Yeah, my fault for being an idiot. We did give them a free launch to make up for it and I think they had some insurance.\", \"@VentureBeat @kharijohnson We've never advertised with FB. None of my companies buy advertising or pay famous people to fake endorse. Product lives or dies on its own merits.\", \"@vegamontesino @NoceraBV @WSJ @Tesla We release as soon as we have the data. Good timeline, bad timing. Doesn't matter.\", \"RT @Tesla: Batteries cut costs and respond to major power problems quicker than coal, gas or hydro generators https://t.co/g3BhJbW4Rq https://t.co/zHJxLqfbLx\", \"@existentialcoms No use arguing with chimp. You're blocked.\", \"@arstechnica Fair criticism, but we're fixing it fast. Hackathon going on right now to fix 2 worst robot production chokepoints. Looks promising.\", \"RT @SpaceX: More photos from the first flight of Falcon 9 Block 5 - https://t.co/095WHWMtKp https://t.co/4gZsAc01Bg\", \"@TalkTesla @Techmeme @timkhiggins According to NHTSA, there was an automotive fatality every 86M miles in 2017 (~40,000 deaths). Tesla was every 320M miles. It's not possible to be zero, but probability of fatality is much lower in a Tesla. We will be reporting updated safety numbers after each quarter.\", \"It's super messed up that a Tesla crash resulting in a broken ankle is front page news and the ~40,000 people who died in US auto accidents alone in past year get almost no coverage https://t.co/6gD8MzD6VU\", \"What's actually amazing about this accident is that a Model S hit a fire truck at 60mph and the driver only broke an ankle. An impact at that speed usually results in severe injury or death.\", \"@camgfrost @DMC_Ryan @loganthefirst Stop, you're making me blush [?]\", \"@rrosenbl @ElectrekCo @FredericLambert @Tesla Have been meaning to get around to talking to him. Some of his criticisms are valid, but, on the higher body/chassis weight front, he wasn't fully appreciating that we were going for much higher crash safety levels than other cars.\", \"@SarahKnuckey @JeffBezos @Oprah @kobebryant @richardbranson @shanesmith30 No problem\", \"@ericbrownzzz @dmatkins137 @ShayneRarma @NASA No, UAW does that. They want divisiveness &amp; enforcement of 2 class \\\"lords &amp; commoners\\\" system. That sucks. US fought War of Independence to get *rid* of a 2 class system! Managers &amp; workers shd be equal w easy movement either way. Managing sucks btw. Hate doing it so much.\", \"@ericbrownzzz @dmatkins137 @ShayneRarma @NASA But ya know what, let's test that theory. Maybe we do want UAW back, even tho UAW betrayed us 8 years ago &amp; left us here to rot. Maybe we want UAW back even tho injury rate today is 1/2 what it was with them &amp; wages were lower. Maybe. Let's hold a vote &amp; find out.\", \"Hell of a week https://t.co/jKsfykkG55\", \"Difficult, but necessary Tesla reorg underway. My email to the company has already leaked to media. Here it is unfiltered: https://t.co/4LToWoxScx\", \"@scottlynch78 @jenphalian You're welcome, bad fiction writer 78 https://t.co/ypglGbdEse\", \"@horn Vielleicht muss ich die Kirche im Dorf verlassen?\", \"@Zuckerberger @horn Das war ein unbeabsichtigter Witz [?]  \", \"@LudaLisl @horn Die frohliche Wissenschaft und Eristische Dialektik: Die Kunst, Recht zu Behalten\", \"@light00bringer @horn Original Star Wars\", \"@jacobinmag Stop being such a Jacobin [?]\", \"@clprenz @JoeyOstrander I hate whole idea of brands and branding. So much bs. I hope it messes with our brand. Brands suck.\", \"@himanshu_ragtah @Gizmodo If the rules force defeat, the rules must change\", \"@WillFealey @Tesla @RadioFlyer No problem, happy to donate some personally\", \"@ICannot_Enough @SimRiyat @gawwy @aperezposada @Reuters @sal19 Strange. @cnbc, is it true that you are putting on analysts with such low ratings &amp; extremely bad prediction records? Are your viewers informed about an analyst's track record before hearing their opinion.\", \"@LanceUlanoff @BBCWorld Good for rescuing vulnerable patients in dangerous environments, particularly if water, toxic gas or dangerous bacteria/viruses present, as patient would remain dry &amp; at std air pressure entire time.\", \"RT @adamchavez: Finally a thorough piece of reporting on the @elonmusk Thai submarine fiasco. By a non-reporter.   Journalism is dead. But if we can fight to distribute pieces like this, with high-signal-to-noise ratio, we can resurrect.  https://t.co/3hZEvG3kKZ\", \"@physorg_com @ETH_en @PNASNews ETH beam heh heh\", \"Defeating traffic is the ultimate boss battle\", \"@alexmd2 @Techmeme @CatherineShu It's coming, I swear\", \"@McMurchie @alexmd2 @Techmeme @CatherineShu At this point, I want ETH even if it is a scam\", \"@Scobleizer @Tesla Sorry about the typo. That was unforgivable. Why would they be upset about their mission? It's what they do.\", \"@FCalciu @derekGUMB @Scobleizer @Tesla @SEC_Enforcement Exactly. Short-sellers are value destroyers. Should definitely be illegal.\", \"@annerajb @KishavanBhola @enn_nafnlaus @ElonBachman The CIO of a major pension fund is the one who deserves credit for uncovering this scam\", \"@annerajb @KishavanBhola @enn_nafnlaus @ElonBachman The big funds can &amp; will, as they're suffering a net loss. Index managers like Blackrock pocket make excessive profit from short lending while pretending to charge low rates for \\\"passive\\\" index tracking.\", \"@EndyO_ Then the hell with science!\", \"Boring breakthrough @BoringCompany https://t.co/pSflhZadwC\", \"@lgebman I'm dying to make a pickup truck so bad ... we might have a prototype to unveil next year\", \"@jeffects01 God Fire\", \"RT @boringcompany: The Boring Company Loop system https://t.co/xVpDHzZKXB\", \"@nextspaceflight @Teslarati I just heard. 50 mph winds broke the mooring blocks late last night &amp; fairing was blown over. Will take a few weeks to repair.\", \"RT @cleantechnica: Sweden Will Ban Sale Of Gasoline &amp; Diesel Cars After 2030. Germany Lags Behind https://t.co/eIKVQ9lNYF https://t.co/YD3o0a7r67\", \"@TheRock Oh stop, you'll make me blush [?]\", \"@universal_sci What could possibly go wrong?\", \"@annerajb @PeteSauerbier Mobile can do it no problem\", \"@jasonsellspa Starship will land on a ring of fire\", \"@FalkenstrKent That's odd. Will look into it.\", \"And yet people ask what could possibly go wrong with AI https://t.co/CRxQCCDEca\", \"@savannahseymour Of 14M futures, 13.9M were simply death by boredom\", \"@alzslabyrinth @UberFacts In recent years, hours were much higher. Don't recommend though -- bad for health &amp; happiness. But no choice or Tesla would die. Hope to reduce to 80 hours next year.\", \"@nichegamer @EV_Stevee @flcnhvy @Model3DLR @mortchad @Tesla Mein Herz brennt isboss fight song\", \"Oh stop teasing, Jeff  https://t.co/wuWPENcSE1\", \".@cgpgrey drives a Tesla across the loneliest road in America https://t.co/UAovEHY4SE\", \"GoT season finale leaked https://t.co/wMoLFDSsbt\", \"@MrRobCapewell @Tesla @Apple @ValueAnalyst1 Yeah, feels like something is messed up with Apple news app. Almost only ever shows negative news. Nickname is \\\"the hate stream\\\" \", \"@maggiejuang1 Sure is. I live here. Air quality is especially bad near highways. https://t.co/XeBB5iP7mo\", \"@tesla_truth Ironically, same publications will attack me for compensation tied to Tesla tripling in value and imply Tesla is worthless. They can't *both* be true!\", \"@Erdayastronaut @rmarcilhoo @kimitalvitie @SpaceXNow @ChrisG_NSF @NASASpaceflight Exactly. We're on the wrong planet for SSTO. No problem on Mars or any of the moons.\", \"@kimitalvitie @Erdayastronaut @SpaceXNow @ChrisG_NSF @NASASpaceflight Not bad\", \"@arenpageler Storm Watch was active for hundreds of Powerwall customers this weekend as a result of @NWS Red Flag Fire Warnings in California, and we will continue to activate it whenever there advance awareness of a potential power outage or physical danger\", \"@BillGates Fear (and memes) get clicks\", \"@28delayslater Missed you too [?]\", \"@justpaulinelol @MattLBates @Erdayastronaut High entry force &amp; heat breached engine bay &amp; center engine TVC failed\", \"@C3LT_Games @SciGuySpace There will be no Block 6. Moving to Starship architecture.\", \"@d0nahue27 Death Note\", \"RT @InsideEVs: 2019 Tesla Model S Long Range: Don't Let Its Looks Fool You https://t.co/oVbltbXvhC via @insideevs.com\", \"@DMC_Ryan @Tesla No problem\", \"@cleantechnica Odd\", \"@moyo5150  tough\", \"heh heh https://t.co/UbHul2wgjM\", \"@CazzRS Stop posting my password on twitter!\", \"@PPathole @Teslarati Yes, rather embarrassing tbh\", \"@Tesla In close traffic, poisonous gas spewing from the car in front of you goes straight into your AC intake. Good thing gas/diesel carmakers didn't cheat on their emissions or we'd be in real trouble \", \"@wonderofscience Damn ...\", \"Told you AI was dangerous!!  https://t.co/BBTEYJP0Qz\", \"@nytimes You have been warned https://t.co/11CHFHUdr1\", \"Some secrets are too dangerous to be free https://t.co/g547UdmiJ7\", \"@rafaelcr @OfWudan Would be odd to expect anything else\", \"@Teslarati Even Toyota, who made the Prius. That is sad.\", \"@TeslaTested So many reporters gave Chanos airtime when he called Tesla a worthless fraud. Now that he has been proven wrong, silence ...\", \"@DiscoverMag Please stop spamming bleak links into a paywall\", \"@cleantechnica The less code, the better! 1 point for adding a line of code, but 2 points for deleting a line. Bloatware is the devil.\", \"@cleantechnica Also, I hate deeply nested classes in C++. Had to be said.\", \"@ICannot_Enough @thirdrowtesla Explains the sad lack of progress in candy research!\"], \"marker\": {\"color\": \"#E45756\"}, \"mode\": \"markers\", \"name\": \"NegativeTweet\", \"showlegend\": true, \"type\": \"scatter\", \"x\": [\"2017-12-20\", \"2018-02-01\", \"2018-02-12\", \"2018-02-21\", \"2018-03-15\", \"2018-03-23\", \"2018-03-23\", \"2018-03-23\", \"2018-03-23\", \"2018-04-02\", \"2018-04-13\", \"2018-05-11\", \"2018-05-14\", \"2018-05-14\", \"2018-05-14\", \"2018-05-14\", \"2018-05-14\", \"2018-05-22\", \"2018-05-22\", \"2018-05-22\", \"2018-05-22\", \"2018-05-22\", \"2018-05-31\", \"2018-06-12\", \"2018-06-19\", \"2018-06-19\", \"2018-06-19\", \"2018-06-19\", \"2018-06-19\", \"2018-06-22\", \"2018-06-27\", \"2018-06-29\", \"2018-07-02\", \"2018-07-05\", \"2018-07-10\", \"2018-07-18\", \"2018-08-13\", \"2018-08-16\", \"2018-08-28\", \"2018-08-28\", \"2018-10-04\", \"2018-10-04\", \"2018-10-05\", \"2018-10-05\", \"2018-10-25\", \"2018-11-29\", \"2018-12-11\", \"2018-12-14\", \"2018-12-19\", \"2019-01-23\", \"2019-01-23\", \"2019-03-06\", \"2019-04-02\", \"2019-04-08\", \"2019-04-15\", \"2019-04-26\", \"2019-04-30\", \"2019-04-30\", \"2019-05-07\", \"2019-05-09\", \"2019-05-10\", \"2019-05-10\", \"2019-05-13\", \"2019-05-17\", \"2019-05-17\", \"2019-05-24\", \"2019-05-30\", \"2019-05-30\", \"2019-06-11\", \"2019-06-11\", \"2019-06-18\", \"2019-06-26\", \"2019-06-26\", \"2019-07-02\", \"2019-07-03\", \"2019-07-08\", \"2019-07-22\", \"2019-07-22\", \"2019-08-15\", \"2019-08-15\", \"2019-08-27\", \"2019-09-04\", \"2019-09-16\", \"2019-09-18\", \"2019-09-20\", \"2019-09-24\", \"2019-11-05\", \"2019-11-18\", \"2019-11-20\", \"2019-12-27\", \"2019-12-30\", \"2019-12-30\", \"2020-01-22\"], \"y\": [328.98, 349.25, 315.73, 333.3, 325.6, 301.54, 301.54, 301.54, 301.54, 252.48, 300.34, 301.06, 291.97, 291.97, 291.97, 291.97, 291.97, 275.01, 275.01, 275.01, 275.01, 275.01, 284.73, 342.77, 352.55, 352.55, 352.55, 352.55, 352.55, 333.63, 344.5, 342.95, 335.07, 309.16, 322.47, 323.85, 356.41, 335.45, 311.86, 311.86, 281.83, 281.83, 261.95, 261.95, 314.86, 341.17, 366.76, 365.71, 332.97, 287.59, 287.59, 276.24, 285.88, 273.2, 266.38, 235.14, 238.69, 238.69, 247.06, 241.98, 239.52, 239.52, 227.01, 211.03, 211.03, 190.63, 188.22, 188.22, 217.1, 217.1, 224.74, 219.27, 219.27, 224.55, 234.9, 230.34, 255.68, 255.68, 215.64, 215.64, 214.08, 220.68, 242.81, 243.49, 240.62, 223.21, 317.22, 349.99, 352.22, 430.38, 414.7, 414.7, 569.56]}],\n",
       "                        {\"template\": {\"data\": {\"bar\": [{\"error_x\": {\"color\": \"#2a3f5f\"}, \"error_y\": {\"color\": \"#2a3f5f\"}, \"marker\": {\"line\": {\"color\": \"#E5ECF6\", \"width\": 0.5}}, \"type\": \"bar\"}], \"barpolar\": [{\"marker\": {\"line\": {\"color\": \"#E5ECF6\", \"width\": 0.5}}, \"type\": \"barpolar\"}], \"carpet\": [{\"aaxis\": {\"endlinecolor\": \"#2a3f5f\", \"gridcolor\": \"white\", \"linecolor\": \"white\", \"minorgridcolor\": \"white\", \"startlinecolor\": \"#2a3f5f\"}, \"baxis\": {\"endlinecolor\": \"#2a3f5f\", \"gridcolor\": \"white\", \"linecolor\": \"white\", \"minorgridcolor\": \"white\", \"startlinecolor\": \"#2a3f5f\"}, \"type\": \"carpet\"}], \"choropleth\": [{\"colorbar\": {\"outlinewidth\": 0, \"ticks\": \"\"}, \"type\": \"choropleth\"}], \"contour\": [{\"colorbar\": {\"outlinewidth\": 0, \"ticks\": \"\"}, \"colorscale\": [[0.0, \"#0d0887\"], [0.1111111111111111, \"#46039f\"], [0.2222222222222222, \"#7201a8\"], [0.3333333333333333, \"#9c179e\"], [0.4444444444444444, \"#bd3786\"], [0.5555555555555556, \"#d8576b\"], [0.6666666666666666, \"#ed7953\"], [0.7777777777777778, \"#fb9f3a\"], [0.8888888888888888, \"#fdca26\"], [1.0, \"#f0f921\"]], \"type\": \"contour\"}], \"contourcarpet\": [{\"colorbar\": {\"outlinewidth\": 0, \"ticks\": \"\"}, \"type\": \"contourcarpet\"}], \"heatmap\": [{\"colorbar\": {\"outlinewidth\": 0, \"ticks\": \"\"}, \"colorscale\": [[0.0, \"#0d0887\"], [0.1111111111111111, \"#46039f\"], [0.2222222222222222, \"#7201a8\"], [0.3333333333333333, \"#9c179e\"], [0.4444444444444444, \"#bd3786\"], [0.5555555555555556, \"#d8576b\"], [0.6666666666666666, \"#ed7953\"], [0.7777777777777778, \"#fb9f3a\"], [0.8888888888888888, \"#fdca26\"], [1.0, \"#f0f921\"]], \"type\": \"heatmap\"}], \"heatmapgl\": [{\"colorbar\": {\"outlinewidth\": 0, \"ticks\": \"\"}, \"colorscale\": [[0.0, \"#0d0887\"], [0.1111111111111111, \"#46039f\"], [0.2222222222222222, \"#7201a8\"], [0.3333333333333333, \"#9c179e\"], [0.4444444444444444, \"#bd3786\"], [0.5555555555555556, \"#d8576b\"], [0.6666666666666666, \"#ed7953\"], [0.7777777777777778, \"#fb9f3a\"], [0.8888888888888888, \"#fdca26\"], [1.0, \"#f0f921\"]], \"type\": \"heatmapgl\"}], \"histogram\": [{\"marker\": {\"colorbar\": {\"outlinewidth\": 0, \"ticks\": \"\"}}, \"type\": \"histogram\"}], \"histogram2d\": [{\"colorbar\": {\"outlinewidth\": 0, \"ticks\": \"\"}, \"colorscale\": [[0.0, \"#0d0887\"], [0.1111111111111111, \"#46039f\"], [0.2222222222222222, \"#7201a8\"], [0.3333333333333333, \"#9c179e\"], [0.4444444444444444, \"#bd3786\"], [0.5555555555555556, \"#d8576b\"], [0.6666666666666666, \"#ed7953\"], [0.7777777777777778, \"#fb9f3a\"], [0.8888888888888888, \"#fdca26\"], [1.0, \"#f0f921\"]], \"type\": \"histogram2d\"}], \"histogram2dcontour\": [{\"colorbar\": {\"outlinewidth\": 0, \"ticks\": \"\"}, \"colorscale\": [[0.0, \"#0d0887\"], [0.1111111111111111, \"#46039f\"], [0.2222222222222222, \"#7201a8\"], [0.3333333333333333, \"#9c179e\"], [0.4444444444444444, \"#bd3786\"], [0.5555555555555556, \"#d8576b\"], [0.6666666666666666, \"#ed7953\"], [0.7777777777777778, \"#fb9f3a\"], [0.8888888888888888, \"#fdca26\"], [1.0, \"#f0f921\"]], \"type\": \"histogram2dcontour\"}], \"mesh3d\": [{\"colorbar\": {\"outlinewidth\": 0, \"ticks\": \"\"}, \"type\": \"mesh3d\"}], \"parcoords\": [{\"line\": {\"colorbar\": {\"outlinewidth\": 0, \"ticks\": \"\"}}, \"type\": \"parcoords\"}], \"pie\": [{\"automargin\": true, \"type\": \"pie\"}], \"scatter\": [{\"marker\": {\"colorbar\": {\"outlinewidth\": 0, \"ticks\": \"\"}}, \"type\": \"scatter\"}], \"scatter3d\": [{\"line\": {\"colorbar\": {\"outlinewidth\": 0, \"ticks\": \"\"}}, \"marker\": {\"colorbar\": {\"outlinewidth\": 0, \"ticks\": \"\"}}, \"type\": \"scatter3d\"}], \"scattercarpet\": [{\"marker\": {\"colorbar\": {\"outlinewidth\": 0, \"ticks\": \"\"}}, \"type\": \"scattercarpet\"}], \"scattergeo\": [{\"marker\": {\"colorbar\": {\"outlinewidth\": 0, \"ticks\": \"\"}}, \"type\": \"scattergeo\"}], \"scattergl\": [{\"marker\": {\"colorbar\": {\"outlinewidth\": 0, \"ticks\": \"\"}}, \"type\": \"scattergl\"}], \"scattermapbox\": [{\"marker\": {\"colorbar\": {\"outlinewidth\": 0, \"ticks\": \"\"}}, \"type\": \"scattermapbox\"}], \"scatterpolar\": [{\"marker\": {\"colorbar\": {\"outlinewidth\": 0, \"ticks\": \"\"}}, \"type\": \"scatterpolar\"}], \"scatterpolargl\": [{\"marker\": {\"colorbar\": {\"outlinewidth\": 0, \"ticks\": \"\"}}, \"type\": \"scatterpolargl\"}], \"scatterternary\": [{\"marker\": {\"colorbar\": {\"outlinewidth\": 0, \"ticks\": \"\"}}, \"type\": \"scatterternary\"}], \"surface\": [{\"colorbar\": {\"outlinewidth\": 0, \"ticks\": \"\"}, \"colorscale\": [[0.0, \"#0d0887\"], [0.1111111111111111, \"#46039f\"], [0.2222222222222222, \"#7201a8\"], [0.3333333333333333, \"#9c179e\"], [0.4444444444444444, \"#bd3786\"], [0.5555555555555556, \"#d8576b\"], [0.6666666666666666, \"#ed7953\"], [0.7777777777777778, \"#fb9f3a\"], [0.8888888888888888, \"#fdca26\"], [1.0, \"#f0f921\"]], \"type\": \"surface\"}], \"table\": [{\"cells\": {\"fill\": {\"color\": \"#EBF0F8\"}, \"line\": {\"color\": \"white\"}}, \"header\": {\"fill\": {\"color\": \"#C8D4E3\"}, \"line\": {\"color\": \"white\"}}, \"type\": \"table\"}]}, \"layout\": {\"annotationdefaults\": {\"arrowcolor\": \"#2a3f5f\", \"arrowhead\": 0, \"arrowwidth\": 1}, \"coloraxis\": {\"colorbar\": {\"outlinewidth\": 0, \"ticks\": \"\"}}, \"colorscale\": {\"diverging\": [[0, \"#8e0152\"], [0.1, \"#c51b7d\"], [0.2, \"#de77ae\"], [0.3, \"#f1b6da\"], [0.4, \"#fde0ef\"], [0.5, \"#f7f7f7\"], [0.6, \"#e6f5d0\"], [0.7, \"#b8e186\"], [0.8, \"#7fbc41\"], [0.9, \"#4d9221\"], [1, \"#276419\"]], \"sequential\": [[0.0, \"#0d0887\"], [0.1111111111111111, \"#46039f\"], [0.2222222222222222, \"#7201a8\"], [0.3333333333333333, \"#9c179e\"], [0.4444444444444444, \"#bd3786\"], [0.5555555555555556, \"#d8576b\"], [0.6666666666666666, \"#ed7953\"], [0.7777777777777778, \"#fb9f3a\"], [0.8888888888888888, \"#fdca26\"], [1.0, \"#f0f921\"]], \"sequentialminus\": [[0.0, \"#0d0887\"], [0.1111111111111111, \"#46039f\"], [0.2222222222222222, \"#7201a8\"], [0.3333333333333333, \"#9c179e\"], [0.4444444444444444, \"#bd3786\"], [0.5555555555555556, \"#d8576b\"], [0.6666666666666666, \"#ed7953\"], [0.7777777777777778, \"#fb9f3a\"], [0.8888888888888888, \"#fdca26\"], [1.0, \"#f0f921\"]]}, \"colorway\": [\"#636efa\", \"#EF553B\", \"#00cc96\", \"#ab63fa\", \"#FFA15A\", \"#19d3f3\", \"#FF6692\", \"#B6E880\", \"#FF97FF\", \"#FECB52\"], \"font\": {\"color\": \"#2a3f5f\"}, \"geo\": {\"bgcolor\": \"white\", \"lakecolor\": \"white\", \"landcolor\": \"#E5ECF6\", \"showlakes\": true, \"showland\": true, \"subunitcolor\": \"white\"}, \"hoverlabel\": {\"align\": \"left\"}, \"hovermode\": \"closest\", \"mapbox\": {\"style\": \"light\"}, \"paper_bgcolor\": \"white\", \"plot_bgcolor\": \"#E5ECF6\", \"polar\": {\"angularaxis\": {\"gridcolor\": \"white\", \"linecolor\": \"white\", \"ticks\": \"\"}, \"bgcolor\": \"#E5ECF6\", \"radialaxis\": {\"gridcolor\": \"white\", \"linecolor\": \"white\", \"ticks\": \"\"}}, \"scene\": {\"xaxis\": {\"backgroundcolor\": \"#E5ECF6\", \"gridcolor\": \"white\", \"gridwidth\": 2, \"linecolor\": \"white\", \"showbackground\": true, \"ticks\": \"\", \"zerolinecolor\": \"white\"}, \"yaxis\": {\"backgroundcolor\": \"#E5ECF6\", \"gridcolor\": \"white\", \"gridwidth\": 2, \"linecolor\": \"white\", \"showbackground\": true, \"ticks\": \"\", \"zerolinecolor\": \"white\"}, \"zaxis\": {\"backgroundcolor\": \"#E5ECF6\", \"gridcolor\": \"white\", \"gridwidth\": 2, \"linecolor\": \"white\", \"showbackground\": true, \"ticks\": \"\", \"zerolinecolor\": \"white\"}}, \"shapedefaults\": {\"line\": {\"color\": \"#2a3f5f\"}}, \"ternary\": {\"aaxis\": {\"gridcolor\": \"white\", \"linecolor\": \"white\", \"ticks\": \"\"}, \"baxis\": {\"gridcolor\": \"white\", \"linecolor\": \"white\", \"ticks\": \"\"}, \"bgcolor\": \"#E5ECF6\", \"caxis\": {\"gridcolor\": \"white\", \"linecolor\": \"white\", \"ticks\": \"\"}}, \"title\": {\"x\": 0.05}, \"xaxis\": {\"automargin\": true, \"gridcolor\": \"white\", \"linecolor\": \"white\", \"ticks\": \"\", \"title\": {\"standoff\": 15}, \"zerolinecolor\": \"white\", \"zerolinewidth\": 2}, \"yaxis\": {\"automargin\": true, \"gridcolor\": \"white\", \"linecolor\": \"white\", \"ticks\": \"\", \"title\": {\"standoff\": 15}, \"zerolinecolor\": \"white\", \"zerolinewidth\": 2}}}, \"title\": {\"text\": \"Tesla Stock Prices v/s Elon Musk Tweets Sentiments\"}},\n",
       "                        {\"responsive\": true}\n",
       "                    ).then(function(){\n",
       "                            \n",
       "var gd = document.getElementById('8e22c093-691e-48f3-ae48-3747af456962');\n",
       "var x = new MutationObserver(function (mutations, observer) {{\n",
       "        var display = window.getComputedStyle(gd).display;\n",
       "        if (!display || display === 'none') {{\n",
       "            console.log([gd, 'removed!']);\n",
       "            Plotly.purge(gd);\n",
       "            observer.disconnect();\n",
       "        }}\n",
       "}});\n",
       "\n",
       "// Listen for the removal of the full notebook cells\n",
       "var notebookContainer = gd.closest('#notebook-container');\n",
       "if (notebookContainer) {{\n",
       "    x.observe(notebookContainer, {childList: true});\n",
       "}}\n",
       "\n",
       "// Listen for the clearing of the current output cell\n",
       "var outputEl = gd.closest('.output');\n",
       "if (outputEl) {{\n",
       "    x.observe(outputEl, {childList: true});\n",
       "}}\n",
       "\n",
       "                        })\n",
       "                };\n",
       "                });\n",
       "            </script>\n",
       "        </div>"
      ]
     },
     "metadata": {},
     "output_type": "display_data"
    }
   ],
   "source": [
    "#StartTweetAnalysis - Start function of Project\n",
    "def maintweetstock():\n",
    "    elontweetdataset=\"user-tweets.jsonl\"\n",
    "    teslastockdataset=\"TSLA.csv\"\n",
    "    dbfile=\"SentimentAnalysis.db\"\n",
    "\n",
    "    conn= create_connection(dbfile,True)\n",
    "    try: \n",
    "        with conn:\n",
    "            processtweetdata(conn,elontweetdataset)\n",
    "            processteslastkdata(conn,teslastockdataset)\n",
    "            calculatetweetscores(conn)\n",
    "\n",
    "        conn.commit()\n",
    "\n",
    "        query_tweetdatapd(conn)\n",
    "        query_telsastkdatapd(conn)\n",
    "        query_tweetscoresapd(conn)\n",
    "        plotpiechart(conn)\n",
    "        plotdailystkprvar(conn)\n",
    "        plotscores(conn)\n",
    "        plotstatisticssa(conn)\n",
    "        plotstatisticssayear(conn)\n",
    "        plotfinalinteract(conn)\n",
    "\n",
    "    except Error as e:\n",
    "        print(e)\n",
    "    finally:\n",
    "        if(conn):\n",
    "            conn.close()\n",
    "\n",
    "\n",
    "##Start by calling explicitly\n",
    "maintweetstock()"
   ]
  },
  {
   "cell_type": "code",
   "execution_count": null,
   "metadata": {},
   "outputs": [],
   "source": []
  }
 ],
 "metadata": {
  "kernelspec": {
   "display_name": "Python 3",
   "language": "python",
   "name": "python3"
  },
  "language_info": {
   "codemirror_mode": {
    "name": "ipython",
    "version": 3
   },
   "file_extension": ".py",
   "mimetype": "text/x-python",
   "name": "python",
   "nbconvert_exporter": "python",
   "pygments_lexer": "ipython3",
   "version": "3.8.5"
  }
 },
 "nbformat": 4,
 "nbformat_minor": 4
}
